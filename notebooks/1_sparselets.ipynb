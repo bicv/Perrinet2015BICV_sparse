{
 "cells": [
  {
   "cell_type": "code",
   "execution_count": 1,
   "metadata": {
    "collapsed": false
   },
   "outputs": [],
   "source": [
    "%load_ext autoreload\n",
    "%autoreload 2\n",
    "\n",
    "from __future__ import division, print_function\n",
    "%matplotlib inline\n",
    "\n",
    "import matplotlib.pyplot as plt\n",
    "\n",
    "import numpy as np\n",
    "np.set_printoptions(precision=4)#, suppress=True)\n",
    "%cd -q ../test/"
   ]
  },
  {
   "cell_type": "markdown",
   "metadata": {},
   "source": [
    "# SparseEdges & SparseLets\n",
    "\n",
    "\n",
    "Our goal here is to test the influence of the size of the image on its sparseness.  \n",
    "\n",
    "This class exploits the SparseEdges package to provide with a sparse representation of edges in images.\n",
    "\n",
    "This notebook reproduces the figure 14.3 of the following paper:\n",
    "\n",
    "~~~~{.bibtex}\n",
    "@inbook{Perrinet15bicv,\n",
    "    author = {Perrinet, Laurent U.},\n",
    "    booktitle = {Biologically-inspired Computer Vision},\n",
    "    chapter = {13},\n",
    "    citeulike-article-id = {13566753},\n",
    "    editor = {Keil, Matthias and Crist\\'{o}bal, Gabriel and Perrinet, Laurent U.},\n",
    "    keywords = {anr-trax, bicv-sparse},\n",
    "    posted-at = {2015-03-31 14:21:35},\n",
    "    priority = {2},\n",
    "    publisher = {Wiley, New-York},\n",
    "    title = {Sparse models},\n",
    "    year = {2015}\n",
    "}\n",
    "~~~~\n",
    "\n",
    "\n",
    "More information is available @ http://nbviewer.ipython.org/github/bicv/SparseEdges/blob/master/SparseEdges.ipynb\n",
    "Tests for the packages are available @ http://nbviewer.ipython.org/github/bicv/SparseEdges/blob/master/test-SparseEdges.ipynb."
   ]
  },
  {
   "cell_type": "markdown",
   "metadata": {},
   "source": [
    "### Effect of parameters on edge extraction: image size\n",
    "\n"
   ]
  },
  {
   "cell_type": "code",
   "execution_count": null,
   "metadata": {
    "collapsed": false
   },
   "outputs": [
    {
     "name": "stdout",
     "output_type": "stream",
     "text": [
      "Overwriting experiment_sparselets.py\n"
     ]
    }
   ],
   "source": [
    "%%writefile experiment_sparselets.py\n",
    "#! /usr/bin/env python\n",
    "# -*- coding: utf8 -*-\n",
    "from __future__ import division, print_function\n",
    "\"\"\"\n",
    "\n",
    "$ python experiment_fig-sparselets.py ./figures\n",
    "\n",
    "$ rm -fr **/SparseLets* **/**/SparseLets* \n",
    "\n",
    "\"\"\"\n",
    "__author__ = \"(c) Laurent Perrinet INT - CNRS\"\n",
    "    \n",
    "from SparseEdges import SparseEdges\n",
    "\n",
    "mps = []\n",
    "sizes = [16, 32, 64, 128, 256]\n",
    "N_image = 32\n",
    "N = 2048\n",
    "\n",
    "for size, size_str in zip(sizes, ['_016', '_032', '_064',  '_128', '']):\n",
    "    mp = SparseEdges('https://raw.githubusercontent.com/bicv/SparseEdges/master/default_param.py')\n",
    "    mp.pe.seed = 42\n",
    "    mp.pe.datapath = 'database/'\n",
    "    mp.set_size((size, size))\n",
    "    downscale_factor = sizes[-1]/size # > 1\n",
    "    mp.pe.N_image = int(N_image*downscale_factor)\n",
    "    mp.pe.N = int(N/downscale_factor**2)\n",
    "    mp.init()\n",
    "    mp.process('SparseLets' + size_str)\n",
    "    mps.append(mp)\n",
    "\n",
    "import matplotlib.pyplot as plt\n",
    "fig_width_pt = 318.67085 # Get this from LaTeX using \\showthe\\columnwidth\n",
    "inches_per_pt = 1.0/72.27               # Convert pt to inches\n",
    "fig_width = fig_width_pt*inches_per_pt  # width in inches\n",
    "fig = plt.figure(figsize=(fig_width, fig_width/1.618))\n",
    "\n",
    "experiments = ['SparseLets_' + '%0.3d' % size for size in sizes]\n",
    "experiments[-1] = 'SparseLets'\n",
    "databases = ['serre07_distractors'] * len(experiments)\n",
    "labels = [str(size) for size in sizes]\n",
    "fig, ax, inset = mp.plot(fig=fig, mps=mps, experiments=experiments, databases=databases, \n",
    "                  labels=labels, scale=True)    \n",
    "\n",
    "mp.savefig(fig, 'SparseLets_B', figpath = '../figures/')"
   ]
  },
  {
   "cell_type": "code",
   "execution_count": null,
   "metadata": {
    "collapsed": false,
    "scrolled": false
   },
   "outputs": [
    {
     "name": "stdout",
     "output_type": "stream",
     "text": [
      "Checking dependence in serre07_distractors_SparseLets_032\n",
      "------------------------------------------------------------\n",
      "Entropy: 1.42464500002\n",
      "------------------------------------------------------------\n",
      "------------------------------------------------------------\n",
      "[['d', 'phi', 'theta', 'scale']] KL= 0.00000 ; 0.000\n",
      "[['phi', 'theta', 'scale'], ['d']] KL= 0.25564 ; 17.944\n",
      "[['theta', 'scale', 'd'], ['phi']] KL= 0.27418 ; 19.245\n",
      "[['scale', 'd', 'phi'], ['theta']] KL= 0.30299 ; 21.268\n",
      "[['d', 'phi', 'theta'], ['scale']] KL= 0.17443 ; 12.244\n",
      "[['phi', 'theta'], ['scale', 'd']] KL= 0.29111 ; 20.434\n",
      "[['theta', 'scale'], ['d', 'phi']] KL= 0.30524 ; 21.426\n",
      "[['scale', 'phi'], ['d', 'theta']] KL= 0.29980 ; 21.044\n",
      "[['phi', 'theta'], ['scale'], ['d']] KL= 0.29621 ; 20.792\n",
      "[['theta', 'scale'], ['d'], ['phi']] KL= 0.31241 ; 21.929\n",
      "[['scale', 'd'], ['phi'], ['theta']] KL= 0.31679 ; 22.237\n",
      "[['d', 'phi'], ['theta'], ['scale']] KL= 0.31473 ; 22.092\n",
      "[['d'], ['phi'], ['theta'], ['scale']] KL= 0.32190 ; 22.595\n",
      "------------------------------------------------------------\n",
      "\n",
      "Checking dependence in serre07_distractors_SparseLets_064\n",
      "------------------------------------------------------------\n",
      "Entropy: 1.77553332255\n",
      "------------------------------------------------------------\n",
      "------------------------------------------------------------\n",
      "[['d', 'phi', 'theta', 'scale']] KL= 0.00000 ; 0.000\n",
      "[['phi', 'theta', 'scale'], ['d']] KL= 0.37923 ; 21.358\n",
      "[['theta', 'scale', 'd'], ['phi']] KL= 0.42213 ; 23.775\n",
      "[['scale', 'd', 'phi'], ['theta']] KL= 0.45150 ; 25.429\n",
      "[['d', 'phi', 'theta'], ['scale']] KL= 0.15669 ; 8.825\n",
      "[['phi', 'theta'], ['scale', 'd']] KL= 0.43756 ; 24.644\n",
      "[['theta', 'scale'], ['d', 'phi']] KL= 0.46029 ; 25.924\n",
      "[['scale', 'phi'], ['d', 'theta']] KL= 0.45809 ; 25.800\n",
      "[['phi', 'theta'], ['scale'], ['d']] KL= 0.43913 ; 24.732\n",
      "[['theta', 'scale'], ['d'], ['phi']] KL= 0.47327 ; 26.655\n",
      "[['scale', 'd'], ['phi'], ['theta']] KL= 0.48103 ; 27.092\n",
      "[['d', 'phi'], ['theta'], ['scale']] KL= 0.46963 ; 26.450\n",
      "[['d'], ['phi'], ['theta'], ['scale']] KL= 0.48260 ; 27.181\n",
      "------------------------------------------------------------\n",
      "\n",
      "Checking dependence in serre07_distractors_SparseLets_128\n",
      "------------------------------------------------------------\n",
      "Entropy: 1.18909032285\n",
      "------------------------------------------------------------\n",
      "------------------------------------------------------------\n",
      "[['d', 'phi', 'theta', 'scale']] KL= 0.00000 ; 0.000\n",
      "[['phi', 'theta', 'scale'], ['d']] KL= 0.00575 ; 0.484\n",
      "[['theta', 'scale', 'd'], ['phi']] KL= 0.00792 ; 0.666\n",
      "[['scale', 'd', 'phi'], ['theta']] KL= 0.00860 ; 0.723\n",
      "[['d', 'phi', 'theta'], ['scale']] KL= 0.00518 ; 0.436\n",
      "[['phi', 'theta'], ['scale', 'd']] KL= 0.00456 ; 0.384\n",
      "[['theta', 'scale'], ['d', 'phi']] KL= 0.01060 ; 0.891\n",
      "[['scale', 'phi'], ['d', 'theta']] KL= 0.01076 ; 0.905\n",
      "[['phi', 'theta'], ['scale'], ['d']] KL= 0.00680 ; 0.572\n",
      "[['theta', 'scale'], ['d'], ['phi']] KL= 0.01074 ; 0.903\n",
      "[['scale', 'd'], ['phi'], ['theta']] KL= 0.00897 ; 0.754\n",
      "[['d', 'phi'], ['theta'], ['scale']] KL= 0.01106 ; 0.930\n",
      "[['d'], ['phi'], ['theta'], ['scale']] KL= 0.01120 ; 0.942\n",
      "------------------------------------------------------------\n",
      "\n"
     ]
    }
   ],
   "source": [
    "%run experiment_sparselets.py\n",
    "fig"
   ]
  },
  {
   "cell_type": "markdown",
   "metadata": {},
   "source": [
    "## some book keeping for the notebook"
   ]
  },
  {
   "cell_type": "code",
   "execution_count": null,
   "metadata": {
    "collapsed": false
   },
   "outputs": [],
   "source": [
    "import version_information, watermark"
   ]
  },
  {
   "cell_type": "code",
   "execution_count": null,
   "metadata": {
    "collapsed": false
   },
   "outputs": [],
   "source": [
    "%watermark"
   ]
  },
  {
   "cell_type": "code",
   "execution_count": null,
   "metadata": {
    "collapsed": false
   },
   "outputs": [],
   "source": [
    "%version_information numpy, scipy, matplotlib"
   ]
  },
  {
   "cell_type": "code",
   "execution_count": null,
   "metadata": {
    "collapsed": false
   },
   "outputs": [],
   "source": [
    "%cd -q ../notebooks"
   ]
  }
 ],
 "metadata": {
  "kernelspec": {
   "display_name": "Python 3",
   "language": "python",
   "name": "python3"
  },
  "language_info": {
   "codemirror_mode": {
    "name": "ipython",
    "version": 3
   },
   "file_extension": ".py",
   "mimetype": "text/x-python",
   "name": "python",
   "nbconvert_exporter": "python",
   "pygments_lexer": "ipython3",
   "version": "3.6.0"
  }
 },
 "nbformat": 4,
 "nbformat_minor": 0
}
