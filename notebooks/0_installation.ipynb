{
 "cells": [
  {
   "cell_type": "markdown",
   "metadata": {},
   "source": [
    "# installation instructions\n",
    "\n",
    "All scripts use the python programming language. On Linux, this is preinstalled and straightforward to install. On MacOs, I recommend using [HomeBrew](http://brew.sh), and a full python toolchain is easily installable using configuration scripts asuch as [this one](https://github.com/laurentperrinet/config-scripts/blob/master/osx_brew_python.sh). The following libraries are necessary to run the notebooks :"
   ]
  },
  {
   "cell_type": "markdown",
   "metadata": {},
   "source": [
    "## numpy\n",
    "\n",
    "All algorithms are using extensively the `numpy` library.\n"
   ]
  },
  {
   "cell_type": "code",
   "execution_count": null,
   "metadata": {},
   "outputs": [],
   "source": [
    "!pip3 install -U numpy"
   ]
  },
  {
   "cell_type": "markdown",
   "metadata": {},
   "source": [
    "## SparseEdges\n",
    "\n",
    "The sparse coding is performed by the [SparseEdges](https://github.com/laurentperrinet/SparseEdges) library which is documented at https://pythonhosted.org/SparseEdges.\n",
    "\n",
    "It depends on a multi-resolution approach implemented in the [LogGabor](https://github.com/laurentperrinet/LogGabor) package and documented at https://pythonhosted.org/LogGabor and uses the image processing tools from the [SLIP](https://github.com/laurentperrinet/SLIP) library.\n",
    "\n",
    "\n"
   ]
  },
  {
   "cell_type": "code",
   "execution_count": null,
   "metadata": {
    "collapsed": true
   },
   "outputs": [],
   "source": [
    "!pip3 install git+https://github.com/bicv/SLIP.git\n",
    "!pip3 install git+https://github.com/bicv/LogGabor.git\n",
    "!pip3 install git+https://github.com/bicv/SparseEdges.git"
   ]
  },
  {
   "cell_type": "markdown",
   "metadata": {},
   "source": [
    "# jupyter\n",
    "\n",
    "To install the notebook utility use:\n"
   ]
  },
  {
   "cell_type": "code",
   "execution_count": null,
   "metadata": {},
   "outputs": [],
   "source": [
    "!pip3 install jupyter"
   ]
  },
  {
   "cell_type": "markdown",
   "metadata": {},
   "source": [
    "and then to start it, run in a terminal:\n",
    "\n",
    "``\n",
    "jupyter notebook\n",
    "``\n",
    "\n",
    "Another solution is to use the [nteract](https://github.com/nteract) software:"
   ]
  },
  {
   "cell_type": "code",
   "execution_count": null,
   "metadata": {},
   "outputs": [],
   "source": [
    "!brew cask install nteract"
   ]
  },
  {
   "cell_type": "markdown",
   "metadata": {},
   "source": [
    "# matplotlib\n",
    "\n",
    "Most plot are done with the `matplotlib` library:"
   ]
  },
  {
   "cell_type": "code",
   "execution_count": null,
   "metadata": {},
   "outputs": [],
   "source": [
    "!pip3 install -U matplotlib"
   ]
  },
  {
   "cell_type": "markdown",
   "metadata": {},
   "source": [
    "## tikzmagic\n",
    "\n",
    "I use the tikmagic described in http://blog.invibe.net/posts/2015-01-20-using-tikzmagic.html\n",
    "This is an extension for the jupyter notebooks to handle TIKZ plots interactively: check out https://github.com/robjstan/tikzmagic :"
   ]
  },
  {
   "cell_type": "code",
   "execution_count": null,
   "metadata": {},
   "outputs": [],
   "source": [
    "#!pip3 install git+https://raw.githubusercontent.com/laurentperrinet/ipython_magics\n",
    "!pip3 install git+git://github.com/robjstan/tikzmagic.git"
   ]
  },
  {
   "cell_type": "code",
   "execution_count": null,
   "metadata": {
    "collapsed": true
   },
   "outputs": [],
   "source": [
    "import tikzmagic"
   ]
  },
  {
   "cell_type": "code",
   "execution_count": null,
   "metadata": {},
   "outputs": [],
   "source": [
    "%%tikz -p 'tkz-euclide' -x '\\usetkzobj{{all}}' --debug\n",
    "\n",
    "\\draw[thick, color=gray,->] (-15,0) -- (12,0) node[right] {\\textcolor{black}{$x$}};\n",
    "\\draw[thick, color=gray, ->] (0,-6) -- (0,12) node[above] {\\textcolor{black}{$y$}};\n",
    "\\node[circle,fill=black,inner sep=0pt,minimum size=3pt,label=left:{$C_1$}] (C1) at (-6,4) {};\n",
    "\\node[circle,fill=black,inner sep=0pt,minimum size=3pt,label=right:{$C_2$}] (C2) at (2,1) {};  \n",
    "\\node[circle,fill=black,inner sep=0pt,minimum size=3pt,label=above:{$~~A$}] (A) at (15/73,478/73) {};\n",
    "\\node[circle,fill=black,inner sep=0pt,minimum size=3pt,label=below:{$B~$}] (B) at (-3,-2) {};       \n",
    "\\node at (-14, 4) {$K_1$};\n",
    "\\node at (9, -1) {$K_2$};\n",
    "\\draw[gray] (C1) -- (C2);\n",
    "\\draw[blue] (C1) --(B);\n",
    "\\draw[red] (C2) --(B);\n",
    "\\draw[blue] (C1) --(A);\n",
    "\\draw[red] (C2) --(A);\n",
    "\\draw (C1) circle (6.7082);\n",
    "\\draw (C2) circle (3.83095);\n",
    "\\tkzMarkSegment[color=blue,pos=.5,mark=||](C1,B);\n",
    "\\tkzMarkSegment[color=red,pos=.5,mark=|](B,C2);\n",
    "\\tkzMarkSegment[color=blue,pos=.5,mark=||](C1,A);\n",
    "\\tkzMarkSegment[color=red,pos=.5,mark=|](A,C2);\n",
    "\\tkzMarkRightAngle[size=0.7](C1,A,C2);\n",
    "\\tkzMarkRightAngle[size=0.7](C1,B,C2);"
   ]
  },
  {
   "cell_type": "markdown",
   "metadata": {},
   "source": [
    "## additional libraries\n",
    "\n",
    "I use `convert` to code PDF figures into images :"
   ]
  },
  {
   "cell_type": "code",
   "execution_count": null,
   "metadata": {},
   "outputs": [],
   "source": [
    "!brew install imagemagick"
   ]
  },
  {
   "cell_type": "markdown",
   "metadata": {},
   "source": [
    "## version control"
   ]
  },
  {
   "cell_type": "code",
   "execution_count": null,
   "metadata": {},
   "outputs": [],
   "source": [
    "!git status"
   ]
  },
  {
   "cell_type": "code",
   "execution_count": null,
   "metadata": {},
   "outputs": [],
   "source": [
    "!git commit -m' adding a notebook describing the installation of libraries ' \n",
    "#! git push"
   ]
  }
 ],
 "metadata": {
  "kernelspec": {
   "display_name": "Python 3",
   "language": "python",
   "name": "python3"
  },
  "language_info": {
   "codemirror_mode": {
    "name": "ipython",
    "version": 3
   },
   "file_extension": ".py",
   "mimetype": "text/x-python",
   "name": "python",
   "nbconvert_exporter": "python",
   "pygments_lexer": "ipython3",
   "version": "3.6.5"
  },
  "toc": {
   "base_numbering": 1,
   "nav_menu": {},
   "number_sections": true,
   "sideBar": true,
   "skip_h1_title": false,
   "title_cell": "Table of Contents",
   "title_sidebar": "Contents",
   "toc_cell": false,
   "toc_position": {},
   "toc_section_display": true,
   "toc_window_display": false
  }
 },
 "nbformat": 4,
 "nbformat_minor": 2
}
