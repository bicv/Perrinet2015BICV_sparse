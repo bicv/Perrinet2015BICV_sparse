{
 "cells": [
  {
   "cell_type": "markdown",
   "metadata": {
    "outputExpanded": false
   },
   "source": [
    "# master simulations\n",
    "\n",
    "All simulations needed for Phasics imagelets:\n",
    "\n",
    "1. taking a bunch of images \n",
    "2. compute edges and\n",
    "3. then doing statistics on that\n",
    "4. to see if we can classify them.\n",
    "\n",
    "## types of simulations \n",
    "\n",
    "We do different levels of simulations:\n",
    "\n",
    "- the basic one with defaults parameters\n",
    "- testing diferent control parameters at the level of the co-occurence descriptor\n",
    "- testing different parameters for parameter extraction\n"
   ]
  },
  {
   "cell_type": "code",
   "execution_count": null,
   "metadata": {
    "collapsed": false,
    "outputExpanded": false
   },
   "outputs": [],
   "source": [
    "%load_ext autoreload\n",
    "%autoreload 2"
   ]
  },
  {
   "cell_type": "markdown",
   "metadata": {
    "outputExpanded": false
   },
   "source": [
    "# running everything"
   ]
  },
  {
   "cell_type": "code",
   "execution_count": null,
   "metadata": {
    "collapsed": false
   },
   "outputs": [],
   "source": [
    "experiment_folder = 'BICV-Sparse'\n",
    "\n",
    "cluster = False\n",
    "cluster = True\n",
    "\n",
    "if cluster:\n",
    "    try:\n",
    "        from INT_cluster import Frioul\n",
    "        k = Frioul(experiment_folder, N_jobs = 64)\n",
    "    except Exception:\n",
    "        cluster = False\n",
    "\n",
    "do_update = True\n",
    "do_update = False\n",
    "\n",
    "do_cleanup = True\n",
    "do_cleanup = False\n",
    "\n",
    "do_run = True\n",
    "do_run = False\n",
    "\n",
    "experiments = ['experiment_' + name +  '.py' for name in ['sparselets', 'efficiency', 'firstorder']]#, 'secondorder']]\n",
    "#experiments = ['experiment_' + name +  '.py' for name in ['sparselets']]"
   ]
  },
  {
   "cell_type": "code",
   "execution_count": null,
   "metadata": {
    "collapsed": false,
    "outputExpanded": false
   },
   "outputs": [],
   "source": [
    "if cluster and do_cleanup:\n",
    "    for cmd in [\n",
    "        #\"rm -fr results data_cache \",\n",
    "        #\"find . -name *sparselets* -exec rm -fr {} \\\\;\",\n",
    "        \"find . -name *lock* -exec rm -fr {} \\\\;\",\n",
    "        #\"touch frioul; rm frioul* \",\n",
    "        ]:\n",
    "        print(k.run_on_cluster(cmd))\n",
    "\n",
    "\n",
    "# preparing\n",
    "if do_run:\n",
    "    # RUNNING\n",
    "    k.push_to_cluster()\n",
    "    for experiment in experiments:\n",
    "        if cluster:\n",
    "            fullcmd = 'ipython {experiment}'.format(experiment=experiment)\n",
    "            for cmd in [\n",
    "                \"frioul_batch  -M {N_jobs} '{cmd}' \".format(N_jobs=k.N_jobs, cmd=fullcmd), \n",
    "                \"frioul_list_jobs -v |grep job_array_id |uniq -c\",\n",
    "                        ]:\n",
    "                print(k.run_on_cluster(cmd))\n",
    "        else:\n",
    "            fullcmd = 'ipython3 {experiment}'.format(experiment=experiment)\n",
    "            run_cmd (fullcmd)"
   ]
  },
  {
   "cell_type": "raw",
   "metadata": {
    "collapsed": false
   },
   "source": [
    "!ssh perrinet.l@frioul.int.univ-amu.fr \"cd /hpc/invibe/perrinet.l/science/BICV-Sparse/ ; find . -name *first* -exec ls -l {} \\\\; \""
   ]
  },
  {
   "cell_type": "code",
   "execution_count": null,
   "metadata": {
    "collapsed": false,
    "scrolled": false
   },
   "outputs": [],
   "source": [
    "# GETTING the data\n",
    "import time, os\n",
    "if cluster:\n",
    "    while True:    \n",
    "        print(k.pull_from_cluster())\n",
    "        print(k.run_on_cluster(\"tail -n 10 {}\".format(os.path.join(k.PATH, 'debug.log'))))\n",
    "        print(k.run_on_cluster(\"frioul_list_jobs -v |grep job_array_id |uniq -c\"))\n",
    "        locks = k.run_cmd (\"find ../test -name *lock -exec ls -l {} \\;\")\n",
    "        print(locks)\n",
    "        if len(locks) == 0: break\n",
    "        time.sleep(100)"
   ]
  },
  {
   "cell_type": "raw",
   "metadata": {
    "collapsed": false
   },
   "source": [
    "k.push_to_cluster()"
   ]
  }
 ],
 "metadata": {
  "kernel_info": {
   "name": "python3"
  },
  "kernelspec": {
   "display_name": "Python 3",
   "language": "python",
   "name": "python3"
  },
  "language_info": {
   "codemirror_mode": {
    "name": "ipython",
    "version": 3
   },
   "file_extension": ".py",
   "mimetype": "text/x-python",
   "name": "python",
   "nbconvert_exporter": "python",
   "pygments_lexer": "ipython3",
   "version": "3.6.0"
  }
 },
 "nbformat": 4,
 "nbformat_minor": 0
}
