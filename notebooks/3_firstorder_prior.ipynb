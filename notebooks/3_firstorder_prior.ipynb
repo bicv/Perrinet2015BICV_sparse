{
 "cells": [
  {
   "cell_type": "code",
   "execution_count": 1,
   "metadata": {
    "collapsed": false
   },
   "outputs": [],
   "source": [
    "%load_ext autoreload\n",
    "%autoreload 2\n",
    "\n",
    "from __future__ import division, print_function\n",
    "#%matplotlib inline\n",
    "\n",
    "import os\n",
    "import matplotlib.pyplot as plt\n",
    "\n",
    "import numpy as np\n",
    "np.set_printoptions(precision=4, suppress=True)\n",
    "%cd -q ../test/"
   ]
  },
  {
   "cell_type": "markdown",
   "metadata": {},
   "source": [
    "## Running simulations on using the Prior on first-order distribution of orientations"
   ]
  },
  {
   "cell_type": "code",
   "execution_count": 2,
   "metadata": {
    "collapsed": false
   },
   "outputs": [
    {
     "name": "stdout",
     "output_type": "stream",
     "text": [
      "Overwriting experiment_firstorder.py\n"
     ]
    }
   ],
   "source": [
    "%%writefile experiment_firstorder.py\n",
    "# -*- coding: utf8 -*-\n",
    "from __future__ import division, print_function\n",
    "\"\"\"\n",
    "\n",
    "$ python experiment_fig-firstorder.py\n",
    "\n",
    "\"\"\"\n",
    "import numpy as np\n",
    "from SparseEdges import SparseEdges\n",
    "seed, N_image, N = 21341353, 100, 1024\n",
    "name_database = 'serre07_distractors'\n",
    "\n",
    "mp = SparseEdges('https://raw.githubusercontent.com/bicv/SparseEdges/master/default_param.py')\n",
    "mp.pe.datapath = 'database/'\n",
    "mp.pe.seed = seed # this ensures that all image lists are the same for the different experiments\n",
    "mp.pe.N_image = N_image\n",
    "mp.pe.N = N\n",
    "\n",
    "# control experiment\n",
    "print ('Range of spatial frequencies: ', mp.sf_0)\n",
    "print ('Range of angles: ', mp.theta*180./np.pi)\n",
    "imageslist, edgeslist, RMSE = mp.process(exp='prior_vanilla', name_database=name_database)\n",
    "\n",
    "try:\n",
    "    #imageslist_noise, edgeslist_noise, RMSE_noise = mp.process(exp='prior_vanilla_noise_' + str(mp.pe.noise).replace('.', '_'), name_database=name_database, noise=mp.pe.noise)\n",
    "\n",
    "    #mp.MP_rho = .994304364466\n",
    "    #imageslist, edgeslist, RMSE = mp.process(exp='prior_quant', name_database=name_database)\n",
    "    #mp.MP_rho = None\n",
    "\n",
    "    # first-order prior\n",
    "    \n",
    "    # TODO: make B_theta vary\n",
    "    \n",
    "    v_hist, v_theta_edges = mp.histedges_theta(edgeslist, display=False)\n",
    "    v_theta_middles, v_theta_bin  = (v_theta_edges[1:]+v_theta_edges[:-1])/2, v_theta_edges[1]-v_theta_edges[0]\n",
    "    v_hist, v_theta_edges = mp.histedges_theta(edgeslist, display=False)\n",
    "    v_theta_middles, v_theta_bin  = (v_theta_edges[1:]+v_theta_edges[:-1])/2, v_theta_edges[1]-v_theta_edges[0]\n",
    "\n",
    "    z = np.linspace(0, 1., mp.pe.n_theta+1)\n",
    "    P = np.cumsum(np.hstack((0, v_hist[-1]/2, v_hist[:-1], v_hist[-1]/2)))\n",
    "    theta_prior = np.interp(z, P, np.hstack((v_theta_edges[0]-v_theta_bin/2, v_theta_edges[:-1], v_theta_edges[-1]-v_theta_bin/2)))\n",
    "    print('Min', theta_prior.min()*180/np.pi, ', Max=', theta_prior.max()*180/np.pi)\n",
    "\n",
    "    mp_prior = SparseEdges('https://raw.githubusercontent.com/bicv/SparseEdges/master/default_param.py')\n",
    "    mp_prior.pe.datapath = 'database/'\n",
    "    mp_prior.pe.seed = seed # this ensures that all image lists are the same for the different experiments\n",
    "    mp_prior.pe.N_image = N_image\n",
    "    mp_prior.pe.N = N\n",
    "    mp_prior.theta = theta_prior[1:]\n",
    "    print('orientations used in the coding process=', mp_prior.theta*180./np.pi)\n",
    "\n",
    "    imageslist, edgeslist, RMSE =  mp_prior.process(exp='prior_firstorder', name_database=name_database)\n",
    "    #mp.MP_rho = .994304364466\n",
    "    #imageslist, edgeslist, RMSE = mp.process(exp='prior_quant_firstorder', name_database=name_database)\n",
    "    #mp.MP_rho = None\n",
    "    #imageslist_noise, edgeslist_noise, RMSE_noise = mp.process(exp='prior_firstorder_noise_' + str(mp.pe.noise).replace('.', '_'), name_database=name_database, noise=mp.pe.noise)\n",
    "    #except:\n",
    "    #    print('run again once first batches are finished ')\n",
    "\n",
    "\n",
    "\n",
    "except TypeError:\n",
    "    print('Extraction not finished')\n"
   ]
  },
  {
   "cell_type": "code",
   "execution_count": 3,
   "metadata": {
    "collapsed": false,
    "scrolled": true
   },
   "outputs": [
    {
     "name": "stdout",
     "output_type": "stream",
     "text": [
      "Range of spatial frequencies:  [ 0.618   0.382   0.2361  0.1459  0.0902  0.0557  0.0344  0.0213  0.0132\n",
      "  0.0081  0.005 ]\n",
      "Range of angles:  [-82.5 -75.  -67.5 -60.  -52.5 -45.  -37.5 -30.  -22.5 -15.   -7.5   0.\n",
      "   7.5  15.   22.5  30.   37.5  45.   52.5  60.   67.5  75.   82.5  90. ]\n",
      "Min -90.0 , Max= 90.0\n",
      "orientations used in the coding process= [-87.5185 -82.8214 -74.3682 -63.647  -53.0499 -42.6165 -32.4516 -22.9408\n",
      " -14.4127  -7.9829  -3.1588  -0.4187   2.3215   6.5265  12.7986  21.3737\n",
      "  30.9623  41.1997  52.2177  63.0158  73.6001  82.5896  87.5185  90.    ]\n"
     ]
    }
   ],
   "source": [
    "%run experiment_firstorder.py"
   ]
  },
  {
   "cell_type": "markdown",
   "metadata": {},
   "source": [
    "## Analysing results on using the Prior on first-order distribution of orientations"
   ]
  },
  {
   "cell_type": "markdown",
   "metadata": {},
   "source": [
    "First, we retrieve edges from a prior edge extraction"
   ]
  },
  {
   "cell_type": "raw",
   "metadata": {},
   "source": [
    "imageslist, edgeslist, RMSE = mp.process(exp='prior_vanilla_noise_' + str(mp.pe.noise).replace('.', '_'), name_database=name_database_)"
   ]
  },
  {
   "cell_type": "code",
   "execution_count": 4,
   "metadata": {
    "collapsed": false
   },
   "outputs": [],
   "source": [
    "import numpy as np\n",
    "from SparseEdges import SparseEdges\n",
    "seed, N_image, N = 21341353, 100, 1024\n",
    "name_database = 'serre07_distractors'\n",
    "\n",
    "mp = SparseEdges('https://raw.githubusercontent.com/bicv/SparseEdges/master/default_param.py')\n",
    "mp.pe.datapath = 'database/'\n",
    "mp.pe.seed = seed # this ensures that all image lists are the same for the different experiments\n",
    "mp.pe.N_image = N_image\n",
    "mp.pe.N = N\n",
    "\n",
    "imageslist, edgeslist, RMSE = mp.process(exp='prior_vanilla', name_database=name_database)"
   ]
  },
  {
   "cell_type": "code",
   "execution_count": 5,
   "metadata": {
    "collapsed": true
   },
   "outputs": [],
   "source": [
    "fig_width_pt = 318.670  # Get this from LaTeX using \\showthe\\columnwidth\n",
    "inches_per_pt = 1.0/72.27               # Convert pt to inches\n",
    "fig_width = fig_width_pt*inches_per_pt  # width in inches\n",
    "mp.pe.figpath = '../test/results'\n",
    "mp.pe.figpath = '../figures'"
   ]
  },
  {
   "cell_type": "code",
   "execution_count": 6,
   "metadata": {
    "collapsed": false
   },
   "outputs": [],
   "source": [
    "fig = plt.figure(figsize=(fig_width/1.618, fig_width/1.618))\n",
    "ax = fig.add_subplot(111, axisbg='w', polar=True)\n",
    "fig, ax = mp.histedges_theta(edgeslist, fig=fig, ax=ax)\n",
    "v_hist, v_theta_edges = mp.histedges_theta(edgeslist, display=False)\n",
    "ax.plot(v_theta_edges, np.ones_like(v_theta_edges)*np.sqrt(v_hist.mean()), 'r--')\n",
    "ax.plot(v_theta_edges+np.pi, np.ones_like(v_theta_edges)*np.sqrt(v_hist.mean()), 'r--')\n",
    "\n",
    "mp.savefig(fig, 'firstorder_A');"
   ]
  },
  {
   "cell_type": "code",
   "execution_count": 7,
   "metadata": {
    "collapsed": false
   },
   "outputs": [
    {
     "name": "stdout",
     "output_type": "stream",
     "text": [
      "../figures/firstorder_A.jpg ../figures/firstorder_A.png\r\n",
      "../figures/firstorder_A.pdf ../figures/firstorder_A.svg\r\n"
     ]
    }
   ],
   "source": [
    "!ls ../figures/firstorder_A*"
   ]
  },
  {
   "cell_type": "code",
   "execution_count": 8,
   "metadata": {
    "collapsed": false
   },
   "outputs": [],
   "source": [
    "v_hist, v_theta_edges = mp.histedges_theta(edgeslist, display=False)\n",
    "v_theta_middles, v_theta_bin  = (v_theta_edges[1:]+v_theta_edges[:-1])/2, v_theta_edges[1]-v_theta_edges[0]"
   ]
  },
  {
   "cell_type": "code",
   "execution_count": 9,
   "metadata": {
    "collapsed": false
   },
   "outputs": [
    {
     "name": "stdout",
     "output_type": "stream",
     "text": [
      "angles for the edges of bins (deg) =  [-82.5 -75.  -67.5 -60.  -52.5 -45.  -37.5 -30.  -22.5 -15.   -7.5   0.\n",
      "   7.5  15.   22.5  30.   37.5  45.   52.5  60.   67.5  75.   82.5  90. ]\n",
      "angles for the edges of bins (deg) =  [-86.25 -78.75 -71.25 -63.75 -56.25 -48.75 -41.25 -33.75 -26.25 -18.75\n",
      " -11.25  -3.75   3.75  11.25  18.75  26.25  33.75  41.25  48.75  56.25\n",
      "  63.75  71.25  78.75  86.25  93.75]\n",
      "angles for the edges of bins (deg) =  [-86.25 -78.75 -71.25 -63.75 -56.25 -48.75 -41.25 -33.75 -26.25 -18.75\n",
      " -11.25  -3.75   3.75  11.25  18.75  26.25  33.75  41.25  48.75  56.25\n",
      "  63.75  71.25  78.75  86.25  93.75]\n",
      "angles for the middle of bins (deg) =  [-82.5 -75.  -67.5 -60.  -52.5 -45.  -37.5 -30.  -22.5 -15.   -7.5  -0.\n",
      "   7.5  15.   22.5  30.   37.5  45.   52.5  60.   67.5  75.   82.5  90. ]\n",
      "angles for the center of bins (deg) =  [-90.  -82.5 -75.  -67.5 -60.  -52.5 -45.  -37.5 -30.  -22.5 -15.   -7.5\n",
      "  -0.    7.5  15.   22.5  30.   37.5  45.   52.5  60.   67.5  75.   82.5\n",
      "  90. ]\n"
     ]
    }
   ],
   "source": [
    "print ('angles for the edges of bins (deg) = ', mp.theta*180/np.pi)\n",
    "print ('angles for the edges of bins (deg) = ', mp.binedges_theta*180/np.pi)\n",
    "print ('angles for the edges of bins (deg) = ', v_theta_edges*180/np.pi)\n",
    "print ('angles for the middle of bins (deg) = ', v_theta_middles*180/np.pi)\n",
    "print ('angles for the center of bins (deg) = ', (v_theta_edges-v_theta_bin/2)*180/np.pi)"
   ]
  },
  {
   "cell_type": "markdown",
   "metadata": {},
   "source": [
    "Now, we may use this statistics:\n"
   ]
  },
  {
   "cell_type": "code",
   "execution_count": 10,
   "metadata": {
    "collapsed": false
   },
   "outputs": [],
   "source": [
    "z = np.linspace(0, 1., mp.pe.n_theta+1)\n",
    "P = np.cumsum(np.hstack((0, v_hist[-1]/2, v_hist[:-1], v_hist[-1]/2)))\n",
    "theta_prior = np.interp(z, P, np.hstack((v_theta_edges[0]-v_theta_bin/2, v_theta_edges[:-1], v_theta_edges[-1]-v_theta_bin/2))) #% np.pi"
   ]
  },
  {
   "cell_type": "code",
   "execution_count": 11,
   "metadata": {
    "collapsed": false
   },
   "outputs": [
    {
     "name": "stdout",
     "output_type": "stream",
     "text": [
      "z =  [ 0.0417  0.0833  0.125   0.1667  0.2083  0.25    0.2917  0.3333  0.375\n",
      "  0.4167  0.4583  0.5     0.5417  0.5833  0.625   0.6667  0.7083  0.75\n",
      "  0.7917  0.8333  0.875   0.9167  0.9583  1.    ]\n",
      "P =  [ 0.063   0.1075  0.1374  0.1663  0.1953  0.2259  0.2554  0.2861  0.3182\n",
      "  0.3524  0.3914  0.4493  0.5634  0.6173  0.6547  0.6888  0.7199  0.7502\n",
      "  0.7782  0.8073  0.8362  0.8657  0.8953  0.937   1.    ]\n",
      "uniform angles (deg) =  [-82.5 -75.  -67.5 -60.  -52.5 -45.  -37.5 -30.  -22.5 -15.   -7.5   0.\n",
      "   7.5  15.   22.5  30.   37.5  45.   52.5  60.   67.5  75.   82.5  90. ]\n",
      "prior  angles (deg) =  [-90.     -87.5185 -82.8214 -74.3682 -63.647  -53.0499 -42.6165 -32.4516\n",
      " -22.9408 -14.4127  -7.9829  -3.1588  -0.4187   2.3215   6.5265  12.7986\n",
      "  21.3737  30.9623  41.1997  52.2177  63.0158  73.6001  82.5896  87.5185\n",
      "  90.    ]\n",
      "prior  angles (deg) =  [-87.5185 -82.8214 -74.3682 -63.647  -53.0499 -42.6165 -32.4516 -22.9408\n",
      " -14.4127  -7.9829  -3.1588  -0.4187   2.3215   6.5265  12.7986  21.3737\n",
      "  30.9623  41.1997  52.2177  63.0158  73.6001  82.5896  87.5185  90.    ]\n"
     ]
    }
   ],
   "source": [
    "z = z[1:]\n",
    "P = P[1:]\n",
    "print ('z = ', z)\n",
    "print ('P = ', P)\n",
    "print ('uniform angles (deg) = ', mp.theta*180/np.pi)\n",
    "print ('prior  angles (deg) = ', theta_prior*180/np.pi)\n",
    "print ('prior  angles (deg) = ', mp_prior.theta*180/np.pi)"
   ]
  },
  {
   "cell_type": "code",
   "execution_count": 12,
   "metadata": {
    "collapsed": false
   },
   "outputs": [
    {
     "data": {
      "image/png": "[encoded data removed]",
      "text/plain": [
       "<matplotlib.figure.Figure at 0x11049a780>"
      ]
     },
     "execution_count": 12,
     "metadata": {},
     "output_type": "execute_result"
    }
   ],
   "source": [
    "mp.init_binedges()\n",
    "\n",
    "fig, [[B, C], [A, D]] = plt.subplots(2, 2, figsize=(fig_width, fig_width/1.618), subplot_kw={'axisbg':'w'}, sharex=True)\n",
    "for ax in [A, B, C, D]:\n",
    "    ax.spines['right'].set_visible(False)\n",
    "    ax.spines['top'].set_visible(False)\n",
    "\n",
    "fig.subplots_adjust(wspace=0.1, hspace=0.1,\n",
    "                    left=0.125, right=0.9,\n",
    "                    top=0.9,    bottom=0.175)\n",
    "A.bar(v_theta_edges-v_theta_bin, np.hstack((v_hist[-1], v_hist)), alpha=.6, width=v_theta_bin, align='edge')\n",
    "A.hlines([v_hist.mean()], [v_theta_edges[0]-v_theta_bin/8.], [v_theta_edges[-1]+v_theta_bin/8.], \n",
    "         lw=.5, color='r', linestyle='--',\n",
    "         alpha=.6)\n",
    "plt.setp(A, yticklabels=[], ylabel=r'$p(\\theta)$',#xlim=[v_theta_edges[0]-v_theta_bin/4, v_theta_edges[-1]+v_theta_bin/4], \n",
    "         #xticks=[-np.pi/2, 0, np.pi/2], xticklabels=[r'$\\frac{-\\pi}{2}$', r'$0$', r'$\\frac{\\pi}{2}$'], \n",
    "         xticks=[0, np.pi/2], xticklabels=[r'$0$', r'$\\frac{\\pi}{2}$'], \n",
    "         xlabel=r'$\\theta$ (rad)')\n",
    "B.step(v_theta_edges, P, where='pre')\n",
    "B.vlines(((mp.theta[:-1] + np.pi/2 + v_theta_bin/4)  % np.pi ) - np.pi/2  + v_theta_bin/4, [0], P[1:], lw=.5, color='k', alpha=.6)\n",
    "plt.setp(B, xticks=[], ylim=[0, 1.02], yticks=[0., 0.5, 1.], yticklabels=['0', r'$\\frac{1}{2}$', '1'], ylabel=r'$P(\\theta)$')#, xlim=[v_theta_edges[0], v_theta_edges[-1]]\n",
    "#B.text(-np.pi/2*1.65, 1.05, '(B)')\n",
    "C.plot(v_theta_edges, P)\n",
    "C.hlines(z[:-1], [v_theta_edges[0]-v_theta_bin/2], theta_prior[1:], lw=.5)\n",
    "C.hlines([1], [v_theta_edges[0]-v_theta_bin/2], theta_prior[-1], lw=.5)\n",
    "C.vlines(theta_prior[1:], [0], z[:-1], lw=.5, color='r', alpha=.6)\n",
    "C.vlines(theta_prior[-1], [0], [1], lw=.5, color='r', alpha=.6)\n",
    "#C.text(-np.pi/2*1.1, 1.05, '(C)')\n",
    "bord = 0.03\n",
    "plt.setp(C, ylim=[0,1.02], xticks=[-np.pi/2, 0, np.pi/2], xticklabels=['', '', ''], yticks=[0., 0.5, 1.], yticklabels=['', '', ''],\n",
    "         xlim=[v_theta_edges[0]-v_theta_bin/2-bord, v_theta_edges[-1]-v_theta_bin/2+bord])#\n",
    "#D.axis('tight')\n",
    "#D.vlines((theta_prior + np.pi/2) % np.pi  - np.pi/2, [0], np.ones_like(z), lw=.5, color='r')\n",
    "D.vlines(theta_prior, [0], np.ones_like(z), lw=.5, color='r', alpha=.6)\n",
    "D.vlines([-np.pi/2, np.pi/2], [0], np.ones_like(z), lw=.5, color='r', alpha=.6)\n",
    "#D.vlines(((mp.theta[:-1] + np.pi/2 + v_theta_bin/2)  % np.pi ) - np.pi/2  - v_theta_bin/2, [0], np.ones_like(z), lw=.5, color='k', alpha=.6)\n",
    "#D.plot(theta, np.ones_like(z), ms='^', lw=0, color='r')\n",
    "plt.setp(D, ylim=[0, 1.1], yticks=[], xlim=[v_theta_edges[0]-v_theta_bin/2-bord, v_theta_edges[-1]-v_theta_bin/2+bord], \n",
    "         xticks=[-np.pi/2, 0, np.pi/2], xticklabels=[r'$\\frac{-\\pi}{2}$', r'$0$', r'$\\frac{\\pi}{2}$'], \n",
    "         #xticks=[0, np.pi/2], xticklabels=[r'$0$', r'$\\frac{\\pi}{2}$'], \n",
    "         xlabel=r'$\\theta$ (rad)')\n",
    "#D.text(-np.pi/2*1.1, 1.35, '(D)')\n",
    "mp.savefig(fig, 'laughlin')\n",
    "fig"
   ]
  },
  {
   "cell_type": "raw",
   "metadata": {},
   "source": [
    "!pip install lmfit"
   ]
  },
  {
   "cell_type": "raw",
   "metadata": {},
   "source": [
    "fig, A = plt.subplots(1, 1, figsize=(13, 13), subplot_kw={'axisbg':'w'})\n",
    "from lmfit.models import ExpressionModel\n",
    "#mod = PowerLawModel()\n",
    "mod = ExpressionModel('rho**x')\n",
    "RMSE /= RMSE[:, 0][:, np.newaxis]\n",
    "N = RMSE.shape[1] #number of edges\n",
    "rho = np.zeros(RMSE.shape[0])\n",
    "for i_image in range(RMSE.shape[0]):\n",
    "    #pars = mod.guess(RMSE[i_image, :], x=np.arange(N))\n",
    "    mod.def_vals = {'rho':.99}\n",
    "    out  = mod.fit(RMSE[i_image, :], x=np.arange(N), verbose=False)\n",
    "    #print(out.fit_report(min_correl=0.25))\n",
    "    rho[i_image] =  out.params.get('rho').value\n",
    "    #print 'rho=', rho[i_image]\n",
    "    #N_theta = np.log(threshold)/np.log(rho)\n",
    "    #print N_theta\n",
    "    A.semilogx( RMSE[i_image, :], alpha=.7)\n",
    "    params = mod.make_params(rho=rho[i_image])\n",
    "    A.semilogx(mod.eval(params, x=np.arange(N)), 'r--', alpha=.7)\n",
    "    A.set_xlabel('l0')\n",
    "    A.axis('tight')\n",
    "    A.axis('tight')\n",
    "    _ = A.set_ylabel('RMSE')            \n",
    "\n",
    "print ('rho=', rho.mean(), ', +/- ', rho.std())"
   ]
  },
  {
   "cell_type": "markdown",
   "metadata": {},
   "source": [
    "### analyzing efficiency"
   ]
  },
  {
   "cell_type": "raw",
   "metadata": {},
   "source": [
    "experiments = ['prior_vanilla', 'prior_firstorder', 'prior_vanilla_noise_' + str(mp.pe.noise).replace('.', '_'), 'prior_firstorder_noise_' + str(mp.pe.noise).replace('.', '_')]\n",
    "databases = [name_database_] * len(experiments)\n",
    "labels = ['control', 'with prior', 'noise', 'noise (prior)']\n",
    "mps = [mp] * len(experiments)\n",
    "fig_width = 15\n",
    "fig = plt.figure(figsize=(fig_width/1.618, fig_width/1.618))\n",
    "fig, a, ax = mp.plot(mps=mps, experiments=experiments, databases=databases, fig=fig, labels=labels, \n",
    "                  color=[0., 0., 1.], scale=True)"
   ]
  },
  {
   "cell_type": "code",
   "execution_count": 13,
   "metadata": {
    "collapsed": false
   },
   "outputs": [
    {
     "data": {
      "text/html": [
       "<img src=\"../figures/firstorder_C.svg\" width=100%/>"
      ],
      "text/plain": [
       "<IPython.core.display.HTML object>"
      ]
     },
     "execution_count": 13,
     "metadata": {},
     "output_type": "execute_result"
    }
   ],
   "source": [
    "experiments = ['prior_vanilla', 'prior_firstorder']\n",
    "databases = [name_database] * len(experiments)\n",
    "labels = ['control', 'with prior']\n",
    "mps = [mp, mp_prior]\n",
    "fig = plt.figure(figsize=(fig_width/1.618, fig_width/1.618))\n",
    "fig, a, ax = mp.plot(mps=mps, experiments=experiments, databases=databases, fig=fig, labels=labels, \n",
    "                  color=[0., 0., 1.], threshold=0.3, ref=0, scale=True)\n",
    "mp.savefig(fig, 'firstorder_C')"
   ]
  },
  {
   "cell_type": "raw",
   "metadata": {},
   "source": [
    "experiments = ['prior_quant', 'prior_quant_firstorder']\n",
    "databases = [name_database_] * len(experiments)\n",
    "labels = ['control', 'with prior']\n",
    "mps = [mp] * len(experiments)\n",
    "fig = plt.figure(figsize=(fig_width/1.618, fig_width/1.618))\n",
    "fig, a, ax = mp.plot(mps=mps, experiments=experiments, databases=databases, fig=fig, labels=labels, \n",
    "                  color=[0., 0., 1.], threshold=0.6, ref=0, scale=True)"
   ]
  },
  {
   "cell_type": "code",
   "execution_count": 14,
   "metadata": {
    "collapsed": false
   },
   "outputs": [
    {
     "data": {
      "text/html": [
       "<img src=\"../figures/firstorder_C.svg\" width=100%/>"
      ],
      "text/plain": [
       "<IPython.core.display.HTML object>"
      ]
     },
     "execution_count": 14,
     "metadata": {},
     "output_type": "execute_result"
    }
   ],
   "source": [
    "fig = plt.figure(figsize=(fig_width/1.618, fig_width/1.618))\n",
    "fig, a, ax = mp.plot(mps=mps, experiments=experiments, databases=databases, fig=fig, labels=labels, \n",
    "                  color=[0., 0., 1.], threshold=0.55, ref=0, scale=True)\n",
    "mp.savefig(fig, 'firstorder_C')"
   ]
  },
  {
   "cell_type": "code",
   "execution_count": 15,
   "metadata": {
    "collapsed": false
   },
   "outputs": [
    {
     "data": {
      "text/html": [
       "<img src=\"../figures/firstorder_C.svg\" width=100%/>"
      ],
      "text/plain": [
       "<IPython.core.display.HTML object>"
      ]
     },
     "execution_count": 15,
     "metadata": {},
     "output_type": "execute_result"
    }
   ],
   "source": [
    "fig = plt.figure(figsize=(fig_width/1.618, fig_width/1.618))\n",
    "fig, a, ax = mp.plot(mps=mps, experiments=experiments, databases=databases, fig=fig, labels=labels, \n",
    "                  color=[0., 0., 1.], threshold=0.8, ref=0, scale=True)\n",
    "mp.savefig(fig, 'firstorder_C')"
   ]
  },
  {
   "cell_type": "raw",
   "metadata": {},
   "source": [
    "experiments = ['prior_vanilla_noise_' + str(mp.pe.noise).replace('.', '_'), 'prior_firstorder_noise_' + str(mp.pe.noise).replace('.', '_')]\n",
    "databases = [name_database_] * len(experiments)\n",
    "labels = ['control', 'with prior']\n",
    "mps = [mp] * len(experiments)\n",
    "fig = plt.figure(figsize=(fig_width/1.618, fig_width/1.618))\n",
    "fig, a, ax = mp.plot(mps=mps, experiments=experiments, databases=databases, fig=fig, labels=labels, \n",
    "                  color=[0., 0., 1.], threshold=0.5, ref=0, scale=True)"
   ]
  },
  {
   "cell_type": "code",
   "execution_count": 16,
   "metadata": {
    "collapsed": false
   },
   "outputs": [
    {
     "data": {
      "text/html": [
       "<img src=\"../figures/firstorder_C.svg\" width=100%/>"
      ],
      "text/plain": [
       "<IPython.core.display.HTML object>"
      ]
     },
     "execution_count": 16,
     "metadata": {},
     "output_type": "execute_result"
    }
   ],
   "source": [
    "fig = plt.figure(figsize=(fig_width/1.618, fig_width/1.618))\n",
    "fig, a, ax = mp.plot(mps=mps, experiments=experiments, databases=databases, fig=fig, labels=labels, \n",
    "                  color=[0., 0., 1.], threshold=0.3, ref=0, scale=True)\n",
    "mp.savefig(fig, 'firstorder_C')"
   ]
  },
  {
   "cell_type": "raw",
   "metadata": {},
   "source": [
    "imageslist, edgeslist, RMSE = mp.process(exp='prior_vanilla', name_database=name_database)\n",
    "v_hist, v_theta_edges = mp.histedges_theta(edgeslist, display=False)\n",
    "v_theta_middles, v_theta_bin  = (v_theta_edges[1:]+v_theta_edges[:-1])/2, v_theta_edges[1]-v_theta_edges[0]\n",
    "z = np.linspace(0, 1., mp.pe.n_theta+1)\n",
    "P = np.cumsum(np.hstack((0, v_hist[-1]/2, v_hist[:-1], v_hist[-1]/2)))\n",
    "theta_prior = np.interp(z, P, np.hstack((v_theta_edges[0]-v_theta_bin/2, v_theta_edges[:-1], v_theta_edges[-1]-v_theta_bin/2))) #% np.pi\n",
    "print ('angles (deg) = ', theta_prior*180/np.pi)"
   ]
  },
  {
   "cell_type": "markdown",
   "metadata": {},
   "source": [
    "### verifying the histogram of output orientations"
   ]
  },
  {
   "cell_type": "code",
   "execution_count": 17,
   "metadata": {
    "collapsed": true
   },
   "outputs": [],
   "source": [
    "imageslist, edgeslist, RMSE = mp_prior.process(exp='prior_firstorder', name_database=name_database)"
   ]
  },
  {
   "cell_type": "code",
   "execution_count": 18,
   "metadata": {
    "collapsed": false
   },
   "outputs": [
    {
     "name": "stdout",
     "output_type": "stream",
     "text": [
      "prior angles (deg) =  [-87.5185 -82.8214 -74.3682 -63.647  -53.0499 -42.6165 -32.4516 -22.9408\n",
      " -14.4127  -7.9829  -3.1588  -0.4187   2.3215   6.5265  12.7986  21.3737\n",
      "  30.9623  41.1997  52.2177  63.0158  73.6001  82.5896  87.5185  90.    ]\n",
      "bin angles (deg) =  [-88.7593 -85.1699 -78.5948 -69.0076 -58.3484 -47.8332 -37.534  -27.6962\n",
      " -18.6768 -11.1978  -5.5709  -1.7887   0.9514   4.424    9.6625  17.0862\n",
      "  26.168   36.081   46.7087  57.6168  68.3079  78.0948  85.054   88.7593\n",
      "  91.2407]\n",
      "Min -87.5185076462 , Max= 90.0\n",
      "selected angles (deg) =  [-87.5185 -82.8214 -74.3682 -63.647  -53.0499 -42.6165 -32.4516 -22.9408\n",
      " -14.4127  -7.9829  -3.1588  -0.4187   2.3215   6.5265  12.7986  21.3737\n",
      "  30.9623  41.1997  52.2177  63.0158  73.6001  82.5896  87.5185  90.    ]\n",
      "diff angles (deg) =  [ 0. -0. -0.  0.  0.  0.  0.  0.  0.  0.  0.  0.  0.  0.  0.  0.  0.  0.\n",
      "  0.  0.  0.  0.  0.  0.]\n",
      "bin angles (deg) =  [-88.7593 -85.1699 -78.5948 -69.0076 -58.3484 -47.8332 -37.534  -27.6962\n",
      " -18.6768 -11.1978  -5.5709  -1.7887   0.9514   4.424    9.6625  17.0862\n",
      "  26.168   36.081   46.7087  57.6168  68.3079  78.0948  85.054   88.7593\n",
      "  91.2407]\n",
      "Histogram = [ 1.0275  0.8367  0.9016  1.0038  1.021   0.9804  1.0033  0.9856  0.9355\n",
      "  0.9539  0.9286  1.2195  1.1766  0.9027  0.8918  1.0181  1.0078  0.9781\n",
      "  1.018   0.9985  0.9477  0.7995  1.1435  1.3202]\n"
     ]
    }
   ],
   "source": [
    "mp_prior.init_binedges()\n",
    "\n",
    "print ('prior angles (deg) = ', mp_prior.theta*180/np.pi)\n",
    "\n",
    "print ('bin angles (deg) = ',  mp_prior.binedges_theta*180/np.pi)\n",
    "\n",
    "theta = edgeslist[2, ...].ravel()\n",
    "value = edgeslist[4, ...].ravel()\n",
    "\n",
    "print('Min', theta.min()*180/np.pi, ', Max=', theta.max()*180/np.pi)\n",
    "print ('selected angles (deg) = ',  np.unique(theta)*180/np.pi)\n",
    "print ('diff angles (deg) = ', (np.unique(theta) - mp_prior.theta) *180/np.pi)\n",
    "\n",
    "weights = np.absolute(value)/(np.absolute(value)).sum()\n",
    "v_hist, v_theta_edges_ = np.histogram(theta, bins=mp_prior.binedges_theta, density=False, weights=weights)\n",
    "print ('bin angles (deg) = ',  v_theta_edges_*180/np.pi)\n",
    "print ('Histogram =', v_hist/v_hist.mean())"
   ]
  },
  {
   "cell_type": "code",
   "execution_count": 19,
   "metadata": {
    "collapsed": false,
    "scrolled": false
   },
   "outputs": [
    {
     "data": {
      "text/html": [
       "<img src=\"results/firstorder_B.svg\" width=100%/>"
      ],
      "text/plain": [
       "<IPython.core.display.HTML object>"
      ]
     },
     "execution_count": 19,
     "metadata": {},
     "output_type": "execute_result"
    }
   ],
   "source": [
    "fig = plt.figure(figsize=(fig_width/1.618, fig_width/1.618))\n",
    "ax = fig.add_subplot(111, axisbg='w', polar=True)\n",
    "fig, ax = mp_prior.histedges_theta(edgeslist, fig=fig, ax=ax)\n",
    "v_hist, v_theta_edges = mp_prior.histedges_theta(edgeslist, display=False)\n",
    "mp_prior.savefig(fig, 'firstorder_B')"
   ]
  },
  {
   "cell_type": "code",
   "execution_count": 20,
   "metadata": {
    "collapsed": false
   },
   "outputs": [
    {
     "name": "stdout",
     "output_type": "stream",
     "text": [
      "[ 0.4786  0.8767  1.2783  1.4212  1.402   1.3732  1.3117  1.2026  0.9972\n",
      "  0.7503  0.5043  0.3653  0.463   0.6985  0.9898  1.2109  1.3217  1.417\n",
      "  1.4544  1.4255  1.3049  0.9279  0.494   0.3309]\n"
     ]
    }
   ],
   "source": [
    "theta_bin = (mp_prior.theta + np.hstack((mp_prior.theta[-1]-np.pi, mp_prior.theta[:-1]))) /2\n",
    "#self.theta[:-1] + self.theta[1:]) / 2. # middles\n",
    "binedges_theta = np.hstack((theta_bin, theta_bin[0]+np.pi))\n",
    "width = binedges_theta[1:] - binedges_theta[:-1]\n",
    "print(width / (np.pi/mp_prior.pe.n_theta))"
   ]
  },
  {
   "cell_type": "code",
   "execution_count": 21,
   "metadata": {
    "collapsed": false
   },
   "outputs": [],
   "source": [
    "%cd -q ../notebooks"
   ]
  },
  {
   "cell_type": "markdown",
   "metadata": {},
   "source": [
    "## some book keeping for the notebook"
   ]
  },
  {
   "cell_type": "code",
   "execution_count": 22,
   "metadata": {
    "collapsed": false
   },
   "outputs": [],
   "source": [
    "import watermark\n",
    "%watermark"
   ]
  },
  {
   "cell_type": "code",
   "execution_count": 23,
   "metadata": {
    "collapsed": false
   },
   "outputs": [],
   "source": [
    "import version_information\n",
    "%version_information numpy, scipy, matplotlib, sympy"
   ]
  }
 ],
 "metadata": {
  "kernelspec": {
   "display_name": "Python 3",
   "language": "python",
   "name": "python3"
  },
  "language_info": {
   "codemirror_mode": {
    "name": "ipython",
    "version": 3
   },
   "file_extension": ".py",
   "mimetype": "text/x-python",
   "name": "python",
   "nbconvert_exporter": "python",
   "pygments_lexer": "ipython3",
   "version": "3.6.0"
  }
 },
 "nbformat": 4,
 "nbformat_minor": 0
}
