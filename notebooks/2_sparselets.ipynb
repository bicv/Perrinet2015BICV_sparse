{
 "cells": [
  {
   "cell_type": "code",
   "execution_count": 1,
   "metadata": {
    "ExecuteTime": {
     "end_time": "2018-06-26T10:41:17.568923Z",
     "start_time": "2018-06-26T10:41:16.747651Z"
    }
   },
   "outputs": [],
   "source": [
    "%load_ext autoreload\n",
    "%autoreload 2\n",
    "%matplotlib inline\n",
    "import matplotlib.pyplot as plt\n",
    "import numpy as np\n",
    "np.set_printoptions(precision=4)#, suppress=True)\n",
    "%cd -q ../test/"
   ]
  },
  {
   "cell_type": "markdown",
   "metadata": {},
   "source": [
    "# SparseEdges & SparseLets\n",
    "\n",
    "\n",
    "Our goal here is to test the influence of the size of the image on its sparseness.  \n",
    "\n",
    "This class exploits the SparseEdges package to provide with a sparse representation of edges in images.\n",
    "\n",
    "This notebook reproduces the figure 14.3 of the following paper:\n",
    "\n",
    "~~~~{.bibtex}\n",
    "@inbook{Perrinet15bicv,\n",
    "    author = {Perrinet, Laurent U.},\n",
    "    booktitle = {Biologically-inspired Computer Vision},\n",
    "    chapter = {13},\n",
    "    citeulike-article-id = {13566753},\n",
    "    editor = {Keil, Matthias and Crist\\'{o}bal, Gabriel and Perrinet, Laurent U.},\n",
    "    keywords = {anr-trax, bicv-sparse},\n",
    "    posted-at = {2015-03-31 14:21:35},\n",
    "    priority = {2},\n",
    "    publisher = {Wiley, New-York},\n",
    "    title = {Sparse models},\n",
    "    year = {2015}\n",
    "}\n",
    "~~~~\n",
    "\n",
    "\n",
    "More information is available @ http://nbviewer.ipython.org/github/bicv/SparseEdges/blob/master/SparseEdges.ipynb\n",
    "Tests for the packages are available @ http://nbviewer.ipython.org/github/bicv/SparseEdges/blob/master/test-SparseEdges.ipynb."
   ]
  },
  {
   "cell_type": "markdown",
   "metadata": {},
   "source": [
    "### Effect of parameters on edge extraction: image size\n",
    "\n"
   ]
  },
  {
   "cell_type": "code",
   "execution_count": 2,
   "metadata": {
    "ExecuteTime": {
     "end_time": "2018-06-26T10:41:17.615189Z",
     "start_time": "2018-06-26T10:41:17.575779Z"
    }
   },
   "outputs": [
    {
     "name": "stdout",
     "output_type": "stream",
     "text": [
      "Overwriting experiment_sparselets.py\n"
     ]
    }
   ],
   "source": [
    "%%writefile experiment_sparselets.py\n",
    "#! /usr/bin/env python\n",
    "# -*- coding: utf8 -*-\n",
    "from __future__ import division, print_function\n",
    "\"\"\"\n",
    "\n",
    "$ python experiment_fig-sparselets.py ./figures\n",
    "\n",
    "$ rm -fr **/SparseLets* **/**/SparseLets* \n",
    "\n",
    "\"\"\"\n",
    "__author__ = \"(c) Laurent Perrinet INT - CNRS\"\n",
    "\n",
    "from SparseEdges import SparseEdges\n",
    "\n",
    "mps = []\n",
    "sizes = [16, 32, 64, 128, 256]\n",
    "N_image = 32\n",
    "N = 2048\n",
    "\n",
    "for size, size_str in zip(sizes, ['_016', '_032', '_064',  '_128', '']):\n",
    "    mp = SparseEdges(\n",
    "        'https://raw.githubusercontent.com/bicv/SparseEdges/master/default_param.py')\n",
    "    mp.pe.seed = 42\n",
    "    mp.pe.datapath = 'database/'\n",
    "    mp.set_size((size, size))\n",
    "    downscale_factor = sizes[-1]/size  # > 1\n",
    "    mp.pe.N_image = int(N_image*downscale_factor)\n",
    "    mp.pe.N = int(N/downscale_factor**2)\n",
    "    mp.init()\n",
    "    mp.process('SparseLets' + size_str)\n",
    "    mps.append(mp)\n",
    "\n",
    "import matplotlib.pyplot as plt\n",
    "fig_width_pt = 318.67085  # Get this from LaTeX using \\showthe\\columnwidth\n",
    "inches_per_pt = 1.0/72.27               # Convert pt to inches\n",
    "fig_width = fig_width_pt*inches_per_pt  # width in inches\n",
    "fig = plt.figure(figsize=(fig_width, fig_width/1.618))\n",
    "\n",
    "experiments = ['SparseLets_' + '%0.3d' % size for size in sizes]\n",
    "experiments[-1] = 'SparseLets'\n",
    "databases = ['serre07_distractors'] * len(experiments)\n",
    "labels = [str(size) for size in sizes]\n",
    "fig, ax, inset = mp.plot(fig=fig, mps=mps, experiments=experiments, databases=databases,\n",
    "                         labels=labels, scale=True)\n",
    "\n",
    "mp.savefig(fig, 'SparseLets_B', figpath='../figures/')"
   ]
  },
  {
   "cell_type": "code",
   "execution_count": 3,
   "metadata": {
    "ExecuteTime": {
     "end_time": "2018-06-26T10:46:45.319088Z",
     "start_time": "2018-06-26T10:41:17.620974Z"
    },
    "scrolled": false
   },
   "outputs": [
    {
     "data": {
      "image/png": "[encoded data removed]",
      "text/plain": [
       "<Figure size 317.48x196.218 with 2 Axes>"
      ]
     },
     "execution_count": 3,
     "metadata": {},
     "output_type": "execute_result"
    }
   ],
   "source": [
    "%run experiment_sparselets.py\n",
    "fig"
   ]
  },
  {
   "cell_type": "markdown",
   "metadata": {},
   "source": [
    "## some book keeping for the notebook"
   ]
  },
  {
   "cell_type": "code",
   "execution_count": 4,
   "metadata": {
    "ExecuteTime": {
     "end_time": "2018-06-26T10:46:45.447092Z",
     "start_time": "2018-06-26T10:46:45.328246Z"
    }
   },
   "outputs": [
    {
     "name": "stdout",
     "output_type": "stream",
     "text": [
      "2018-06-26T12:46:45+02:00\n",
      "\n",
      "CPython 3.6.5\n",
      "IPython 6.4.0\n",
      "\n",
      "compiler   : GCC 4.2.1 Compatible Apple LLVM 9.1.0 (clang-902.0.39.2)\n",
      "system     : Darwin\n",
      "release    : 17.6.0\n",
      "machine    : x86_64\n",
      "processor  : i386\n",
      "CPU cores  : 36\n",
      "interpreter: 64bit\n"
     ]
    }
   ],
   "source": [
    "%load_ext watermark\n",
    "%watermark"
   ]
  },
  {
   "cell_type": "code",
   "execution_count": 5,
   "metadata": {
    "ExecuteTime": {
     "end_time": "2018-06-26T10:46:45.612277Z",
     "start_time": "2018-06-26T10:46:45.455350Z"
    }
   },
   "outputs": [
    {
     "data": {
      "application/json": {
       "Software versions": [
        {
         "module": "Python",
         "version": "3.6.5 64bit [GCC 4.2.1 Compatible Apple LLVM 9.1.0 (clang-902.0.39.2)]"
        },
        {
         "module": "IPython",
         "version": "6.4.0"
        },
        {
         "module": "OS",
         "version": "Darwin 17.6.0 x86_64 i386 64bit"
        },
        {
         "module": "numpy",
         "version": "1.14.5"
        },
        {
         "module": "scipy",
         "version": "1.1.0"
        },
        {
         "module": "matplotlib",
         "version": "2.2.2"
        },
        {
         "module": "SLIP",
         "version": "20171205"
        },
        {
         "module": "LogGabor",
         "version": "2017-12-05.binder"
        },
        {
         "module": "SparseEdges",
         "version": "20180606"
        }
       ]
      },
      "text/html": [
       "<table><tr><th>Software</th><th>Version</th></tr><tr><td>Python</td><td>3.6.5 64bit [GCC 4.2.1 Compatible Apple LLVM 9.1.0 (clang-902.0.39.2)]</td></tr><tr><td>IPython</td><td>6.4.0</td></tr><tr><td>OS</td><td>Darwin 17.6.0 x86_64 i386 64bit</td></tr><tr><td>numpy</td><td>1.14.5</td></tr><tr><td>scipy</td><td>1.1.0</td></tr><tr><td>matplotlib</td><td>2.2.2</td></tr><tr><td>SLIP</td><td>20171205</td></tr><tr><td>LogGabor</td><td>2017-12-05.binder</td></tr><tr><td>SparseEdges</td><td>20180606</td></tr><tr><td colspan='2'>Tue Jun 26 12:46:45 2018 CEST</td></tr></table>"
      ],
      "text/latex": [
       "\\begin{tabular}{|l|l|}\\hline\n",
       "{\\bf Software} & {\\bf Version} \\\\ \\hline\\hline\n",
       "Python & 3.6.5 64bit [GCC 4.2.1 Compatible Apple LLVM 9.1.0 (clang-902.0.39.2)] \\\\ \\hline\n",
       "IPython & 6.4.0 \\\\ \\hline\n",
       "OS & Darwin 17.6.0 x86\\_64 i386 64bit \\\\ \\hline\n",
       "numpy & 1.14.5 \\\\ \\hline\n",
       "scipy & 1.1.0 \\\\ \\hline\n",
       "matplotlib & 2.2.2 \\\\ \\hline\n",
       "SLIP & 20171205 \\\\ \\hline\n",
       "LogGabor & 2017-12-05.binder \\\\ \\hline\n",
       "SparseEdges & 20180606 \\\\ \\hline\n",
       "\\hline \\multicolumn{2}{|l|}{Tue Jun 26 12:46:45 2018 CEST} \\\\ \\hline\n",
       "\\end{tabular}\n"
      ],
      "text/plain": [
       "Software versions\n",
       "Python 3.6.5 64bit [GCC 4.2.1 Compatible Apple LLVM 9.1.0 (clang-902.0.39.2)]\n",
       "IPython 6.4.0\n",
       "OS Darwin 17.6.0 x86_64 i386 64bit\n",
       "numpy 1.14.5\n",
       "scipy 1.1.0\n",
       "matplotlib 2.2.2\n",
       "SLIP 20171205\n",
       "LogGabor 2017-12-05.binder\n",
       "SparseEdges 20180606\n",
       "Tue Jun 26 12:46:45 2018 CEST"
      ]
     },
     "execution_count": 5,
     "metadata": {},
     "output_type": "execute_result"
    }
   ],
   "source": [
    "%load_ext version_information\n",
    "%version_information numpy, scipy, matplotlib, SLIP, LogGabor, SparseEdges"
   ]
  },
  {
   "cell_type": "code",
   "execution_count": 6,
   "metadata": {
    "ExecuteTime": {
     "end_time": "2018-06-26T10:46:45.672162Z",
     "start_time": "2018-06-26T10:46:45.618997Z"
    }
   },
   "outputs": [],
   "source": [
    "%cd -q ../notebooks"
   ]
  }
 ],
 "metadata": {
  "kernelspec": {
   "display_name": "Python 3",
   "language": "python",
   "name": "python3"
  },
  "language_info": {
   "codemirror_mode": {
    "name": "ipython",
    "version": 3
   },
   "file_extension": ".py",
   "mimetype": "text/x-python",
   "name": "python",
   "nbconvert_exporter": "python",
   "pygments_lexer": "ipython3",
   "version": "3.6.5"
  },
  "toc": {
   "base_numbering": 1,
   "nav_menu": {},
   "number_sections": true,
   "sideBar": true,
   "skip_h1_title": false,
   "title_cell": "Table of Contents",
   "title_sidebar": "Contents",
   "toc_cell": false,
   "toc_position": {},
   "toc_section_display": true,
   "toc_window_display": false
  }
 },
 "nbformat": 4,
 "nbformat_minor": 1
}
