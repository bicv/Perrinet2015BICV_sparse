{
 "cells": [
  {
   "cell_type": "code",
   "execution_count": null,
   "metadata": {
    "collapsed": false
   },
   "outputs": [],
   "source": [
    "%load_ext autoreload\n",
    "%autoreload 2\n",
    "\n",
    "from __future__ import division, print_function\n",
    "%matplotlib inline\n",
    "\n",
    "import matplotlib.pyplot as plt\n",
    "\n",
    "import numpy as np\n",
    "np.set_printoptions(precision=4)#, suppress=True)\n",
    "%cd -q ../test/"
   ]
  },
  {
   "cell_type": "markdown",
   "metadata": {},
   "source": [
    "# SparseEdges & SparseLets\n",
    "\n",
    "\n",
    "Our goal here is to test the influence of the size of the image on its sparseness.  \n",
    "\n",
    "This class exploits the SparseEdges package to provide with a sparse representation of edges in images.\n",
    "\n",
    "This notebook reproduces the figure 14.3 of the following paper:\n",
    "\n",
    "~~~~{.bibtex}\n",
    "@inbook{Perrinet15bicv,\n",
    "    author = {Perrinet, Laurent U.},\n",
    "    booktitle = {Biologically-inspired Computer Vision},\n",
    "    chapter = {13},\n",
    "    citeulike-article-id = {13566753},\n",
    "    editor = {Keil, Matthias and Crist\\'{o}bal, Gabriel and Perrinet, Laurent U.},\n",
    "    keywords = {anr-trax, bicv-sparse},\n",
    "    posted-at = {2015-03-31 14:21:35},\n",
    "    priority = {2},\n",
    "    publisher = {Wiley, New-York},\n",
    "    title = {Sparse models},\n",
    "    year = {2015}\n",
    "}\n",
    "~~~~\n",
    "\n",
    "\n",
    "More information is available @ http://nbviewer.ipython.org/github/bicv/SparseEdges/blob/master/SparseEdges.ipynb\n",
    "Tests for the packages are available @ http://nbviewer.ipython.org/github/bicv/SparseEdges/blob/master/test-SparseEdges.ipynb."
   ]
  },
  {
   "cell_type": "markdown",
   "metadata": {},
   "source": [
    "### Effect of parameters on edge extraction: image size\n",
    "\n"
   ]
  },
  {
   "cell_type": "code",
   "execution_count": null,
   "metadata": {
    "collapsed": false
   },
   "outputs": [],
   "source": [
    "%%writefile experiment_sparselets.py\n",
    "#! /usr/bin/env python\n",
    "# -*- coding: utf8 -*-\n",
    "from __future__ import division, print_function\n",
    "\"\"\"\n",
    "\n",
    "$ python experiment_fig-sparselets.py ./figures\n",
    "\n",
    "$ rm -fr **/SparseLets* **/**/SparseLets* \n",
    "\n",
    "\"\"\"\n",
    "__author__ = \"(c) Laurent Perrinet INT - CNRS\"\n",
    "    \n",
    "from SparseEdges import SparseEdges\n",
    "\n",
    "mps = []\n",
    "sizes = [16, 32, 64, 128, 256]\n",
    "N_image = 32\n",
    "N = 2048\n",
    "\n",
    "for size, size_str in zip(sizes, ['_016', '_032', '_064',  '_128', '']):\n",
    "    mp = SparseEdges('https://raw.githubusercontent.com/bicv/SparseEdges/master/default_param.py')\n",
    "    mp.pe.seed = 42\n",
    "    mp.pe.datapath = 'database/'\n",
    "    mp.set_size((size, size))\n",
    "    downscale_factor = sizes[-1]/size # > 1\n",
    "    mp.pe.N_image = int(N_image*downscale_factor)\n",
    "    mp.pe.N = int(N/downscale_factor**2)\n",
    "    mp.init()\n",
    "    mp.process('SparseLets' + size_str)\n",
    "    mps.append(mp)\n",
    "\n",
    "import matplotlib.pyplot as plt\n",
    "fig_width_pt = 318.67085 # Get this from LaTeX using \\showthe\\columnwidth\n",
    "inches_per_pt = 1.0/72.27               # Convert pt to inches\n",
    "fig_width = fig_width_pt*inches_per_pt  # width in inches\n",
    "fig = plt.figure(figsize=(fig_width, fig_width/1.618))\n",
    "\n",
    "experiments = ['SparseLets_' + '%0.3d' % size for size in sizes]\n",
    "experiments[-1] = 'SparseLets'\n",
    "databases = ['serre07_distractors'] * len(experiments)\n",
    "labels = [str(size) for size in sizes]\n",
    "fig, ax, inset = mp.plot(fig=fig, mps=mps, experiments=experiments, databases=databases, \n",
    "                  labels=labels, scale=True)    \n",
    "\n",
    "mp.savefig(fig, 'SparseLets_B', figpath = '../figures/')"
   ]
  },
  {
   "cell_type": "code",
   "execution_count": null,
   "metadata": {
    "collapsed": false,
    "scrolled": false
   },
   "outputs": [],
   "source": [
    "%run experiment_sparselets.py\n",
    "fig"
   ]
  },
  {
   "cell_type": "markdown",
   "metadata": {},
   "source": [
    "## some book keeping for the notebook"
   ]
  },
  {
   "cell_type": "code",
   "execution_count": null,
   "metadata": {
    "collapsed": false
   },
   "outputs": [],
   "source": [
    "import version_information, watermark"
   ]
  },
  {
   "cell_type": "code",
   "execution_count": null,
   "metadata": {
    "collapsed": false
   },
   "outputs": [],
   "source": [
    "%watermark"
   ]
  },
  {
   "cell_type": "code",
   "execution_count": null,
   "metadata": {
    "collapsed": false
   },
   "outputs": [],
   "source": [
    "%version_information numpy, scipy, matplotlib"
   ]
  },
  {
   "cell_type": "code",
   "execution_count": null,
   "metadata": {
    "collapsed": false
   },
   "outputs": [],
   "source": [
    "%cd -q ../notebooks"
   ]
  }
 ],
 "metadata": {
  "kernelspec": {
   "display_name": "Python 3",
   "language": "python",
   "name": "python3"
  },
  "language_info": {
   "codemirror_mode": {
    "name": "ipython",
    "version": 3
   },
   "file_extension": ".py",
   "mimetype": "text/x-python",
   "name": "python",
   "nbconvert_exporter": "python",
   "pygments_lexer": "ipython3",
   "version": "3.6.0"
  }
 },
 "nbformat": 4,
 "nbformat_minor": 0
}
