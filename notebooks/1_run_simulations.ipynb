{
 "cells": [
  {
   "cell_type": "markdown",
   "metadata": {
    "outputExpanded": false
   },
   "source": [
    "# master simulations\n",
    "\n",
    "All simulations needed for Phasics imagelets:\n",
    "\n",
    "1. taking a bunch of images \n",
    "2. compute edges and\n",
    "3. then doing statistics on that\n",
    "4. to see if we can classify them.\n",
    "\n",
    "## types of simulations \n",
    "\n",
    "We do different levels of simulations:\n",
    "\n",
    "- the basic one with defaults parameters\n",
    "- testing diferent control parameters at the level of the co-occurence descriptor\n",
    "- testing different parameters for parameter extraction\n"
   ]
  },
  {
   "cell_type": "code",
   "execution_count": 1,
   "metadata": {
    "ExecuteTime": {
     "end_time": "2018-07-17T09:00:28.647626Z",
     "start_time": "2018-07-17T09:00:28.636028Z"
    },
    "outputExpanded": false
   },
   "outputs": [],
   "source": [
    "%load_ext autoreload\n",
    "%autoreload 2"
   ]
  },
  {
   "cell_type": "markdown",
   "metadata": {
    "outputExpanded": false
   },
   "source": [
    "# running everything"
   ]
  },
  {
   "cell_type": "code",
   "execution_count": 2,
   "metadata": {
    "ExecuteTime": {
     "end_time": "2018-07-17T09:00:28.660952Z",
     "start_time": "2018-07-17T09:00:28.649360Z"
    }
   },
   "outputs": [],
   "source": [
    "experiment_folder = 'BICV-Sparse'\n",
    "\n",
    "cluster = True\n",
    "cluster = False\n",
    "\n",
    "if cluster:\n",
    "    try:\n",
    "        from INT_cluster import Frioul\n",
    "        k = Frioul(experiment_folder, N_jobs = 64)\n",
    "    except Exception:\n",
    "        cluster = False\n",
    "else:\n",
    "    def run_cmd(cmd, doit=True):\n",
    "        import subprocess\n",
    "        print ('⚡︎ Running ⚡︎ ', cmd)\n",
    "        if doit:\n",
    "            stdout = subprocess.check_output([cmd], shell=True)\n",
    "            return stdout.decode()#.splitlines()\n",
    "\n",
    "do_update = True\n",
    "do_update = False\n",
    "\n",
    "do_cleanup = False\n",
    "do_cleanup = True\n",
    "\n",
    "do_run = False\n",
    "do_run = True\n",
    "\n",
    "experiments = ['experiment_' + name +  '.py' for name in ['sparselets', 'efficiency', 'firstorder']]#, 'secondorder']]\n",
    "#experiments = ['experiment_' + name +  '.py' for name in ['sparselets']]"
   ]
  },
  {
   "cell_type": "code",
   "execution_count": 3,
   "metadata": {
    "ExecuteTime": {
     "end_time": "2018-07-17T09:00:29.621794Z",
     "start_time": "2018-07-17T09:00:28.663283Z"
    },
    "outputExpanded": false
   },
   "outputs": [
    {
     "name": "stdout",
     "output_type": "stream",
     "text": [
      "⚡︎ Running ⚡︎  ipython3 experiment_sparselets.py\n",
      "⚡︎ Running ⚡︎  ipython3 experiment_efficiency.py\n",
      "⚡︎ Running ⚡︎  ipython3 experiment_firstorder.py\n"
     ]
    }
   ],
   "source": [
    "if cluster and do_cleanup:\n",
    "    for cmd in [\n",
    "        #\"rm -fr results cache_dir \",\n",
    "        #\"find . -name *sparselets* -exec rm -fr {} \\\\;\",\n",
    "        \"find . -name *lock* -exec rm -fr {} \\\\;\",\n",
    "        #\"touch frioul; rm frioul* \",\n",
    "        ]:\n",
    "        print(k.run_on_cluster(cmd))\n",
    "\n",
    "\n",
    "# preparing\n",
    "if do_run:\n",
    "    # RUNNING\n",
    "    if cluster: k.push_to_cluster()\n",
    "    for experiment in experiments:\n",
    "        if cluster:\n",
    "            fullcmd = 'ipython {experiment}'.format(experiment=experiment)\n",
    "            for cmd in [\n",
    "                \"frioul_batch  -M {N_jobs} '{cmd}' \".format(N_jobs=k.N_jobs, cmd=fullcmd), \n",
    "                \"frioul_list_jobs -v |grep job_array_id |uniq -c\",\n",
    "                        ]:\n",
    "                print(k.run_on_cluster(cmd))\n",
    "        else:\n",
    "            fullcmd = 'ipython3 {experiment}'.format(experiment=experiment)\n",
    "            run_cmd (fullcmd)"
   ]
  }
 ],
 "metadata": {
  "kernel_info": {
   "name": "python3"
  },
  "kernelspec": {
   "display_name": "Python 3",
   "language": "python",
   "name": "python3"
  },
  "language_info": {
   "codemirror_mode": {
    "name": "ipython",
    "version": 3
   },
   "file_extension": ".py",
   "mimetype": "text/x-python",
   "name": "python",
   "nbconvert_exporter": "python",
   "pygments_lexer": "ipython3",
   "version": "3.6.5"
  },
  "toc": {
   "base_numbering": 1,
   "nav_menu": {},
   "number_sections": true,
   "sideBar": true,
   "skip_h1_title": false,
   "title_cell": "Table of Contents",
   "title_sidebar": "Contents",
   "toc_cell": false,
   "toc_position": {},
   "toc_section_display": true,
   "toc_window_display": false
  }
 },
 "nbformat": 4,
 "nbformat_minor": 1
}
