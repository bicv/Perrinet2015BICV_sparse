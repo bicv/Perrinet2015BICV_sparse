{
 "cells": [
  {
   "cell_type": "code",
   "execution_count": 1,
   "metadata": {
    "ExecuteTime": {
     "end_time": "2018-07-17T09:39:32.580567Z",
     "start_time": "2018-07-17T09:39:32.354941Z"
    }
   },
   "outputs": [],
   "source": [
    "%load_ext autoreload\n",
    "%autoreload 2\n",
    "\n",
    "from __future__ import division, print_function\n",
    "#%matplotlib inline\n",
    "\n",
    "import os\n",
    "import matplotlib.pyplot as plt\n",
    "\n",
    "import numpy as np\n",
    "np.set_printoptions(precision=4, suppress=True)\n",
    "%cd -q ../test/"
   ]
  },
  {
   "cell_type": "markdown",
   "metadata": {},
   "source": [
    "## Running simulations on using the Prior on first-order distribution of orientations"
   ]
  },
  {
   "cell_type": "code",
   "execution_count": 2,
   "metadata": {
    "ExecuteTime": {
     "end_time": "2018-07-17T09:39:32.596958Z",
     "start_time": "2018-07-17T09:39:32.582472Z"
    }
   },
   "outputs": [
    {
     "name": "stdout",
     "output_type": "stream",
     "text": [
      "Overwriting experiment_firstorder.py\n"
     ]
    }
   ],
   "source": [
    "%%writefile experiment_firstorder.py\n",
    "# -*- coding: utf8 -*-\n",
    "from __future__ import division, print_function\n",
    "\"\"\"\n",
    "\n",
    "$ python experiment_fig-firstorder.py\n",
    "\n",
    "\"\"\"\n",
    "import numpy as np\n",
    "from SparseEdges import SparseEdges\n",
    "seed, N_image, N = 21341353, 100, 1024\n",
    "name_database = 'serre07_distractors'\n",
    "\n",
    "mp = SparseEdges('https://raw.githubusercontent.com/bicv/SparseEdges/master/default_param.py')\n",
    "mp.pe.datapath = 'database/'\n",
    "mp.pe.seed = seed # this ensures that all image lists are the same for the different experiments\n",
    "mp.pe.N_image = N_image\n",
    "mp.pe.N = N\n",
    "\n",
    "# control experiment\n",
    "print ('Range of spatial frequencies: ', mp.sf_0)\n",
    "print ('Range of angles: ', mp.theta*180./np.pi)\n",
    "imageslist, edgeslist, RMSE = mp.process(exp='prior_vanilla', name_database=name_database)\n",
    "\n",
    "try:\n",
    "    #imageslist_noise, edgeslist_noise, RMSE_noise = mp.process(exp='prior_vanilla_noise_' + str(mp.pe.noise).replace('.', '_'), name_database=name_database, noise=mp.pe.noise)\n",
    "\n",
    "    #mp.MP_rho = .994304364466\n",
    "    #imageslist, edgeslist, RMSE = mp.process(exp='prior_quant', name_database=name_database)\n",
    "    #mp.MP_rho = None\n",
    "\n",
    "    # first-order prior\n",
    "    \n",
    "    # TODO: make B_theta vary\n",
    "    \n",
    "    v_hist, v_theta_edges = mp.histedges_theta(edgeslist, display=False)\n",
    "    v_theta_middles, v_theta_bin  = (v_theta_edges[1:]+v_theta_edges[:-1])/2, v_theta_edges[1]-v_theta_edges[0]\n",
    "    v_hist, v_theta_edges = mp.histedges_theta(edgeslist, display=False)\n",
    "    v_theta_middles, v_theta_bin  = (v_theta_edges[1:]+v_theta_edges[:-1])/2, v_theta_edges[1]-v_theta_edges[0]\n",
    "\n",
    "    z = np.linspace(0, 1., mp.pe.n_theta+1)\n",
    "    P = np.cumsum(np.hstack((0, v_hist[-1]/2, v_hist[:-1], v_hist[-1]/2)))\n",
    "    theta_prior = np.interp(z, P, np.hstack((v_theta_edges[0]-v_theta_bin/2, v_theta_edges[:-1], v_theta_edges[-1]-v_theta_bin/2)))\n",
    "    print('Min', theta_prior.min()*180/np.pi, ', Max=', theta_prior.max()*180/np.pi)\n",
    "\n",
    "    mp_prior = SparseEdges('https://raw.githubusercontent.com/bicv/SparseEdges/master/default_param.py')\n",
    "    mp_prior.pe.datapath = 'database/'\n",
    "    mp_prior.pe.seed = seed # this ensures that all image lists are the same for the different experiments\n",
    "    mp_prior.pe.N_image = N_image\n",
    "    mp_prior.pe.N = N\n",
    "    mp_prior.theta = theta_prior[1:]\n",
    "    print('orientations used in the coding process=', mp_prior.theta*180./np.pi)\n",
    "\n",
    "    imageslist, edgeslist, RMSE =  mp_prior.process(exp='prior_firstorder', name_database=name_database)\n",
    "    #mp.MP_rho = .994304364466\n",
    "    #imageslist, edgeslist, RMSE = mp.process(exp='prior_quant_firstorder', name_database=name_database)\n",
    "    #mp.MP_rho = None\n",
    "    #imageslist_noise, edgeslist_noise, RMSE_noise = mp.process(exp='prior_firstorder_noise_' + str(mp.pe.noise).replace('.', '_'), name_database=name_database, noise=mp.pe.noise)\n",
    "    #except:\n",
    "    #    print('run again once first batches are finished ')\n",
    "\n",
    "except TypeError:\n",
    "    print('Extraction not finished')\n"
   ]
  },
  {
   "cell_type": "code",
   "execution_count": 3,
   "metadata": {
    "ExecuteTime": {
     "end_time": "2018-07-17T09:39:33.477397Z",
     "start_time": "2018-07-17T09:39:32.598732Z"
    },
    "scrolled": true
   },
   "outputs": [
    {
     "name": "stdout",
     "output_type": "stream",
     "text": [
      "Range of spatial frequencies:  [0.4545 0.2935 0.1895 0.1224 0.079  0.051  0.0329 0.0213 0.0137 0.0089\n",
      " 0.0057]\n",
      "Range of angles:  [-82.5 -75.  -67.5 -60.  -52.5 -45.  -37.5 -30.  -22.5 -15.   -7.5   0.\n",
      "   7.5  15.   22.5  30.   37.5  45.   52.5  60.   67.5  75.   82.5  90. ]\n"
     ]
    },
    {
     "ename": "UnboundLocalError",
     "evalue": "local variable 'v_theta_edges' referenced before assignment",
     "output_type": "error",
     "traceback": [
      "\u001b[0;31m---------------------------------------------------------------------------\u001b[0m",
      "\u001b[0;31mUnboundLocalError\u001b[0m                         Traceback (most recent call last)",
      "\u001b[0;32m~/pool/science/Perrinet2015BICV_sparse/test/experiment_firstorder.py\u001b[0m in \u001b[0;36m<module>\u001b[0;34m()\u001b[0m\n\u001b[1;32m     33\u001b[0m     \u001b[0;31m# TODO: make B_theta vary\u001b[0m\u001b[0;34m\u001b[0m\u001b[0;34m\u001b[0m\u001b[0m\n\u001b[1;32m     34\u001b[0m \u001b[0;34m\u001b[0m\u001b[0m\n\u001b[0;32m---> 35\u001b[0;31m     \u001b[0mv_hist\u001b[0m\u001b[0;34m,\u001b[0m \u001b[0mv_theta_edges\u001b[0m \u001b[0;34m=\u001b[0m \u001b[0mmp\u001b[0m\u001b[0;34m.\u001b[0m\u001b[0mhistedges_theta\u001b[0m\u001b[0;34m(\u001b[0m\u001b[0medgeslist\u001b[0m\u001b[0;34m,\u001b[0m \u001b[0mdisplay\u001b[0m\u001b[0;34m=\u001b[0m\u001b[0;32mFalse\u001b[0m\u001b[0;34m)\u001b[0m\u001b[0;34m\u001b[0m\u001b[0m\n\u001b[0m\u001b[1;32m     36\u001b[0m     \u001b[0mv_theta_middles\u001b[0m\u001b[0;34m,\u001b[0m \u001b[0mv_theta_bin\u001b[0m  \u001b[0;34m=\u001b[0m \u001b[0;34m(\u001b[0m\u001b[0mv_theta_edges\u001b[0m\u001b[0;34m[\u001b[0m\u001b[0;36m1\u001b[0m\u001b[0;34m:\u001b[0m\u001b[0;34m]\u001b[0m\u001b[0;34m+\u001b[0m\u001b[0mv_theta_edges\u001b[0m\u001b[0;34m[\u001b[0m\u001b[0;34m:\u001b[0m\u001b[0;34m-\u001b[0m\u001b[0;36m1\u001b[0m\u001b[0;34m]\u001b[0m\u001b[0;34m)\u001b[0m\u001b[0;34m/\u001b[0m\u001b[0;36m2\u001b[0m\u001b[0;34m,\u001b[0m \u001b[0mv_theta_edges\u001b[0m\u001b[0;34m[\u001b[0m\u001b[0;36m1\u001b[0m\u001b[0;34m]\u001b[0m\u001b[0;34m-\u001b[0m\u001b[0mv_theta_edges\u001b[0m\u001b[0;34m[\u001b[0m\u001b[0;36m0\u001b[0m\u001b[0;34m]\u001b[0m\u001b[0;34m\u001b[0m\u001b[0m\n\u001b[1;32m     37\u001b[0m     \u001b[0mv_hist\u001b[0m\u001b[0;34m,\u001b[0m \u001b[0mv_theta_edges\u001b[0m \u001b[0;34m=\u001b[0m \u001b[0mmp\u001b[0m\u001b[0;34m.\u001b[0m\u001b[0mhistedges_theta\u001b[0m\u001b[0;34m(\u001b[0m\u001b[0medgeslist\u001b[0m\u001b[0;34m,\u001b[0m \u001b[0mdisplay\u001b[0m\u001b[0;34m=\u001b[0m\u001b[0;32mFalse\u001b[0m\u001b[0;34m)\u001b[0m\u001b[0;34m\u001b[0m\u001b[0m\n",
      "\u001b[0;32m~/pool/science/SparseEdges/SparseEdges/SparseEdges.py\u001b[0m in \u001b[0;36mhistedges_theta\u001b[0;34m(self, edgeslist, mp_theta, v_hist, fig, ax, figsize, display)\u001b[0m\n\u001b[1;32m    400\u001b[0m             \u001b[0;32mreturn\u001b[0m \u001b[0mfig\u001b[0m\u001b[0;34m,\u001b[0m \u001b[0max\u001b[0m\u001b[0;34m\u001b[0m\u001b[0m\n\u001b[1;32m    401\u001b[0m         \u001b[0;32melse\u001b[0m\u001b[0;34m:\u001b[0m\u001b[0;34m\u001b[0m\u001b[0m\n\u001b[0;32m--> 402\u001b[0;31m             \u001b[0;32mreturn\u001b[0m \u001b[0mv_hist\u001b[0m\u001b[0;34m,\u001b[0m \u001b[0mv_theta_edges\u001b[0m\u001b[0;34m\u001b[0m\u001b[0m\n\u001b[0m\u001b[1;32m    403\u001b[0m \u001b[0;34m\u001b[0m\u001b[0m\n\u001b[1;32m    404\u001b[0m     \u001b[0;32mdef\u001b[0m \u001b[0mhistedges_scale\u001b[0m\u001b[0;34m(\u001b[0m\u001b[0mself\u001b[0m\u001b[0;34m,\u001b[0m \u001b[0medgeslist\u001b[0m\u001b[0;34m,\u001b[0m \u001b[0mfig\u001b[0m\u001b[0;34m=\u001b[0m\u001b[0;32mNone\u001b[0m\u001b[0;34m,\u001b[0m \u001b[0max\u001b[0m\u001b[0;34m=\u001b[0m\u001b[0;32mNone\u001b[0m\u001b[0;34m,\u001b[0m \u001b[0mdisplay\u001b[0m\u001b[0;34m=\u001b[0m\u001b[0;32mTrue\u001b[0m\u001b[0;34m)\u001b[0m\u001b[0;34m:\u001b[0m\u001b[0;34m\u001b[0m\u001b[0m\n",
      "\u001b[0;31mUnboundLocalError\u001b[0m: local variable 'v_theta_edges' referenced before assignment"
     ]
    }
   ],
   "source": [
    "%run experiment_firstorder.py"
   ]
  },
  {
   "cell_type": "markdown",
   "metadata": {},
   "source": [
    "## Analysing results on using the Prior on first-order distribution of orientations"
   ]
  },
  {
   "cell_type": "markdown",
   "metadata": {},
   "source": [
    "First, we retrieve edges from a prior edge extraction"
   ]
  },
  {
   "cell_type": "raw",
   "metadata": {},
   "source": [
    "imageslist, edgeslist, RMSE = mp.process(exp='prior_vanilla_noise_' + str(mp.pe.noise).replace('.', '_'), name_database=name_database_)"
   ]
  },
  {
   "cell_type": "code",
   "execution_count": 4,
   "metadata": {
    "ExecuteTime": {
     "end_time": "2018-07-17T09:39:33.721837Z",
     "start_time": "2018-07-17T09:39:33.478828Z"
    }
   },
   "outputs": [],
   "source": [
    "import numpy as np\n",
    "from SparseEdges import SparseEdges\n",
    "seed, N_image, N = 21341353, 100, 1024\n",
    "name_database = 'serre07_distractors'\n",
    "\n",
    "mp = SparseEdges('https://raw.githubusercontent.com/bicv/SparseEdges/master/default_param.py')\n",
    "mp.pe.datapath = 'database/'\n",
    "mp.pe.seed = seed # this ensures that all image lists are the same for the different experiments\n",
    "mp.pe.N_image = N_image\n",
    "mp.pe.N = N\n",
    "\n",
    "imageslist, edgeslist, RMSE = mp.process(exp='prior_vanilla', name_database=name_database)"
   ]
  },
  {
   "cell_type": "code",
   "execution_count": 5,
   "metadata": {
    "ExecuteTime": {
     "end_time": "2018-07-17T09:39:33.737003Z",
     "start_time": "2018-07-17T09:39:33.723355Z"
    }
   },
   "outputs": [],
   "source": [
    "fig_width_pt = 318.670  # Get this from LaTeX using \\showthe\\columnwidth\n",
    "inches_per_pt = 1.0/72.27               # Convert pt to inches\n",
    "fig_width = fig_width_pt*inches_per_pt  # width in inches\n",
    "#mp.pe.figpath = '../test/results'\n",
    "#mp.pe.figpath = '../figures'"
   ]
  },
  {
   "cell_type": "code",
   "execution_count": 6,
   "metadata": {
    "ExecuteTime": {
     "end_time": "2018-07-17T09:39:34.159013Z",
     "start_time": "2018-07-17T09:39:33.738674Z"
    }
   },
   "outputs": [
    {
     "ename": "TypeError",
     "evalue": "unsupported operand type(s) for ** or pow(): 'NoneType' and 'float'",
     "output_type": "error",
     "traceback": [
      "\u001b[0;31m---------------------------------------------------------------------------\u001b[0m",
      "\u001b[0;31mTypeError\u001b[0m                                 Traceback (most recent call last)",
      "\u001b[0;32m<ipython-input-6-a856a7934a57>\u001b[0m in \u001b[0;36m<module>\u001b[0;34m()\u001b[0m\n\u001b[1;32m      1\u001b[0m \u001b[0mfig\u001b[0m \u001b[0;34m=\u001b[0m \u001b[0mplt\u001b[0m\u001b[0;34m.\u001b[0m\u001b[0mfigure\u001b[0m\u001b[0;34m(\u001b[0m\u001b[0mfigsize\u001b[0m\u001b[0;34m=\u001b[0m\u001b[0;34m(\u001b[0m\u001b[0mfig_width\u001b[0m\u001b[0;34m/\u001b[0m\u001b[0;36m1.618\u001b[0m\u001b[0;34m,\u001b[0m \u001b[0mfig_width\u001b[0m\u001b[0;34m/\u001b[0m\u001b[0;36m1.618\u001b[0m\u001b[0;34m)\u001b[0m\u001b[0;34m)\u001b[0m\u001b[0;34m\u001b[0m\u001b[0m\n\u001b[1;32m      2\u001b[0m \u001b[0max\u001b[0m \u001b[0;34m=\u001b[0m \u001b[0mfig\u001b[0m\u001b[0;34m.\u001b[0m\u001b[0madd_subplot\u001b[0m\u001b[0;34m(\u001b[0m\u001b[0;36m111\u001b[0m\u001b[0;34m,\u001b[0m \u001b[0mfacecolor\u001b[0m\u001b[0;34m=\u001b[0m\u001b[0;34m'w'\u001b[0m\u001b[0;34m,\u001b[0m \u001b[0mpolar\u001b[0m\u001b[0;34m=\u001b[0m\u001b[0;32mTrue\u001b[0m\u001b[0;34m)\u001b[0m\u001b[0;34m\u001b[0m\u001b[0m\n\u001b[0;32m----> 3\u001b[0;31m \u001b[0mfig\u001b[0m\u001b[0;34m,\u001b[0m \u001b[0max\u001b[0m \u001b[0;34m=\u001b[0m \u001b[0mmp\u001b[0m\u001b[0;34m.\u001b[0m\u001b[0mhistedges_theta\u001b[0m\u001b[0;34m(\u001b[0m\u001b[0medgeslist\u001b[0m\u001b[0;34m,\u001b[0m \u001b[0mfig\u001b[0m\u001b[0;34m=\u001b[0m\u001b[0mfig\u001b[0m\u001b[0;34m,\u001b[0m \u001b[0max\u001b[0m\u001b[0;34m=\u001b[0m\u001b[0max\u001b[0m\u001b[0;34m)\u001b[0m\u001b[0;34m\u001b[0m\u001b[0m\n\u001b[0m\u001b[1;32m      4\u001b[0m \u001b[0mv_hist\u001b[0m\u001b[0;34m,\u001b[0m \u001b[0mv_theta_edges\u001b[0m \u001b[0;34m=\u001b[0m \u001b[0mmp\u001b[0m\u001b[0;34m.\u001b[0m\u001b[0mhistedges_theta\u001b[0m\u001b[0;34m(\u001b[0m\u001b[0medgeslist\u001b[0m\u001b[0;34m,\u001b[0m \u001b[0mdisplay\u001b[0m\u001b[0;34m=\u001b[0m\u001b[0;32mFalse\u001b[0m\u001b[0;34m)\u001b[0m\u001b[0;34m\u001b[0m\u001b[0m\n\u001b[1;32m      5\u001b[0m \u001b[0max\u001b[0m\u001b[0;34m.\u001b[0m\u001b[0mplot\u001b[0m\u001b[0;34m(\u001b[0m\u001b[0mv_theta_edges\u001b[0m\u001b[0;34m,\u001b[0m \u001b[0mnp\u001b[0m\u001b[0;34m.\u001b[0m\u001b[0mones_like\u001b[0m\u001b[0;34m(\u001b[0m\u001b[0mv_theta_edges\u001b[0m\u001b[0;34m)\u001b[0m\u001b[0;34m*\u001b[0m\u001b[0mnp\u001b[0m\u001b[0;34m.\u001b[0m\u001b[0msqrt\u001b[0m\u001b[0;34m(\u001b[0m\u001b[0mv_hist\u001b[0m\u001b[0;34m.\u001b[0m\u001b[0mmean\u001b[0m\u001b[0;34m(\u001b[0m\u001b[0;34m)\u001b[0m\u001b[0;34m)\u001b[0m\u001b[0;34m,\u001b[0m \u001b[0;34m'r--'\u001b[0m\u001b[0;34m)\u001b[0m\u001b[0;34m\u001b[0m\u001b[0m\n",
      "\u001b[0;32m~/pool/science/SparseEdges/SparseEdges/SparseEdges.py\u001b[0m in \u001b[0;36mhistedges_theta\u001b[0;34m(self, edgeslist, mp_theta, v_hist, fig, ax, figsize, display)\u001b[0m\n\u001b[1;32m    391\u001b[0m             \u001b[0mwidth\u001b[0m \u001b[0;34m=\u001b[0m \u001b[0mself\u001b[0m\u001b[0;34m.\u001b[0m\u001b[0mbinedges_theta\u001b[0m\u001b[0;34m[\u001b[0m\u001b[0;36m1\u001b[0m\u001b[0;34m:\u001b[0m\u001b[0;34m]\u001b[0m \u001b[0;34m-\u001b[0m \u001b[0mself\u001b[0m\u001b[0;34m.\u001b[0m\u001b[0mbinedges_theta\u001b[0m\u001b[0;34m[\u001b[0m\u001b[0;34m:\u001b[0m\u001b[0;34m-\u001b[0m\u001b[0;36m1\u001b[0m\u001b[0;34m]\u001b[0m\u001b[0;34m\u001b[0m\u001b[0m\n\u001b[1;32m    392\u001b[0m \u001b[0;34m\u001b[0m\u001b[0m\n\u001b[0;32m--> 393\u001b[0;31m             \u001b[0max\u001b[0m\u001b[0;34m.\u001b[0m\u001b[0mbar\u001b[0m\u001b[0;34m(\u001b[0m\u001b[0mself\u001b[0m\u001b[0;34m.\u001b[0m\u001b[0mbinedges_theta\u001b[0m\u001b[0;34m[\u001b[0m\u001b[0;34m:\u001b[0m\u001b[0;34m-\u001b[0m\u001b[0;36m1\u001b[0m\u001b[0;34m]\u001b[0m\u001b[0;34m,\u001b[0m \u001b[0;34m(\u001b[0m\u001b[0mv_hist\u001b[0m\u001b[0;34m)\u001b[0m\u001b[0;34m**\u001b[0m\u001b[0;36m.5\u001b[0m\u001b[0;34m,\u001b[0m \u001b[0mwidth\u001b[0m\u001b[0;34m=\u001b[0m\u001b[0mwidth\u001b[0m\u001b[0;34m,\u001b[0m \u001b[0mcolor\u001b[0m\u001b[0;34m=\u001b[0m\u001b[0;34m'#66c0b7'\u001b[0m\u001b[0;34m,\u001b[0m \u001b[0malign\u001b[0m\u001b[0;34m=\u001b[0m\u001b[0;34m'edge'\u001b[0m\u001b[0;34m)\u001b[0m\u001b[0;31m# edgecolor=\"none\")\u001b[0m\u001b[0;34m\u001b[0m\u001b[0m\n\u001b[0m\u001b[1;32m    394\u001b[0m \u001b[0;34m\u001b[0m\u001b[0m\n\u001b[1;32m    395\u001b[0m             \u001b[0max\u001b[0m\u001b[0;34m.\u001b[0m\u001b[0mbar\u001b[0m\u001b[0;34m(\u001b[0m\u001b[0mself\u001b[0m\u001b[0;34m.\u001b[0m\u001b[0mbinedges_theta\u001b[0m\u001b[0;34m[\u001b[0m\u001b[0;34m:\u001b[0m\u001b[0;34m-\u001b[0m\u001b[0;36m1\u001b[0m\u001b[0;34m]\u001b[0m\u001b[0;34m+\u001b[0m\u001b[0mnp\u001b[0m\u001b[0;34m.\u001b[0m\u001b[0mpi\u001b[0m\u001b[0;34m,\u001b[0m \u001b[0;34m(\u001b[0m\u001b[0mv_hist\u001b[0m\u001b[0;34m)\u001b[0m\u001b[0;34m**\u001b[0m\u001b[0;36m.5\u001b[0m\u001b[0;34m,\u001b[0m \u001b[0mwidth\u001b[0m\u001b[0;34m=\u001b[0m\u001b[0mwidth\u001b[0m\u001b[0;34m,\u001b[0m \u001b[0mcolor\u001b[0m\u001b[0;34m=\u001b[0m\u001b[0;34m'#32ab9f'\u001b[0m\u001b[0;34m,\u001b[0m \u001b[0malign\u001b[0m\u001b[0;34m=\u001b[0m\u001b[0;34m'edge'\u001b[0m\u001b[0;34m)\u001b[0m\u001b[0;34m\u001b[0m\u001b[0m\n",
      "\u001b[0;31mTypeError\u001b[0m: unsupported operand type(s) for ** or pow(): 'NoneType' and 'float'"
     ]
    },
    {
     "data": {
      "image/png": "[encoded data removed]",
      "text/plain": [
       "<Figure size 196.217x196.217 with 1 Axes>"
      ]
     },
     "metadata": {},
     "output_type": "display_data"
    }
   ],
   "source": [
    "fig = plt.figure(figsize=(fig_width/1.618, fig_width/1.618))\n",
    "ax = fig.add_subplot(111, facecolor='w', polar=True)\n",
    "fig, ax = mp.histedges_theta(edgeslist, fig=fig, ax=ax)\n",
    "v_hist, v_theta_edges = mp.histedges_theta(edgeslist, display=False)\n",
    "ax.plot(v_theta_edges, np.ones_like(v_theta_edges)*np.sqrt(v_hist.mean()), 'r--')\n",
    "ax.plot(v_theta_edges+np.pi, np.ones_like(v_theta_edges)*np.sqrt(v_hist.mean()), 'r--')\n",
    "\n",
    "mp.savefig(fig, 'firstorder_A', figpath = '../figures');"
   ]
  },
  {
   "cell_type": "code",
   "execution_count": null,
   "metadata": {
    "ExecuteTime": {
     "end_time": "2018-07-17T09:39:34.159727Z",
     "start_time": "2018-07-17T09:39:32.364Z"
    }
   },
   "outputs": [],
   "source": [
    "!ls ../figures/firstorder_A*"
   ]
  },
  {
   "cell_type": "code",
   "execution_count": null,
   "metadata": {
    "ExecuteTime": {
     "end_time": "2018-07-17T09:39:34.160899Z",
     "start_time": "2018-07-17T09:39:32.365Z"
    }
   },
   "outputs": [],
   "source": [
    "v_hist, v_theta_edges = mp.histedges_theta(edgeslist, display=False)\n",
    "v_theta_middles, v_theta_bin  = (v_theta_edges[1:]+v_theta_edges[:-1])/2, v_theta_edges[1]-v_theta_edges[0]"
   ]
  },
  {
   "cell_type": "code",
   "execution_count": null,
   "metadata": {
    "ExecuteTime": {
     "end_time": "2018-07-17T09:39:34.161802Z",
     "start_time": "2018-07-17T09:39:32.367Z"
    }
   },
   "outputs": [],
   "source": [
    "print ('angles for the edges of bins (deg) = ', mp.theta*180/np.pi)\n",
    "print ('angles for the edges of bins (deg) = ', mp.binedges_theta*180/np.pi)\n",
    "print ('angles for the edges of bins (deg) = ', v_theta_edges*180/np.pi)\n",
    "print ('angles for the middle of bins (deg) = ', v_theta_middles*180/np.pi)\n",
    "print ('angles for the center of bins (deg) = ', (v_theta_edges-v_theta_bin/2)*180/np.pi)"
   ]
  },
  {
   "cell_type": "markdown",
   "metadata": {},
   "source": [
    "Now, we may use this statistics:\n"
   ]
  },
  {
   "cell_type": "code",
   "execution_count": null,
   "metadata": {
    "ExecuteTime": {
     "end_time": "2018-07-17T09:39:34.162951Z",
     "start_time": "2018-07-17T09:39:32.368Z"
    }
   },
   "outputs": [],
   "source": [
    "z = np.linspace(0, 1., mp.pe.n_theta+1)\n",
    "P = np.cumsum(np.hstack((0, v_hist[-1]/2, v_hist[:-1], v_hist[-1]/2)))\n",
    "theta_prior = np.interp(z, P, np.hstack((v_theta_edges[0]-v_theta_bin/2, v_theta_edges[:-1], v_theta_edges[-1]-v_theta_bin/2))) #% np.pi"
   ]
  },
  {
   "cell_type": "code",
   "execution_count": null,
   "metadata": {
    "ExecuteTime": {
     "end_time": "2018-07-17T09:39:34.164020Z",
     "start_time": "2018-07-17T09:39:32.370Z"
    }
   },
   "outputs": [],
   "source": [
    "z = z[1:]\n",
    "P = P[1:]\n",
    "print ('z = ', z)\n",
    "print ('P = ', P)\n",
    "print ('uniform angles (deg) = ', mp.theta*180/np.pi)\n",
    "print ('prior  angles (deg) = ', theta_prior*180/np.pi)\n",
    "print ('prior  angles (deg) = ', mp_prior.theta*180/np.pi)"
   ]
  },
  {
   "cell_type": "code",
   "execution_count": null,
   "metadata": {
    "ExecuteTime": {
     "end_time": "2018-07-17T09:39:34.165376Z",
     "start_time": "2018-07-17T09:39:32.371Z"
    }
   },
   "outputs": [],
   "source": [
    "mp.init_binedges()\n",
    "\n",
    "fig, [[B, C], [A, D]] = plt.subplots(2, 2, figsize=(fig_width, fig_width/1.618), subplot_kw={'facecolor':'w'}, sharex=True)\n",
    "for ax in [A, B, C, D]:\n",
    "    ax.spines['right'].set_visible(False)\n",
    "    ax.spines['top'].set_visible(False)\n",
    "\n",
    "fig.subplots_adjust(wspace=0.1, hspace=0.1,\n",
    "                    left=0.125, right=0.9,\n",
    "                    top=0.9,    bottom=0.175)\n",
    "A.bar(v_theta_edges-v_theta_bin, np.hstack((v_hist[-1], v_hist)), alpha=.6, width=v_theta_bin, align='edge')\n",
    "A.hlines([v_hist.mean()], [v_theta_edges[0]-v_theta_bin/8.], [v_theta_edges[-1]+v_theta_bin/8.], \n",
    "         lw=.5, color='r', linestyle='--',\n",
    "         alpha=.6)\n",
    "plt.setp(A, yticklabels=[], ylabel=r'$p(\\theta)$',#xlim=[v_theta_edges[0]-v_theta_bin/4, v_theta_edges[-1]+v_theta_bin/4], \n",
    "         #xticks=[-np.pi/2, 0, np.pi/2], xticklabels=[r'$\\frac{-\\pi}{2}$', r'$0$', r'$\\frac{\\pi}{2}$'], \n",
    "         xticks=[0, np.pi/2], xticklabels=[r'$0$', r'$\\frac{\\pi}{2}$'], \n",
    "         xlabel=r'$\\theta$ (rad)')\n",
    "B.step(v_theta_edges, P, where='pre')\n",
    "B.vlines(((mp.theta[:-1] + np.pi/2 + v_theta_bin/4)  % np.pi ) - np.pi/2  + v_theta_bin/4, [0], P[1:], lw=.5, color='k', alpha=.6)\n",
    "plt.setp(B, xticks=[], ylim=[0, 1.02], yticks=[0., 0.5, 1.], yticklabels=['0', r'$\\frac{1}{2}$', '1'], ylabel=r'$P(\\theta)$')#, xlim=[v_theta_edges[0], v_theta_edges[-1]]\n",
    "#B.text(-np.pi/2*1.65, 1.05, '(B)')\n",
    "C.plot(v_theta_edges, P)\n",
    "C.hlines(z[:-1], [v_theta_edges[0]-v_theta_bin/2], theta_prior[1:], lw=.5)\n",
    "C.hlines([1], [v_theta_edges[0]-v_theta_bin/2], theta_prior[-1], lw=.5)\n",
    "C.vlines(theta_prior[1:], [0], z[:-1], lw=.5, color='r', alpha=.6)\n",
    "C.vlines(theta_prior[-1], [0], [1], lw=.5, color='r', alpha=.6)\n",
    "#C.text(-np.pi/2*1.1, 1.05, '(C)')\n",
    "bord = 0.03\n",
    "plt.setp(C, ylim=[0,1.02], xticks=[-np.pi/2, 0, np.pi/2], xticklabels=['', '', ''], yticks=[0., 0.5, 1.], yticklabels=['', '', ''],\n",
    "         xlim=[v_theta_edges[0]-v_theta_bin/2-bord, v_theta_edges[-1]-v_theta_bin/2+bord])#\n",
    "#D.axis('tight')\n",
    "#D.vlines((theta_prior + np.pi/2) % np.pi  - np.pi/2, [0], np.ones_like(z), lw=.5, color='r')\n",
    "D.vlines(theta_prior, [0], np.ones_like(z), lw=.5, color='r', alpha=.6)\n",
    "D.vlines([-np.pi/2, np.pi/2], [0], np.ones_like(z), lw=.5, color='r', alpha=.6)\n",
    "#D.vlines(((mp.theta[:-1] + np.pi/2 + v_theta_bin/2)  % np.pi ) - np.pi/2  - v_theta_bin/2, [0], np.ones_like(z), lw=.5, color='k', alpha=.6)\n",
    "#D.plot(theta, np.ones_like(z), ms='^', lw=0, color='r')\n",
    "plt.setp(D, ylim=[0, 1.1], yticks=[], xlim=[v_theta_edges[0]-v_theta_bin/2-bord, v_theta_edges[-1]-v_theta_bin/2+bord], \n",
    "         xticks=[-np.pi/2, 0, np.pi/2], xticklabels=[r'$\\frac{-\\pi}{2}$', r'$0$', r'$\\frac{\\pi}{2}$'], \n",
    "         #xticks=[0, np.pi/2], xticklabels=[r'$0$', r'$\\frac{\\pi}{2}$'], \n",
    "         xlabel=r'$\\theta$ (rad)')\n",
    "#D.text(-np.pi/2*1.1, 1.35, '(D)')\n",
    "mp.savefig(fig, 'laughlin', figpath = '../figures')\n",
    "fig"
   ]
  },
  {
   "cell_type": "raw",
   "metadata": {},
   "source": [
    "!pip install lmfit"
   ]
  },
  {
   "cell_type": "raw",
   "metadata": {},
   "source": [
    "fig, A = plt.subplots(1, 1, figsize=(13, 13), subplot_kw={'facecolor':'w'})\n",
    "from lmfit.models import ExpressionModel\n",
    "#mod = PowerLawModel()\n",
    "mod = ExpressionModel('rho**x')\n",
    "RMSE /= RMSE[:, 0][:, np.newaxis]\n",
    "N = RMSE.shape[1] #number of edges\n",
    "rho = np.zeros(RMSE.shape[0])\n",
    "for i_image in range(RMSE.shape[0]):\n",
    "    #pars = mod.guess(RMSE[i_image, :], x=np.arange(N))\n",
    "    mod.def_vals = {'rho':.99}\n",
    "    out  = mod.fit(RMSE[i_image, :], x=np.arange(N), verbose=False)\n",
    "    #print(out.fit_report(min_correl=0.25))\n",
    "    rho[i_image] =  out.params.get('rho').value\n",
    "    #print 'rho=', rho[i_image]\n",
    "    #N_theta = np.log(threshold)/np.log(rho)\n",
    "    #print N_theta\n",
    "    A.semilogx( RMSE[i_image, :], alpha=.7)\n",
    "    params = mod.make_params(rho=rho[i_image])\n",
    "    A.semilogx(mod.eval(params, x=np.arange(N)), 'r--', alpha=.7)\n",
    "    A.set_xlabel('l0')\n",
    "    A.axis('tight')\n",
    "    A.axis('tight')\n",
    "    _ = A.set_ylabel('RMSE')            \n",
    "\n",
    "print ('rho=', rho.mean(), ', +/- ', rho.std())"
   ]
  },
  {
   "cell_type": "markdown",
   "metadata": {},
   "source": [
    "### analyzing efficiency"
   ]
  },
  {
   "cell_type": "raw",
   "metadata": {},
   "source": [
    "experiments = ['prior_vanilla', 'prior_firstorder', 'prior_vanilla_noise_' + str(mp.pe.noise).replace('.', '_'), 'prior_firstorder_noise_' + str(mp.pe.noise).replace('.', '_')]\n",
    "databases = [name_database_] * len(experiments)\n",
    "labels = ['control', 'with prior', 'noise', 'noise (prior)']\n",
    "mps = [mp] * len(experiments)\n",
    "fig_width = 15\n",
    "fig = plt.figure(figsize=(fig_width/1.618, fig_width/1.618))\n",
    "fig, a, ax = mp.plot(mps=mps, experiments=experiments, databases=databases, fig=fig, labels=labels, \n",
    "                  color=[0., 0., 1.], scale=True)"
   ]
  },
  {
   "cell_type": "code",
   "execution_count": null,
   "metadata": {
    "ExecuteTime": {
     "end_time": "2018-07-17T09:39:34.166379Z",
     "start_time": "2018-07-17T09:39:32.433Z"
    }
   },
   "outputs": [],
   "source": [
    "experiments = ['prior_vanilla', 'prior_firstorder']\n",
    "databases = [name_database] * len(experiments)\n",
    "labels = ['control', 'with prior']\n",
    "mps = [mp, mp_prior]\n",
    "fig = plt.figure(figsize=(fig_width/1.618, fig_width/1.618))\n",
    "fig, a, ax = mp.plot(mps=mps, experiments=experiments, databases=databases, fig=fig, labels=labels, \n",
    "                  color=[0., 0., 1.], threshold=0.3, ref=0, scale=True)\n",
    "mp.savefig(fig, 'firstorder_C', figpath = '../figures')"
   ]
  },
  {
   "cell_type": "raw",
   "metadata": {},
   "source": [
    "experiments = ['prior_quant', 'prior_quant_firstorder']\n",
    "databases = [name_database_] * len(experiments)\n",
    "labels = ['control', 'with prior']\n",
    "mps = [mp] * len(experiments)\n",
    "fig = plt.figure(figsize=(fig_width/1.618, fig_width/1.618))\n",
    "fig, a, ax = mp.plot(mps=mps, experiments=experiments, databases=databases, fig=fig, labels=labels, \n",
    "                  color=[0., 0., 1.], threshold=0.6, ref=0, scale=True)"
   ]
  },
  {
   "cell_type": "code",
   "execution_count": null,
   "metadata": {
    "ExecuteTime": {
     "end_time": "2018-07-17T09:39:34.167345Z",
     "start_time": "2018-07-17T09:39:32.453Z"
    }
   },
   "outputs": [],
   "source": [
    "fig = plt.figure(figsize=(fig_width/1.618, fig_width/1.618))\n",
    "fig, a, ax = mp.plot(mps=mps, experiments=experiments, databases=databases, fig=fig, labels=labels, \n",
    "                  color=[0., 0., 1.], threshold=0.55, ref=0, scale=True)\n",
    "mp.savefig(fig, 'firstorder_C', figpath = '../figures')"
   ]
  },
  {
   "cell_type": "code",
   "execution_count": null,
   "metadata": {
    "ExecuteTime": {
     "end_time": "2018-07-17T09:39:34.168201Z",
     "start_time": "2018-07-17T09:39:32.454Z"
    }
   },
   "outputs": [],
   "source": [
    "fig = plt.figure(figsize=(fig_width/1.618, fig_width/1.618))\n",
    "fig, a, ax = mp.plot(mps=mps, experiments=experiments, databases=databases, fig=fig, labels=labels, \n",
    "                  color=[0., 0., 1.], threshold=0.8, ref=0, scale=True)\n",
    "mp.savefig(fig, 'firstorder_C', figpath = '../figures')"
   ]
  },
  {
   "cell_type": "raw",
   "metadata": {},
   "source": [
    "experiments = ['prior_vanilla_noise_' + str(mp.pe.noise).replace('.', '_'), 'prior_firstorder_noise_' + str(mp.pe.noise).replace('.', '_')]\n",
    "databases = [name_database_] * len(experiments)\n",
    "labels = ['control', 'with prior']\n",
    "mps = [mp] * len(experiments)\n",
    "fig = plt.figure(figsize=(fig_width/1.618, fig_width/1.618))\n",
    "fig, a, ax = mp.plot(mps=mps, experiments=experiments, databases=databases, fig=fig, labels=labels, \n",
    "                  color=[0., 0., 1.], threshold=0.5, ref=0, scale=True)"
   ]
  },
  {
   "cell_type": "code",
   "execution_count": null,
   "metadata": {
    "ExecuteTime": {
     "end_time": "2018-07-17T09:39:34.169174Z",
     "start_time": "2018-07-17T09:39:32.474Z"
    }
   },
   "outputs": [],
   "source": [
    "fig = plt.figure(figsize=(fig_width/1.618, fig_width/1.618))\n",
    "fig, a, ax = mp.plot(mps=mps, experiments=experiments, databases=databases, fig=fig, labels=labels, \n",
    "                  color=[0., 0., 1.], threshold=0.3, ref=0, scale=True)\n",
    "mp.savefig(fig, 'firstorder_C', figpath = '../figures')"
   ]
  },
  {
   "cell_type": "raw",
   "metadata": {},
   "source": [
    "imageslist, edgeslist, RMSE = mp.process(exp='prior_vanilla', name_database=name_database)\n",
    "v_hist, v_theta_edges = mp.histedges_theta(edgeslist, display=False)\n",
    "v_theta_middles, v_theta_bin  = (v_theta_edges[1:]+v_theta_edges[:-1])/2, v_theta_edges[1]-v_theta_edges[0]\n",
    "z = np.linspace(0, 1., mp.pe.n_theta+1)\n",
    "P = np.cumsum(np.hstack((0, v_hist[-1]/2, v_hist[:-1], v_hist[-1]/2)))\n",
    "theta_prior = np.interp(z, P, np.hstack((v_theta_edges[0]-v_theta_bin/2, v_theta_edges[:-1], v_theta_edges[-1]-v_theta_bin/2))) #% np.pi\n",
    "print ('angles (deg) = ', theta_prior*180/np.pi)"
   ]
  },
  {
   "cell_type": "markdown",
   "metadata": {},
   "source": [
    "### verifying the histogram of output orientations"
   ]
  },
  {
   "cell_type": "code",
   "execution_count": null,
   "metadata": {
    "ExecuteTime": {
     "end_time": "2018-07-17T09:39:34.170260Z",
     "start_time": "2018-07-17T09:39:32.494Z"
    }
   },
   "outputs": [],
   "source": [
    "imageslist, edgeslist, RMSE = mp_prior.process(exp='prior_firstorder', name_database=name_database)"
   ]
  },
  {
   "cell_type": "raw",
   "metadata": {
    "scrolled": true
   },
   "source": [
    "theta_bin = (mp_prior.theta + np.hstack((mp_prior.theta[-1]-np.pi, mp_prior.theta[:-1]))) /2\n",
    "#self.theta[:-1] + self.theta[1:]) / 2. # middles\n",
    "binedges_theta = np.hstack((theta_bin, theta_bin[0]+np.pi))\n",
    "width = binedges_theta[1:] - binedges_theta[:-1]\n",
    "print(width / (np.pi/mp_prior.pe.n_theta))"
   ]
  },
  {
   "cell_type": "code",
   "execution_count": null,
   "metadata": {
    "ExecuteTime": {
     "end_time": "2018-07-17T09:39:34.171049Z",
     "start_time": "2018-07-17T09:39:32.515Z"
    }
   },
   "outputs": [],
   "source": [
    "mp_prior.init_binedges(mp_theta=mp_prior.theta)\n",
    "\n",
    "print ('prior angles (deg) = ', mp_prior.theta*180/np.pi)\n",
    "\n",
    "print ('bin angles (deg) = ',  mp_prior.binedges_theta*180/np.pi)\n",
    "\n",
    "theta = edgeslist[2, ...].ravel()\n",
    "value = edgeslist[4, ...].ravel()\n",
    "\n",
    "print('Min', theta.min()*180/np.pi, ', Max=', theta.max()*180/np.pi)\n",
    "print ('selected angles (deg) = ',  np.unique(theta)*180/np.pi)\n",
    "print ('mp_prior.binedges_theta angles (deg) = ',  mp_prior.binedges_theta*180/np.pi)\n",
    "print ('diff angles (deg) = ', (np.unique(theta) - mp_prior.theta) *180/np.pi)\n",
    "\n",
    "weights = np.absolute(value)/(np.absolute(value)).sum()\n",
    "v_hist, v_theta_edges_ = np.histogram(theta, bins=mp_prior.binedges_theta, density=True, weights=weights)\n",
    "print ('bin angles (deg) = ',  v_theta_edges_*180/np.pi)\n",
    "print ('Histogram =', v_hist/v_hist.mean())"
   ]
  },
  {
   "cell_type": "code",
   "execution_count": null,
   "metadata": {
    "ExecuteTime": {
     "end_time": "2018-07-17T09:39:34.171984Z",
     "start_time": "2018-07-17T09:39:32.517Z"
    },
    "scrolled": false
   },
   "outputs": [],
   "source": [
    "fig = plt.figure(figsize=(fig_width/1.618, fig_width/1.618))\n",
    "ax = fig.add_subplot(111, facecolor='w', polar=True)\n",
    "fig, ax = mp_prior.histedges_theta(edgeslist, fig=fig, ax=ax)\n",
    "v_hist, v_theta_edges = mp_prior.histedges_theta(edgeslist, mp_theta=mp_prior.theta, display=False)\n",
    "mp_prior.savefig(fig, 'firstorder_B', figpath = '../figures')"
   ]
  },
  {
   "cell_type": "code",
   "execution_count": null,
   "metadata": {
    "ExecuteTime": {
     "end_time": "2018-07-17T09:39:34.172844Z",
     "start_time": "2018-07-17T09:39:32.518Z"
    }
   },
   "outputs": [],
   "source": [
    "%cd -q ../notebooks"
   ]
  },
  {
   "cell_type": "markdown",
   "metadata": {},
   "source": [
    "## some book keeping for the notebook"
   ]
  },
  {
   "cell_type": "code",
   "execution_count": null,
   "metadata": {
    "ExecuteTime": {
     "end_time": "2018-07-17T09:39:34.173775Z",
     "start_time": "2018-07-17T09:39:32.520Z"
    }
   },
   "outputs": [],
   "source": [
    "%load_ext watermark\n",
    "%watermark"
   ]
  },
  {
   "cell_type": "code",
   "execution_count": null,
   "metadata": {
    "ExecuteTime": {
     "end_time": "2018-07-17T09:39:34.174704Z",
     "start_time": "2018-07-17T09:39:32.521Z"
    }
   },
   "outputs": [],
   "source": [
    "%load_ext version_information\n",
    "%version_information numpy, scipy, matplotlib, SLIP, LogGabor, SparseEdges"
   ]
  }
 ],
 "metadata": {
  "kernelspec": {
   "display_name": "Python 3",
   "language": "python",
   "name": "python3"
  },
  "language_info": {
   "codemirror_mode": {
    "name": "ipython",
    "version": 3
   },
   "file_extension": ".py",
   "mimetype": "text/x-python",
   "name": "python",
   "nbconvert_exporter": "python",
   "pygments_lexer": "ipython3",
   "version": "3.6.5"
  },
  "toc": {
   "base_numbering": 1,
   "nav_menu": {},
   "number_sections": true,
   "sideBar": true,
   "skip_h1_title": false,
   "title_cell": "Table of Contents",
   "title_sidebar": "Contents",
   "toc_cell": false,
   "toc_position": {},
   "toc_section_display": true,
   "toc_window_display": false
  }
 },
 "nbformat": 4,
 "nbformat_minor": 1
}
