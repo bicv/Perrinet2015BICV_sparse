{
 "cells": [
  {
   "cell_type": "code",
   "execution_count": null,
   "metadata": {
    "collapsed": false
   },
   "outputs": [],
   "source": [
    "%load_ext autoreload\n",
    "%autoreload 2\n",
    "\n",
    "from __future__ import division, print_function\n",
    "%matplotlib inline\n",
    "\n",
    "import matplotlib.pyplot as plt\n",
    "\n",
    "import numpy as np\n",
    "np.set_printoptions(precision=4)#, suppress=True)\n",
    "%cd -q ../test/"
   ]
  },
  {
   "cell_type": "markdown",
   "metadata": {},
   "source": [
    "# SparseEdges: comparing efficiency\n",
    "\n",
    "Our goal here is to test the influence of the size of the image on its sparseness.  \n",
    "\n",
    "This class exploits the SparseEdges package to provide with a sparse representation of edges in images.\n",
    "\n",
    "This notebook reproduces the figure 14.4 of the following paper:\n",
    "\n",
    "~~~~{.bibtex}\n",
    "@inbook{Perrinet15bicv,\n",
    "    author = {Perrinet, Laurent U.},\n",
    "    booktitle = {Biologically-inspired Computer Vision},\n",
    "    chapter = {13},\n",
    "    citeulike-article-id = {13566753},\n",
    "    editor = {Keil, Matthias and Crist\\'{o}bal, Gabriel and Perrinet, Laurent U.},\n",
    "    keywords = {anr-trax, bicv-sparse},\n",
    "    posted-at = {2015-03-31 14:21:35},\n",
    "    priority = {2},\n",
    "    publisher = {Wiley, New-York},\n",
    "    title = {Sparse models},\n",
    "    year = {2015}\n",
    "}\n",
    "~~~~\n",
    "\n",
    "\n",
    "More information is available @ http://nbviewer.ipython.org/github/bicv/SparseEdges/blob/master/SparseEdges.ipynb\n",
    "Tests for the packages are available @ http://nbviewer.ipython.org/github/bicv/SparseEdges/blob/master/test-SparseEdges.ipynb."
   ]
  },
  {
   "cell_type": "markdown",
   "metadata": {},
   "source": [
    "### Effect of parameters on edge extraction: filter parameters\n",
    "\n"
   ]
  },
  {
   "cell_type": "code",
   "execution_count": null,
   "metadata": {
    "collapsed": false
   },
   "outputs": [],
   "source": [
    "%%writefile experiment_efficiency.py\n",
    "#! /usr/bin/env python\n",
    "# -*- coding: utf8 -*-\n",
    "from __future__ import division, print_function\n",
    "\"\"\"\n",
    "\n",
    "$ ipython experiment_efficiency.py\n",
    "\n",
    "rm -fr **/efficiency_* **/**/efficiency_* \n",
    "\n",
    "\"\"\"\n",
    "import numpy as np\n",
    "from SparseEdges import SparseEdges\n",
    "\n",
    "threshold = None # classical plots\n",
    "threshold = .3 # plot L0 sparseness obtained when reaching this threshold\n",
    " \n",
    "mp = SparseEdges('https://raw.githubusercontent.com/bicv/SparseEdges/master/default_param.py')\n",
    "def init_mp():\n",
    "    mp = SparseEdges('https://raw.githubusercontent.com/bicv/SparseEdges/master/default_param.py')\n",
    "    mp.pe.seed = 42\n",
    "    mp.pe.N_image = 60\n",
    "    mp.pe.datapath = 'database/'\n",
    "    mp.pe.figpath = '../figures/'    \n",
    "    return mp\n",
    "\n",
    "import matplotlib\n",
    "matplotlib.use('Agg') \n",
    "\n",
    "import matplotlib.pyplot as plt\n",
    "fig_width_pt = 318.67085 # Get this from LaTeX using \\showthe\\columnwidth\n",
    "inches_per_pt = 1.0/72.27               # Convert pt to inches\n",
    "fig_width = fig_width_pt*inches_per_pt  # width in inches\n",
    "\n",
    "# ==================================================================================================#\n",
    "fig, [[A, B], [C, D]] = plt.subplots(2, 2, figsize=(fig_width, fig_width), subplot_kw={'axisbg':'w'})\n",
    "# ==================================================================================================#\n",
    "mps, experiments = [], []\n",
    "v_B_sf = np.logspace(-.2, .2, 5, base=10, endpoint=True)*mp.pe.B_sf\n",
    "for B_sf in v_B_sf:\n",
    "    mp = init_mp()\n",
    "    mp.pe.B_sf = B_sf\n",
    "    exp = 'efficiency_B_sf_' + str(B_sf).replace('.', '_')\n",
    "    mp.process(exp)\n",
    "    experiments.append(exp)\n",
    "    mps.append(mp)\n",
    "\n",
    "databases = ['serre07_distractors'] * len(experiments)\n",
    "labels = ['%0.2f' % B_sf for B_sf in v_B_sf]\n",
    "try:\n",
    "    fig, A, inset = mp.plot(mps=mps,\n",
    "                      experiments=experiments, databases=databases, labels=labels, ref=2,\n",
    "                      fig=fig, ax=A, color=[0., 1., 0.], threshold=threshold, scale=False)    \n",
    "    A.set_xlabel(r'frequency bandwith $B_{sf}$')\n",
    "except Exception as e:\n",
    "    print('Failed to plot  with error : %s ' % e )\n",
    "\n",
    "# ==================================================================================================#    \n",
    "mps, experiments = [], []\n",
    "v_B_theta = np.logspace(-.5, .5, 5, base=10, endpoint=True)*mp.pe.B_theta\n",
    "for B_theta in v_B_theta:\n",
    "    mp = init_mp()\n",
    "    mp.pe.B_theta = B_theta\n",
    "    exp = 'efficiency_B_theta_' + str(B_theta).replace('.', '_')\n",
    "    mp.process(exp)\n",
    "    experiments.append(exp)\n",
    "    mps.append(mp)\n",
    "\n",
    "databases = ['serre07_distractors'] * len(experiments)\n",
    "labels = ['%0.2f' % B_theta for B_theta in v_B_theta]\n",
    "try:\n",
    "    fig, B, inset = mp.plot(mps=mps, \n",
    "                      experiments=experiments, databases=databases, labels=labels, ref=2, \n",
    "                      fig=fig, ax=B, threshold=threshold, scale=False, color=[0., 1., 0.])    \n",
    "    B.set_xlabel(r'orientation bandwith $B_{\\theta}$ (radians)')\n",
    "    B.set_ylabel('')\n",
    "except Exception as e:\n",
    "    print('Failed to plot  with error : %s ' % e )\n",
    "\n",
    "# ==================================================================================================#    \n",
    "mps, experiments = [], []\n",
    "v_n_theta = [6, 12, 24, 48]\n",
    "for n_theta in v_n_theta:\n",
    "    mp = init_mp()\n",
    "    mp.pe.n_theta = n_theta\n",
    "    mp = init_mp()\n",
    "    exp = 'efficiency_n_theta_' + str(n_theta).replace('.', '_')\n",
    "    mp.process(exp)\n",
    "    experiments.append(exp)\n",
    "    mps.append(mp)\n",
    "\n",
    "databases = ['serre07_distractors'] * len(experiments)\n",
    "labels = [str(n_theta) for n_theta in v_n_theta]\n",
    "try:\n",
    "    fig, C, inset = mp.plot(mps=mps, \n",
    "                      experiments=experiments, databases=databases, labels=labels, ref=2, \n",
    "                      fig=fig, ax=C, threshold=threshold, scale=True, color=[0., 1., 0.])    \n",
    "    C.set_xlabel(r'number of orientations $N_{\\theta}$')\n",
    "except Exception as e:\n",
    "    print('Failed to plot  with error : %s ' % e )\n",
    "\n",
    "# ==================================================================================================#    \n",
    "mps, experiments = [], []\n",
    "v_base_levels = [np.sqrt(2), np.sqrt(5)/2.+.5, np.sqrt(3), 2. , np.sqrt(5)]\n",
    "#np.logspace(.25, 1.25, 5, base=2, endpoint=True)\n",
    "for base_levels in v_base_levels:\n",
    "    mp = init_mp()\n",
    "    mp.pe.base_levels = base_levels\n",
    "    mp = init_mp()\n",
    "    exp = 'efficiency_base_levels_' + str(base_levels).replace('.', '_')\n",
    "    mp.process(exp)\n",
    "    experiments.append(exp)\n",
    "    mps.append(mp)\n",
    "\n",
    "databases = ['serre07_distractors'] * len(experiments)\n",
    "labels = ['%0.2f' % (base_levels) for base_levels in v_base_levels]\n",
    "labels[0] = r'$\\sqrt{2}$'\n",
    "labels[1] = r'$\\phi$'\n",
    "labels[3] = '2'\n",
    "try:\n",
    "    fig, D, inset = mp.plot(mps=mps, \n",
    "                      experiments=experiments, databases=databases, labels=labels, ref=3, \n",
    "                      fig=fig, ax=D, threshold=threshold, scale=True, color=[0., 1., 0.])    \n",
    "    D.set_xlabel(r'scale ratio')\n",
    "    D.set_ylabel('')\n",
    "    D.set_yticks([0., 1., 1.3])\n",
    "    D.set_yticklabels(['0', '1', ''])\n",
    "except Exception as e:\n",
    "    print('Failed to plot  with error : %s ' % e )\n",
    "\n",
    "for ax, label in zip([A, B, C, D], ['A', 'B', 'C', 'D']):\n",
    "    ax.text(-.1, .95, label, transform=ax.transAxes, fontsize=12) #'('+label+')'\n",
    "    ax.set_ylim([0., 1.5])\n",
    "    ax.set_yticks([0., 1., 1.5])\n",
    "    ax.set_yticklabels([\"0\", '1', '1.5'])\n",
    "    if label in ['B', 'D']: ax.set_yticklabels(['', '', ''])\n",
    "        \n",
    "#The parameter meanings (and suggested defaults) are::\n",
    "#\n",
    "#  left  = 0.125  # the left side of the subplots of the figure\n",
    "#  right = 0.9    # the right side of the subplots of the figure\n",
    "#  bottom = 0.1   # the bottom of the subplots of the figure\n",
    "#  top = 0.9      # the top of the subplots of the figure\n",
    "#  wspace = 0.2   # the amount of width reserved for blank space between subplots\n",
    "#  hspace = 0.2   # the amount of height reserved for white space between subplots\n",
    "fig.subplots_adjust(wspace=0.12, hspace=0.3,\n",
    "                            left=0.125, right=0.98,\n",
    "                            top=0.98,    bottom=0.12)\n",
    "    \n",
    "mp.savefig(fig, 'efficiency', figpath = '../figures/')"
   ]
  },
  {
   "cell_type": "code",
   "execution_count": null,
   "metadata": {
    "collapsed": false,
    "scrolled": false
   },
   "outputs": [],
   "source": [
    "%run experiment_efficiency.py\n",
    "fig"
   ]
  },
  {
   "cell_type": "markdown",
   "metadata": {},
   "source": [
    "As we test different parameters for the filters, we measured the gain in efficiency for the algorithm as the ratio of the code length to achieve $85\\%$ of energy extraction relative to that for the default parameters (white bar). The average is computed on the same database of natural images and error bars denote the standard deviation of gain over the database. First, we studied the effect of the bandwidth of filters respectively in the $\\textsf{(A)}$ spatial frequency and $\\textsf{(B)}$ orientation spaces. The minimum is reached for the default parameters: this shows that default parameters provide an optimal compromise between the precision of filters in the frequency and position domains for this database. We may also compare pyramids with different number of filters.  Indeed, efficiency (in bits) is equal to the number of selected filters times the coding cost for the address of each edge in the pyramid.\n",
    "We plot here the average gain in efficiency which shows an optimal compromise respectively for respectively $\\textsf{(C)}$ the number of orientations and $\\textsf{(D)}$ the number of spatial frequencies (scales). Note first that with more than 12 directions, the gain remains stable. Note also that a dyadic scale ratio (that is of 2) is efficient but that other solutions ---such as using the golden section $\\phi$--- prove to be significantly more efficient, though the average gain is relatively small (inferior to $5\\%$)."
   ]
  },
  {
   "cell_type": "markdown",
   "metadata": {},
   "source": [
    "## some book keeping for the notebook"
   ]
  },
  {
   "cell_type": "code",
   "execution_count": null,
   "metadata": {
    "collapsed": false
   },
   "outputs": [],
   "source": [
    "%load_ext watermark\n",
    "%watermark"
   ]
  },
  {
   "cell_type": "code",
   "execution_count": null,
   "metadata": {
    "collapsed": false
   },
   "outputs": [],
   "source": [
    "%load_ext version_information\n",
    "%version_information numpy, scipy, matplotlib, sympy"
   ]
  },
  {
   "cell_type": "code",
   "execution_count": null,
   "metadata": {
    "collapsed": true
   },
   "outputs": [],
   "source": [
    "%cd -q ../notebooks/"
   ]
  }
 ],
 "metadata": {
  "kernelspec": {
   "display_name": "Python 3",
   "language": "python",
   "name": "python3"
  },
  "language_info": {
   "codemirror_mode": {
    "name": "ipython",
    "version": 3
   },
   "file_extension": ".py",
   "mimetype": "text/x-python",
   "name": "python",
   "nbconvert_exporter": "python",
   "pygments_lexer": "ipython3",
   "version": "3.6.0"
  }
 },
 "nbformat": 4,
 "nbformat_minor": 0
}
