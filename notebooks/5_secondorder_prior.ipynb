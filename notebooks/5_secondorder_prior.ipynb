{
 "cells": [
  {
   "cell_type": "code",
   "execution_count": null,
   "metadata": {
    "collapsed": true
   },
   "outputs": [],
   "source": [
    "%load_ext autoreload\n",
    "%autoreload 2\n",
    "\n",
    "from __future__ import division, print_function\n",
    "%matplotlib inline\n",
    "\n",
    "import os\n",
    "import matplotlib.pyplot as plt\n",
    "\n",
    "import numpy as np\n",
    "np.set_printoptions(precision=4)\n",
    "%cd -q ../test/"
   ]
  },
  {
   "cell_type": "markdown",
   "metadata": {},
   "source": [
    "\n",
    "# SparseEdges : including prior information on edge co-occurrences\n",
    "\n",
    "Natural images show a prototypical distribution of orientation. The goal of this notebook is to study how we could take advantage of this prior information to make the edge extraction even more efficient.\n",
    "\n",
    "Indeed, oriented edges in images commonly occur in co-linear and co-circular arrangements, obeying the good continuation law of Gestalt psychology. The human visual system appears to exploit this property of images, with contour detection, line completion, and grouping performance well predicted by such an association field between edge elements (see Field, 93 and Geisler, 01). In this paper, we show that an association field of this type can be used to enhance the sparse representation of natural images. First, we define the [https://laurentperrinet.github.io/publication/perrinet-15-bicv](SparseLets) framework as an efficient representation of images based on a discrete wavelet transform. Second, we extract second-order information about edge co-occurrences from a set of images of natural scenes. Finally, we incorporate this prior information into our framework and show that it allows for the extraction of features relevant to natural scenes, like a round shape. This novel approach points the way to practical computer vision algorithms with human-like performance. \n",
    "\n",
    "Surprisingly, we will show that indeed we can make the extraction tuned to that statistics, but that the overall efficiency is not significantly improved.\n",
    "\n",
    "\n",
    "This class exploits the [https://laurentperrinet.github.io/publication/perrinet-15-bicv](SparseEdges) package to provide with a sparse representation of edges in images.\n",
    "\n",
    "This notebook reproduces the figure 14.4 of the following paper:\n",
    "\n",
    "~~~~{.bibtex}\n",
    "@inbook{Perrinet15bicv,\n",
    "    author = {Perrinet, Laurent U.},\n",
    "    booktitle = {Biologically-inspired Computer Vision},\n",
    "    chapter = {13},\n",
    "    citeulike-article-id = {13566753},\n",
    "    editor = {Keil, Matthias and Crist\\'{o}bal, Gabriel and Perrinet, Laurent U.},\n",
    "    keywords = {anr-trax, bicv-sparse},\n",
    "    posted-at = {2015-03-31 14:21:35},\n",
    "    priority = {2},\n",
    "    publisher = {Wiley, New-York},\n",
    "    title = {Sparse models},\n",
    "    year = {2015}\n",
    "}\n",
    "~~~~\n",
    "\n",
    "\n",
    "More information is available @ http://nbviewer.ipython.org/github/bicv/SparseEdges/blob/master/SparseEdges.ipynb\n",
    "Tests for the packages are available @ http://nbviewer.ipython.org/github/bicv/SparseEdges/blob/master/test-SparseEdges.ipynb.\n",
    "\n",
    "\n",
    "In particular, this particular work was \n",
    "\n",
    "~~~~{.bibtex}\n",
    "\n",
    "@inproceedings{Perrinet15eusipco,\n",
    "    title = {Sparse Coding Of Natural Images Using A Prior On Edge {Co-Occurences}},\n",
    "    author = {Perrinet, Laurent U. and Bednar, James A.},\n",
    "    booktitle = {European Signal Processing Conference 2015 (EUSIPCO 2015)},\n",
    "    abstract = {Oriented edges in images of natural scenes tend to be aligned in co-linear or co-circular arrangements, with lines and smooth curves more common than other possible arrangements of edges (the \"good continuation law\" of Gestalt psychology). The visual system appears to take advantage of this prior knowledge about natural images, with human contour detection and grouping performance well predicted by such an \"association field\" between edge elements. Geisler et al (2001) have estimated this prior information available to the visual system by extracting contours from a database of natural images, and showed that these statistics could predict behavioral data from humans in a line completion task. In this paper, we show that an association field of this type can be used for the sparse representation of natural images.},\n",
    "    address = {Nice, France},\n",
    "    citeulike-article-id = {13563378},\n",
    "    keywords = {association, bicv-sparse, coding, connections, field, lateral, natural, scene, sparse, sparselets, statistics},\n",
    "    month = aug,\n",
    "    posted-at = {2015-03-27 10:56:57},\n",
    "    priority = {2},\n",
    "    year = {2015},\n",
    "url = {http://ieeexplore.ieee.org/document/7362781/}\n",
    "url = {http://dx.doi.org/10.1109/EUSIPCO.2015.7362781},\n",
    "doi = {10.1109/EUSIPCO.2015.7362781},\n",
    "}\n",
    "~~~~\n",
    "\n",
    "\n",
    "Table of content\n",
    "\n",
    "* [A dipole as a second-order prior](#A-dipole-as-a-second-order-prior)\n",
    "* [Prior on second-order distribution of edge co-occurences](#Prior-on-second-order-distribution-of-orientations)\n",
    "* [Application to segmentation](#Application-to-segmentation)\n"
   ]
  },
  {
   "cell_type": "markdown",
   "metadata": {},
   "source": [
    "## Initialization"
   ]
  },
  {
   "cell_type": "code",
   "execution_count": null,
   "metadata": {},
   "outputs": [],
   "source": [
    "#! defining framework\n",
    "#!-------------------\n",
    "from SparseEdges import SparseEdgesWithDipole as SparseEdges\n",
    "mp = SparseEdges('https://raw.githubusercontent.com/bicv/SparseEdges/master/default_param.py')\n",
    "#mp = SparseEdgesWithDipole('../default_param.py')\n",
    "mp.pe.datapath = 'database/'\n",
    "#pe.N = 4\n",
    "#pe.do_mask=False\n",
    "#pe.MP_alpha=1.\n",
    "#pe.do_whitening = False\n",
    "\n",
    "print ('Range of spatial frequencies: ', mp.sf_0)"
   ]
  },
  {
   "cell_type": "code",
   "execution_count": null,
   "metadata": {},
   "outputs": [],
   "source": [
    "print ('Range of angles: ', mp.theta*180./np.pi)"
   ]
  },
  {
   "cell_type": "markdown",
   "metadata": {},
   "source": [
    "## A dipole as a second-order prior"
   ]
  },
  {
   "cell_type": "markdown",
   "metadata": {},
   "source": [
    "### constructing the dipole step by step"
   ]
  },
  {
   "cell_type": "markdown",
   "metadata": {},
   "source": [
    "Let's contruct a dipole step by step.\n",
    "\n",
    "A dipole is defined by a reference edge, given by its position, orientationand scale, and by the probability associated to this reference.\n",
    "\n",
    "We show it on a GoldenPyramid® :"
   ]
  },
  {
   "cell_type": "code",
   "execution_count": null,
   "metadata": {},
   "outputs": [],
   "source": [
    "help(mp.golden_pyramid)"
   ]
  },
  {
   "cell_type": "markdown",
   "metadata": {},
   "source": [
    "First, we define the relative difference of orientation $\\psi$:"
   ]
  },
  {
   "cell_type": "code",
   "execution_count": null,
   "metadata": {},
   "outputs": [],
   "source": [
    "def plot_dipole( w=.25, B_psi=.5, B_theta=.5, scale=1.5, epsilon=1.e-6):\n",
    "    x, y, theta_edge, sf_0, C, phase = mp.pe.N_X/2, mp.pe.N_Y/2, mp.theta[-1], mp.sf_0[2], 1, 0.\n",
    "    D = np.ones((mp.pe.N_X, mp.pe.N_Y, mp.pe.n_theta, mp.n_levels))\n",
    "    for i_sf_0, sf_0_ in enumerate(mp.sf_0):\n",
    "        for i_theta, theta_layer in enumerate(mp.theta):\n",
    "            psi = np.arctan2(mp.Y-y, mp.X-x) - theta_layer #- theta_edge + theta/2 - np.pi/4\n",
    "            psi = ((psi + np.pi/2  - np.pi/mp.pe.N_phi/2 ) % (np.pi)) - np.pi/2  + np.pi/mp.pe.N_phi/2\n",
    "            D[:, :, i_theta, i_sf_0] = np.exp((np.cos(2*psi)-1.)/(B_psi**2))\n",
    "    mp.golden_pyramid(D)\n",
    "plot_dipole()"
   ]
  },
  {
   "cell_type": "markdown",
   "metadata": {},
   "source": [
    "Now we add difference of orientation $\\theta$"
   ]
  },
  {
   "cell_type": "code",
   "execution_count": null,
   "metadata": {},
   "outputs": [],
   "source": [
    "def plot_dipole(w=mp.pe.dip_w, B_psi=mp.pe.dip_B_psi, B_theta=mp.pe.dip_B_psi, scale=mp.pe.dip_B_psi, epsilon=mp.pe.dip_epsilon):\n",
    "    x, y, theta_edge, sf_0, C, phase = mp.pe.N_X/2, mp.pe.N_Y/2, mp.theta[-1], mp.sf_0[2], 1, 0.\n",
    "    theta_edge = np.pi/2 - theta_edge\n",
    "    #theta_edge = ((theta_edge + np.pi/2 - np.pi/mp.pe.n_theta/2)  % (np.pi) ) - np.pi/2  + np.pi/mp.pe.n_theta/2\n",
    "    print (theta_edge*180/np.pi)\n",
    "    D = np.ones((mp.pe.N_X, mp.pe.N_Y, mp.pe.n_theta, mp.n_levels))\n",
    "    for i_sf_0, sf_0_ in enumerate(mp.sf_0):\n",
    "        for i_theta, theta_layer in enumerate(mp.theta):\n",
    "            theta_layer = np.pi/2 - theta_layer\n",
    "            theta_layer = ((theta_layer + np.pi/2 - np.pi/mp.pe.n_theta/2)  % (np.pi) ) - np.pi/2  + np.pi/mp.pe.n_theta/2\n",
    "            theta = theta_layer - theta_edge # angle between edge's orientation and the layer's one\n",
    "            psi = np.arctan2(mp.Y-y, mp.X-x) - theta_edge -np.pi/2 - theta/2 #- np.pi/4\n",
    "            #print i_theta, theta*180/np.pi\n",
    "            #psi = ((psi + np.pi/2  - np.pi/mp.pe.N_phi/2 ) % (np.pi)) - np.pi/2  + np.pi/mp.pe.N_phi/2\n",
    "            D[:, :, i_theta, i_sf_0] = np.exp((np.cos(2*(psi))-1.)/(B_psi**2))\n",
    "            D[:, :, i_theta, i_sf_0] *= np.exp((np.cos(2*theta)-1.)/(B_theta**2))\n",
    "    D -= D.mean()\n",
    "    D /= np.abs(D).max()\n",
    "    \n",
    "    print (D.min(), D.mean(), D.max())\n",
    "    mp.golden_pyramid(D)\n",
    "plot_dipole()"
   ]
  },
  {
   "cell_type": "markdown",
   "metadata": {},
   "source": [
    "Now we modulate it according to distance $d$ and scale to obtain the final dipole as implemented in ``SparseEdges``:"
   ]
  },
  {
   "cell_type": "code",
   "execution_count": null,
   "metadata": {
    "scrolled": true
   },
   "outputs": [],
   "source": [
    "def plot_dipole(w=mp.pe.dip_w, B_psi=mp.pe.dip_B_psi, B_theta=mp.pe.dip_B_psi, scale=mp.pe.dip_B_psi, epsilon=mp.pe.dip_epsilon):\n",
    "    x, y, theta_edge, sf_0, C, phase = mp.pe.N_X/2., mp.pe.N_Y/2., mp.theta[-1], mp.sf_0[2], 1, 0.\n",
    "    theta_edge = np.pi/2 - theta_edge\n",
    "    print( theta_edge*180/np.pi)\n",
    "    D = np.zeros((mp.pe.N_X, mp.pe.N_Y, mp.pe.n_theta, mp.n_levels))\n",
    "    distance = np.sqrt(((mp.X-x)**2+(mp.Y-y)**2)/(mp.pe.N_X**2+mp.pe.N_Y**2))/w\n",
    "    #print distance.max()\n",
    "    neighborhood = np.exp(-distance**2)\n",
    "    for i_sf_0, sf_0_ in enumerate(mp.sf_0):\n",
    "        for i_theta, theta_layer in enumerate(mp.theta):\n",
    "#                                if self.pe.scale_invariant: d *= np.sqrt(Sf_0[:, np.newaxis]*Sf_0[np.newaxis, :])#*np.sqrt(self.N_X)\n",
    "            theta_layer = np.pi/2 - theta_layer\n",
    "            theta_layer = ((theta_layer + np.pi/2 - np.pi/mp.pe.n_theta/2)  % (np.pi) ) - np.pi/2  + np.pi/mp.pe.n_theta/2\n",
    "            theta = theta_layer - theta_edge # angle between edge's orientation and the layer's one\n",
    "            psi = np.arctan2(mp.Y-y, mp.X-x) - theta_edge -np.pi/2 - theta/2 #- np.pi/4\n",
    "\n",
    "            d = distance + epsilon\n",
    "            D[:, :, i_theta, i_sf_0] = np.exp((np.cos(2*(psi))-1)/(B_psi**2 * d))#/(B_psi*np.sqrt(d))\n",
    "            D[:, :, i_theta, i_sf_0] *= np.exp((np.cos(2*theta)-1)/(B_theta**2 * d))/(B_theta*np.sqrt(d))\n",
    "#        D[:, :, :, i_sf_0] /= D[:, :, :, i_sf_0].mean()\n",
    "#        D[:, :, :, i_sf_0] -= 1.\n",
    "        D[:, :, :, i_sf_0] *= neighborhood[:, :, np.newaxis] * np.exp(-np.abs( np.log2(mp.sf_0[i_sf_0] / sf_0)) / scale)\n",
    "#        D[:, :, :, i_sf_0] += 1.\n",
    "    D -= D.mean()\n",
    "    D /= np.abs(D).max()\n",
    "    \n",
    "    print (D.min(), D.mean(), D.max())\n",
    "\n",
    "    mp.golden_pyramid(np.log2(1.+D))\n",
    "plot_dipole()"
   ]
  },
  {
   "cell_type": "code",
   "execution_count": null,
   "metadata": {},
   "outputs": [],
   "source": [
    "\n",
    "def plot_dipole(w=mp.pe.dip_w, B_psi=mp.pe.dip_B_psi, B_theta=mp.pe.dip_B_psi, scale=mp.pe.dip_B_psi, epsilon=mp.pe.dip_epsilon):\n",
    "    mp.pe.dip_w = w\n",
    "    mp.pe.dip_B_psi=B_psi\n",
    "    mp.pe.dip_B_theta=B_theta\n",
    "    mp.pe.dip_scale=scale\n",
    "    mp.pe.dip_epsilon=epsilon\n",
    "    logD = mp.dipole(np.array([mp.pe.N_X/2, mp.pe.N_Y/2, mp.theta[0], mp.sf_0[2], 1, 0.]))\n",
    "    mp.golden_pyramid(logD)\n",
    "#plot_dipole()\n",
    "from IPython.html.widgets import interact\n",
    "_ = interact(plot_dipole, w=(.0, .3, .0001), B_psi=(0.01, 2., 0.04), B_theta=(0.01, 2., 0.04), scale=(0.01, 20., .04), epsilon=(0, 1, 0.1))"
   ]
  },
  {
   "cell_type": "markdown",
   "metadata": {},
   "source": [
    "co-circular axis of same angle are aligned."
   ]
  },
  {
   "cell_type": "markdown",
   "metadata": {},
   "source": [
    "### testing with a simple image of 2 edges"
   ]
  },
  {
   "cell_type": "code",
   "execution_count": null,
   "metadata": {},
   "outputs": [],
   "source": [
    "import matplotlib\n",
    "#matplotlib.rcParams.update({'font.size': 18, 'font.family': 'STIXGeneral', 'mathtext.fontset': 'stix'})\n",
    "matplotlib.rcParams.update({'text.usetex': False})\n",
    "%matplotlib inline\n",
    "%config InlineBackend.figure_format='retina'\n",
    "import matplotlib.pyplot as plt\n",
    "\n",
    "import numpy as np\n",
    "np.set_printoptions(precision=4)#, suppress=True)"
   ]
  },
  {
   "cell_type": "code",
   "execution_count": null,
   "metadata": {},
   "outputs": [],
   "source": [
    "# mp = SparseEdgesWithDipole('https://raw.githubusercontent.com/bicv/SparseEdges/master/default_param.py')\n",
    "\n",
    "from SparseEdges import SparseEdgesWithDipole\n",
    "mp = SparseEdgesWithDipole('https://raw.githubusercontent.com/bicv/SparseEdges/master/default_param.py')\n",
    "\n",
    "mp.pe.datapath = '../../SLIP/database/'\n",
    "\n",
    "# filters in Fourier space\n",
    "edge_in, edge_bis, edge_ter = [mp.pe.N_X*.5-10+42, mp.pe.N_Y*.5+10, 18, 2], [mp.pe.N_X*.5+42+10, mp.pe.N_Y*.5-10, 17, 2], [mp.pe.N_X*.25+42, mp.pe.N_Y*.25, 5, 2]\n",
    "FT_lg_in = mp.loggabor(edge_in[0], edge_in[1], \n",
    "                       theta= mp.theta[edge_in[2]], B_theta=mp.pe.B_theta,\n",
    "                       sf_0=mp.sf_0[edge_in[3]],  B_sf=mp.pe.B_sf)\n",
    "FT_lg_bis = mp.loggabor(edge_bis[0], edge_bis[1], \n",
    "                        theta= mp.theta[edge_bis[2]], B_theta=mp.pe.B_theta,\n",
    "                        sf_0=mp.sf_0[edge_bis[3]], B_sf=mp.pe.B_sf)\n",
    "FT_lg_ter = mp.loggabor(edge_ter[0], edge_ter[1], \n",
    "                        theta= mp.theta[edge_ter[2]], B_theta=mp.pe.B_theta,\n",
    "                        sf_0=mp.sf_0[edge_ter[3]], B_sf=mp.pe.B_sf)\n",
    "# mixing both and shows one\n",
    "FT_lg_ = 42. *  FT_lg_in + 35.*np.exp(1j*np.pi/4.) * FT_lg_bis + 40. *  FT_lg_ter\n",
    "fig = mp.show_FT(FT_lg_)"
   ]
  },
  {
   "cell_type": "code",
   "execution_count": null,
   "metadata": {},
   "outputs": [],
   "source": [
    "image = mp.invert(FT_lg_)\n",
    "mp.pe.do_whitening = False\n",
    "mp.pe.N = 5\n",
    "mp.pe.MP_alpha = 1."
   ]
  },
  {
   "cell_type": "code",
   "execution_count": null,
   "metadata": {},
   "outputs": [],
   "source": [
    "z = np.ones((mp.pe.N_X, mp.pe.N_Y, mp.pe.n_theta, mp.n_levels))\n",
    "for i_sf_0, sf_0_ in enumerate(mp.sf_0):\n",
    "    for i_theta, theta in enumerate(mp.theta):\n",
    "        params = {'sf_0':sf_0_, 'B_sf':mp.pe.B_sf, 'theta':theta, 'B_theta':mp.pe.B_theta}\n",
    "        # loggabor takes as args: u, v, sf_0, B_sf, theta, B_theta)\n",
    "        FT_lg = mp.loggabor(0, 0, **params)\n",
    "        z[:, :, i_theta, i_sf_0] = np.absolute(mp.FTfilter(image, FT_lg, full=True))\n",
    "\n",
    "fig = mp.golden_pyramid(z)"
   ]
  },
  {
   "cell_type": "code",
   "execution_count": null,
   "metadata": {},
   "outputs": [],
   "source": [
    "print (' without second-order ')\n",
    "mp.pe.eta_SO = 0.\n",
    "edges, C_res = mp.run_mp(image, verbose=True)"
   ]
  },
  {
   "cell_type": "code",
   "execution_count": null,
   "metadata": {},
   "outputs": [],
   "source": [
    "print (' with second-order ')\n",
    "mp.pe.eta_SO = .3\n",
    "edges, C_res = mp.run_mp(image, verbose=True)"
   ]
  },
  {
   "cell_type": "code",
   "execution_count": null,
   "metadata": {
    "scrolled": false
   },
   "outputs": [],
   "source": [
    "mp.pe.eta_SO = .01\n",
    "self = mp\n",
    "C = self.linear_pyramid(image)\n",
    "logD = np.zeros((self.pe.N_X, self.pe.N_Y, self.pe.n_theta, self.n_levels))#, dtype=np.complex)\n",
    "for i_edge in range(5):\n",
    "    # MATCHING\n",
    "    ind_edge_star = self.argmax(C * np.exp( self.pe.eta_SO * logD))\n",
    "\n",
    "    coeff = self.pe.MP_alpha * np.absolute(C[ind_edge_star])\n",
    "    # recording\n",
    "    print ('Max activity  : ', np.absolute(C[ind_edge_star]), ' phase= ', np.angle(C[ind_edge_star], deg=True), ' deg,  @ ', ind_edge_star)\n",
    "    edges[:, i_edge] = np.array([ind_edge_star[0]*1., ind_edge_star[1]*1.,\n",
    "                             self.theta[ind_edge_star[2]],\n",
    "                             self.sf_0[ind_edge_star[3]],\n",
    "                             coeff, np.angle(C[ind_edge_star])])\n",
    "    # PURSUIT\n",
    "    if self.pe.eta_SO>0.: logD+= np.absolute(C[ind_edge_star]) * self.dipole(edges[:, i_edge])\n",
    "    C = self.backprop(C, ind_edge_star)\n",
    "    fig = self.golden_pyramid(C * np.exp( self.pe.eta_SO * logD))"
   ]
  },
  {
   "cell_type": "markdown",
   "metadata": {},
   "source": [
    "## Dipole based on the measured statistics"
   ]
  },
  {
   "cell_type": "code",
   "execution_count": null,
   "metadata": {},
   "outputs": [],
   "source": [
    "!ls cache_dir/edges/SparseLets*"
   ]
  },
  {
   "cell_type": "code",
   "execution_count": null,
   "metadata": {},
   "outputs": [],
   "source": [
    "mp = SparseEdgesWithDipole('https://raw.githubusercontent.com/bicv/SparseEdges/master/default_param.py')\n",
    "mp.pe.datapath = '../../SLIP/database/'\n",
    "\n",
    "\n",
    "edgeslist = np.load('cache_dir/edges/SparseLets_serre07_distractors_edges.npy')\n",
    "v_hist = mp.cohistedges(edgeslist, display=False)\n",
    "v_hist.mean(), v_hist.shape\n",
    "mp.pe.d_max = 50.\n",
    "mp.cohistedges(edgeslist=None, v_hist=v_hist)\n",
    "    "
   ]
  },
  {
   "cell_type": "code",
   "execution_count": null,
   "metadata": {},
   "outputs": [],
   "source": [
    "def plot_dipole():\n",
    "    D = np.ones((mp.pe.N_X, mp.pe.N_Y, mp.pe.n_theta, mp.n_levels))\n",
    "    x, y, theta, sf_0, C, phase = mp.pe.N_X/2, mp.pe.N_Y/2, mp.theta[8], mp.sf_0[2], 1, 0.\n",
    "    d = np.sqrt((mp.X-x)**2+(mp.Y-y)**2)/mp.pe.N_X\n",
    "    #if mp.pe.scale_invariant: d *= np.sqrt(Sf_0[:, np.newaxis]*Sf_0[np.newaxis, :])#*np.sqrt(self.N_X)\n",
    "    d *= mp.pe.d_width # distance in visual angle\n",
    "    i_d = np.floor((d - mp.pe.d_min)/(mp.pe.d_max-mp.pe.d_min)*mp.pe.N_r)\n",
    "    #print mp.pe.d_min, i_d.min(), i_d.mean(), i_d.max(), mp.pe.d_max\n",
    "    i_d = i_d * (i_d>=0)\n",
    "    #print mp.pe.d_min, i_d.min(), i_d.mean(), i_d.max(), mp.pe.d_max\n",
    "    i_d = i_d * (i_d<mp.pe.N_r) + (mp.pe.N_r-1) * (i_d >= mp.pe.N_r)\n",
    "    #print mp.pe.d_min, i_d.min(), i_d.mean(), i_d.max(), mp.pe.d_max\n",
    "\n",
    "    for i_sf_0, sf_0_ in enumerate(mp.sf_0):\n",
    "        loglevel = np.log2(sf_0_/sf_0)\n",
    "        i_loglevel = np.floor((loglevel + mp.pe.loglevel_max)/(mp.pe.loglevel_max*2)*mp.pe.N_scale)* np.ones_like(i_d)\n",
    "        print( i_loglevel.min(), i_loglevel.mean(), i_loglevel.max())\n",
    "\n",
    "        for ii_theta, theta_ in enumerate(mp.theta):\n",
    "            D_theta = theta - theta_ # angle between edge's orientation and the layer's one\n",
    "            phi = np.arctan2(mp.Y-y, mp.X-x) - np.pi/2 - theta_ - D_theta/2\n",
    "            # putting everything in the [-pi/2, pi/2[ quadrant\n",
    "            theta = ((D_theta + np.pi/2 - np.pi/mp.pe.n_theta/2)  % (np.pi) ) - np.pi/2  + np.pi/mp.pe.n_theta/2\n",
    "            phi = ((phi + np.pi/2  - np.pi/mp.pe.N_phi/2 ) % (np.pi)) - np.pi/2  + np.pi/mp.pe.N_phi/2\n",
    "            # discretizing\n",
    "            i_theta = np.floor((theta + np.pi/2)/np.pi*mp.pe.n_theta) * np.ones_like(i_d)\n",
    "            i_theta = i_theta * (1-(i_theta == mp.pe.n_theta)) + 0. * (i_theta == mp.pe.n_theta)\n",
    "            i_phi = np.floor((phi + np.pi/2)/np.pi*mp.pe.N_phi)\n",
    "            #print 1-(i_phi == mp.pe.N_phi)\n",
    "            i_phi = i_phi * (1-(i_phi == mp.pe.N_phi)) + 0. * (i_phi == mp.pe.N_phi)\n",
    "            #print i_d.max(), i_phi.max(), i_theta.max(), i_loglevel.max()\n",
    "            #print i_d.shape, i_phi.shape, i_theta.shape, i_loglevel.shape\n",
    "            #print type(i_d), type(i_phi), type(i_theta), type(i_loglevel)\n",
    "            #print ii_theta, i_sf_0, theta_\n",
    "            D[:, :, ii_theta, i_sf_0] = v_hist[i_d.astype(int), i_phi.astype(int), i_theta.astype(int), i_loglevel.astype(int)]\n",
    "\n",
    "    \n",
    "    im_RGB, im_max = [], 0\n",
    "    for i_sf_0, sf_0_ in enumerate(mp.sf_0):\n",
    "        im_RGB_ = np.zeros((mp.pe.N_X, mp.pe.N_Y, 3))\n",
    "        for i_theta, theta_ in enumerate(mp.theta):\n",
    "            im_abs = np.absolute(D[:, :, i_theta, i_sf_0])\n",
    "            RGB = np.array([.5*np.sin(2*theta_ + 2*i*np.pi/3)+.5 for i in range(3)])\n",
    "            im_RGB_ += im_abs[:,:, np.newaxis] * RGB[np.newaxis, np.newaxis, :]\n",
    "\n",
    "        im_max = np.max((im_max, im_RGB_.max()))\n",
    "        im_RGB.append(im_RGB_)\n",
    "       \n",
    "    phi = (np.sqrt(5) +1.)/2. # golden number\n",
    "    opts= {'vmin':0., 'vmax':1., 'interpolation':'nearest', 'origin':'upper'}\n",
    "    fig_width = 16\n",
    "    fig = plt.figure(figsize=(fig_width, fig_width/phi))\n",
    "    xmin, ymin, size = 0, 0, 1.\n",
    "    \n",
    "    for i_sf_0, sf_0_ in enumerate(mp.sf_0):\n",
    "        a = fig.add_axes((xmin/phi, ymin, size/phi, size), facecolor='w')\n",
    "        a.axis(c='b', lw=0)\n",
    "        plt.setp(a, xticks=[])\n",
    "        plt.setp(a, yticks=[])\n",
    "        a.imshow(im_RGB[i_sf_0]/im_max, **opts)\n",
    "        a.grid(False)\n",
    "        i_orientation = np.mod(i_sf_0, 4)\n",
    "        if i_orientation==0:\n",
    "            xmin += size\n",
    "            ymin += size/phi**2\n",
    "        elif i_orientation==1:\n",
    "            xmin += size/phi**2\n",
    "            ymin += -size/phi\n",
    "        elif i_orientation==2:\n",
    "            xmin += -size/phi\n",
    "        elif i_orientation==3:\n",
    "            ymin += size\n",
    "        size /= phi \n",
    "\n",
    "plot_dipole()\n",
    "#from IPython.html.widgets import interact\n",
    "#_ = interact(plot_dipole, w=(pe.N_X*.01,pe.N_X,pe.N_X*.01), B_phi=(0.01, 2., 0.04), B_theta=(0.01, 2., 0.04), scale=(0.01, 2., 0.04))"
   ]
  },
  {
   "cell_type": "code",
   "execution_count": null,
   "metadata": {},
   "outputs": [],
   "source": [
    "ind = np.array([[0, 0], [1, 2]])\n",
    "v_hist[ind, ind, ind, ind]"
   ]
  },
  {
   "cell_type": "raw",
   "metadata": {},
   "source": [
    "%run experiment_fig-secondorder.py"
   ]
  },
  {
   "cell_type": "raw",
   "metadata": {},
   "source": [
    "print figpath\n",
    "experiments = ['prior_vanilla', 'prior_vanilla_secondorder']\n",
    "databases = ['serre07_distractors'] * len(experiments)\n",
    "mps = [mp, mp]\n",
    "from SparseEdges import plot\n",
    "labels = ['control', '2nd-order prior']\n",
    "fig, a, ax = plot(mps=mps, experiments=experiments, databases=databases, labels=labels, color=[1., 0., 1.])    \n",
    "if not(figpath==None): \n",
    "    mp.savefig(fig, os.path.join(mp.pe.figpath, 'sparseedges_B'))"
   ]
  },
  {
   "cell_type": "markdown",
   "metadata": {},
   "source": [
    "## Application to segmentation"
   ]
  },
  {
   "cell_type": "code",
   "execution_count": null,
   "metadata": {},
   "outputs": [],
   "source": [
    "mp.pe.N, N_circle, N_image = 1024, 36, 1\n",
    "edgeslist = np.zeros((6, mp.pe.N+N_circle, N_image))\n",
    "# random edges:\n",
    "edgeslist[0, :mp.pe.N, :] = mp.pe.N_X * np.random.rand(mp.pe.N, N_image)\n",
    "edgeslist[1, :mp.pe.N, :] = mp.pe.N_X * np.random.rand(mp.pe.N, N_image)\n",
    "edgeslist[2, :mp.pe.N, :] = (np.pi* np.random.rand(mp.pe.N, N_image) ) % np.pi\n",
    "edgeslist[3, :mp.pe.N, :] = 0.5 * (1- mp.pe.base_levels**(-mp.n_levels*(np.random.rand(mp.pe.N, N_image))))\n",
    "edgeslist[4, :mp.pe.N, :] = 1.2*np.random.rand(mp.pe.N, N_image) * np.sign(np.random.randn(mp.pe.N, N_image))\n",
    "edgeslist[5, :mp.pe.N, :] = 2*np.pi*np.random.rand(mp.pe.N, N_image)\n",
    "# cocircular edges:\n",
    "for i_N, angle in enumerate(np.linspace(0, 2*np.pi, N_circle)): #2*np.pi*np.random.rand(N_circle)):\n",
    "    edgeslist[0, mp.pe.N + i_N, :] = mp.pe.N_X/2. - mp.pe.N_X/4.*np.sin(angle) + .0 * np.random.randn(N_image)\n",
    "    edgeslist[1, mp.pe.N + i_N, :] = mp.pe.N_X/2. + mp.pe.N_X/4.*np.cos(angle) + .0 * np.random.randn(N_image)\n",
    "    edgeslist[2, mp.pe.N + i_N, :] = (np.pi/2 + angle + .5*np.pi/180 * np.random.randn(N_image)) % np.pi\n",
    "    edgeslist[3, mp.pe.N + i_N, :] = mp.sf_0[2] #0.03\n",
    "    edgeslist[4, mp.pe.N + i_N, :] = .7 + .4*np.exp(np.cos(angle)/1.**2)\n",
    "\n",
    "#print edgeslist.shape\n",
    "#image_rec = mp.reconstruct(edgeslist[:,:,0])\n",
    "#from pylab import imsave, gray\n",
    "#imsave(fname='database/circle_in_noise.png', arr=image_rec, vmin=image_rec.min(), vmax=image_rec.max(), cmap=gray())\n",
    "\n",
    "mp.pe.scale = 1.\n",
    "mp.pe.line_width = 1.5\n",
    "mp.pe.figsize_edges = 5\n",
    "\n",
    "fig, a = mp.show_edges(edgeslist[:,:,0], image=image, color='toto', show_phase=False) #"
   ]
  },
  {
   "cell_type": "markdown",
   "metadata": {},
   "source": [
    "Trying also with Geisler's figure:"
   ]
  },
  {
   "cell_type": "code",
   "execution_count": null,
   "metadata": {},
   "outputs": [],
   "source": [
    "%%writefile experiment_secondorder.py\n",
    "# -*- coding: utf8 -*-\n",
    "from __future__ import division, print_function\n",
    "\n",
    "# rm **/Geisler01Fig7A_secondorder*\n",
    "# rm **/circle_in_noise_secondorder*\n",
    "\n",
    "import os\n",
    "import numpy as np\n",
    "import matplotlib.pyplot as plt\n",
    "\n",
    "from SparseEdges import SparseEdgesWithDipole as SparseEdges\n",
    "\n",
    "#figpath = '../../CNRS/BICV-book/BICV_sparse/'\n",
    "figpath = './'\n",
    "fig_width_pt = 318.670  # Get this from LaTeX using \\showthe\\columnwidth\n",
    "inches_per_pt = 1.0/72.27               # Convert pt to inches\n",
    "fig_width = fig_width_pt*inches_per_pt  # width in inches\n",
    "\n",
    "\n",
    "def init_mp():\n",
    "    mp = SparseEdges('https://raw.githubusercontent.com/bicv/SparseEdges/master/default_param.py')\n",
    "    mp.pe.datapath = 'database/'\n",
    "    mp.pe.N = 60\n",
    "    mp.pe.do_whitening = True\n",
    "    mp.pe.MP_alpha = 1.\n",
    "    mp.pe.figsize_edges = 12\n",
    "    mp.pe.figsize_edges = .382 * fig_width\n",
    "    mp.pe.scale = 1.3\n",
    "    mp.pe.line_width = 1.5\n",
    "    return mp\n",
    "\n",
    "mp = init_mp()\n",
    "eta_SO = 0.15\n",
    "\n",
    "##############################################################################################################\n",
    "figname = 'circle_in_noise'\n",
    "if False: #os.path.isfile('database/' + figname + '.png'):\n",
    "    # defining input image \n",
    "    from pylab import imread\n",
    "    image = imread('database/' + figname + '.png').mean(axis=-1)\n",
    "    print (image.mean(), image.std())\n",
    "else:\n",
    "    N, N_circle, N_image = 1024, 36, 1\n",
    "    edgeslist = np.zeros((6, N+N_circle, N_image))\n",
    "    np.random.seed(seed=42)\n",
    "    # random edges:\n",
    "    edgeslist[0, :N, :] = mp.pe.N_X * np.random.rand(N, N_image)\n",
    "    edgeslist[1, :N, :] = mp.pe.N_X * np.random.rand(N, N_image)\n",
    "    edgeslist[2, :N, :] = (np.pi* np.random.rand(N, N_image) ) % np.pi\n",
    "    edgeslist[3, :N, :] = 0.5 * (1- mp.pe.base_levels**(-mp.n_levels*(np.random.rand(N, N_image))))\n",
    "    edgeslist[4, :N, :] = 1.25*np.random.rand(N, N_image) * np.sign(np.random.randn(N, N_image))\n",
    "    edgeslist[5, :N, :] = 2*np.pi*np.random.rand(N, N_image)\n",
    "    # cocircular edges:\n",
    "    for i_N, angle in enumerate(np.linspace(0, 2*np.pi, N_circle)): #2*np.pi*np.random.rand(N_circle)):\n",
    "        edgeslist[0, N + i_N, :] = mp.pe.N_X/2. - mp.pe.N_X/4.*np.sin(angle) + .0 * np.random.randn(N_image)\n",
    "        edgeslist[1, N + i_N, :] = mp.pe.N_X/2. + mp.pe.N_X/4.*np.cos(angle) + .0 * np.random.randn(N_image)\n",
    "        edgeslist[2, N + i_N, :] = (np.pi/2 + angle + .5*np.pi/180 * np.random.randn(N_image)) % np.pi\n",
    "        edgeslist[3, N + i_N, :] = mp.sf_0[2] #0.03\n",
    "        edgeslist[4, N + i_N, :] = 1.1 + .15*np.exp(np.cos(angle)/1.**2)\n",
    "\n",
    "    print (edgeslist.shape)\n",
    "    image = mp.reconstruct(edgeslist[:,:,0])\n",
    "    #from pylab import imsave, gray\n",
    "    #imsave(fname='database/' + figname + '.png', arr=image, vmin=image.min(), vmax=image.max(), cmap=gray())\n",
    "\n",
    "image = mp.normalize(image, center=True)\n",
    "print (image.mean(), image.std())\n",
    "v_max = 1.*image.max()\n",
    "v_min = -v_max\n",
    "##############################################################################################################\n",
    "print( ' without edges ')\n",
    "matname = os.path.join(mp.pe.matpath, figname + '_secondorder_A.npy')\n",
    "try:\n",
    "    fig, a = mp.show_edges(edges=np.zeros((6,0)), image=image, v_min=v_min, v_max=v_max, color='toto', show_phase=False) #\n",
    "    if not(figpath==None): mp.savefig(fig, matname.replace('mat/', figpath).replace('.npy', ''))\n",
    "    fig.show()\n",
    "except:\n",
    "    print ('File ', matname, ' is locked')\n",
    "##############################################################################################################\n",
    "print (' without second-order ')\n",
    "matname = os.path.join(mp.pe.matpath, figname + '_secondorder_B.npy')\n",
    "if not(os.path.isfile(matname)):\n",
    "    if not(os.path.isfile(matname + '_lock')):\n",
    "        file(matname + '_lock', 'w').close()\n",
    "        mp.pe.eta_SO = 0.\n",
    "        edges, C_res = mp.run_mp(image, verbose=True)\n",
    "        np.save(matname, edges)\n",
    "        os.remove(matname + '_lock')\n",
    "try:\n",
    "    edges = np.load(matname)\n",
    "    fig, a = mp.show_edges(edges, image=image, v_min=v_min, v_max=v_max, color='toto', show_phase=False) #\n",
    "    if not(figpath==None): mp.savefig(fig, matname.replace('mat/', figpath).replace('.npy', ''))\n",
    "    fig.show()\n",
    "except:\n",
    "    print ('File ', matname, ' is locked')\n",
    "##############################################################################################################\n",
    "print (' with second-order ')\n",
    "matname = os.path.join(mp.pe.matpath, figname + '_secondorder_C.npy')\n",
    "if not(os.path.isfile(matname)):\n",
    "    if not(os.path.isfile(matname + '_lock')):\n",
    "        file(matname + '_lock', 'w').close()\n",
    "        mp.pe.eta_SO = eta_SO\n",
    "        edges, C_res = mp.run_mp(image, verbose=True)\n",
    "        np.save(matname, edges)\n",
    "        os.remove(matname + '_lock')\n",
    "try:\n",
    "    edges = np.load(matname)\n",
    "    edges[4, :] *= -1 # turn red in blue...\n",
    "    fig, a = mp.show_edges(edges, image=image, v_min=v_min, v_max=v_max, color='toto', show_phase=False) #\n",
    "    fig.show()\n",
    "    if not(figpath==None): mp.savefig(fig, matname.replace('mat/', figpath).replace('.npy', ''))\n",
    "\n",
    "except:\n",
    "    print ('File ', matname, ' is locked')\n",
    "##############################################################################################################\n",
    "if True:\n",
    "    N_explore = 25\n",
    "    base = 1.5\n",
    "    ##############################################################################################################\n",
    "    mp = init_mp()\n",
    "    for mp.pe.eta_SO in np.logspace(-1., 1., N_explore, base=base)*eta_SO:\n",
    "        matname = os.path.join(mp.pe.matpath, figname + '_secondorder_eta_SO_' + str(mp.pe.eta_SO).replace('.', '_') + '.npy')\n",
    "        if not(os.path.isfile(matname)):\n",
    "            if not(os.path.isfile(matname + '_lock')):\n",
    "                file(matname + '_lock', 'w').close()\n",
    "                edges, C_res = mp.run_mp(image, verbose=True)\n",
    "                np.save(matname, edges)\n",
    "                os.remove(matname + '_lock')\n",
    "        try:\n",
    "            edges = np.load(matname)\n",
    "            edges[4, :] *= -1 # turn red in blue...\n",
    "            fig, a = mp.show_edges(edges, image=image, v_min=v_min, v_max=v_max, color='toto', show_phase=False) #\n",
    "            fig.savefig(matname.replace('mat/', mp.pe.figpath).replace('.npy', '.pdf'))\n",
    "        except:\n",
    "            print ('File ', matname, ' is locked')\n",
    "        plt.close('all')\n",
    "    ##############################################################################################################\n",
    "    mp = init_mp()\n",
    "    mp.pe.eta_SO = eta_SO\n",
    "    for mp.pe.dip_epsilon in np.linspace(0, 1., N_explore):\n",
    "        matname = os.path.join(mp.pe.matpath, figname + '_secondorder_dip_epsilon_' + str(mp.pe.dip_epsilon).replace('.', '_') + '.npy')\n",
    "        if not(os.path.isfile(matname)):\n",
    "            if not(os.path.isfile(matname + '_lock')):\n",
    "                file(matname + '_lock', 'w').close()\n",
    "                edges, C_res = mp.run_mp(image, verbose=True)\n",
    "                np.save(matname, edges)\n",
    "                os.remove(matname + '_lock')\n",
    "        try:\n",
    "            edges = np.load(matname)\n",
    "            edges[4, :] *= -1 # turn red in blue...\n",
    "            fig, a = mp.show_edges(edges, image=image, v_min=v_min, v_max=v_max, color='toto', show_phase=False) #\n",
    "            fig.savefig(matname.replace('mat/', mp.pe.figpath).replace('.npy', '.pdf'))\n",
    "        except:\n",
    "            print ('File ', matname, ' is locked')\n",
    "        plt.close('all')       \n",
    "    ##############################################################################################################\n",
    "    base = 2.\n",
    "    ##############################################################################################################\n",
    "    mp = init_mp()\n",
    "    mp.pe.eta_SO = eta_SO\n",
    "    for mp.pe.dip_w in np.logspace(-1., 1., N_explore, base=base)*mp.pe.dip_w:\n",
    "        matname = os.path.join(mp.pe.matpath, figname + '_secondorder_dip_w_' + str(mp.pe.dip_w).replace('.', '_') + '.npy')\n",
    "        if not(os.path.isfile(matname)):\n",
    "            if not(os.path.isfile(matname + '_lock')):\n",
    "                file(matname + '_lock', 'w').close()\n",
    "                edges, C_res = mp.run_mp(image, verbose=True)\n",
    "                np.save(matname, edges)\n",
    "                os.remove(matname + '_lock')\n",
    "        try:\n",
    "            edges = np.load(matname)\n",
    "            edges[4, :] *= -1 # turn red in blue...\n",
    "            fig, a = mp.show_edges(edges, image=image, v_min=v_min, v_max=v_max, color='toto', show_phase=False) #\n",
    "            fig.savefig(matname.replace('mat/', mp.pe.figpath).replace('.npy', '.pdf'))\n",
    "        except:\n",
    "            print ('File ', matname, ' is locked')\n",
    "        plt.close('all')\n",
    "    ##############################################################################################################\n",
    "    mp = init_mp()\n",
    "    mp.pe.eta_SO = eta_SO\n",
    "    for mp.pe.dip_B_psi in np.logspace(-1., 1., N_explore, base=base)*mp.pe.dip_B_psi:\n",
    "        matname = os.path.join(mp.pe.matpath, figname + '_secondorder_dip_B_psi_' + str(mp.pe.dip_B_psi).replace('.', '_') + '.npy')\n",
    "        if not(os.path.isfile(matname)):\n",
    "            if not(os.path.isfile(matname + '_lock')):\n",
    "                file(matname + '_lock', 'w').close()\n",
    "                edges, C_res = mp.run_mp(image, verbose=True)\n",
    "                np.save(matname, edges)\n",
    "                os.remove(matname + '_lock')\n",
    "        try:\n",
    "            edges = np.load(matname)\n",
    "            edges[4, :] *= -1 # turn red in blue...\n",
    "            fig, a = mp.show_edges(edges, image=image, v_min=v_min, v_max=v_max, color='toto', show_phase=False) #\n",
    "            fig.savefig(matname.replace('mat/', mp.pe.figpath).replace('.npy', '.pdf'))\n",
    "        except:\n",
    "            print ('File ', matname, ' is locked')\n",
    "        plt.close('all')\n",
    "    ##############################################################################################################\n",
    "    mp = init_mp()\n",
    "    mp.pe.eta_SO = eta_SO\n",
    "    for mp.pe.dip_B_theta in np.logspace(-1., 1., N_explore, base=base)*mp.pe.dip_B_theta:\n",
    "        matname = os.path.join(mp.pe.matpath, figname + '_secondorder_dip_B_theta_' + str(mp.pe.dip_B_theta).replace('.', '_') + '.npy')\n",
    "        if not(os.path.isfile(matname)):\n",
    "            if not(os.path.isfile(matname + '_lock')):\n",
    "                file(matname + '_lock', 'w').close()\n",
    "                edges, C_res = mp.run_mp(image, verbose=True)\n",
    "                np.save(matname, edges)\n",
    "                os.remove(matname + '_lock')\n",
    "        try:\n",
    "            edges = np.load(matname)\n",
    "            edges[4, :] *= -1 # turn red in blue...\n",
    "            fig, a = mp.show_edges(edges, image=image, v_min=v_min, v_max=v_max, color='toto', show_phase=False) #\n",
    "            fig.savefig(matname.replace('mat/', mp.pe.figpath).replace('.npy', '.pdf'))\n",
    "        except:\n",
    "            print( 'File ', matname, ' is locked')\n",
    "        plt.close('all')\n",
    "    ##############################################################################################################\n",
    "    mp = init_mp()\n",
    "    mp.pe.eta_SO = eta_SO\n",
    "    for mp.pe.dip_scale in np.logspace(-1., 1., N_explore, base=base)*mp.pe.dip_scale:\n",
    "        matname = os.path.join(mp.pe.matpath, figname + '_secondorder_dip_scale_' + str(mp.pe.dip_scale).replace('.', '_') + '.npy')\n",
    "        if not(os.path.isfile(matname)):\n",
    "            if not(os.path.isfile(matname + '_lock')):\n",
    "                file(matname + '_lock', 'w').close()\n",
    "                edges, C_res = mp.run_mp(image, verbose=True)\n",
    "                np.save(matname, edges)\n",
    "                os.remove(matname + '_lock')\n",
    "        try:\n",
    "            edges = np.load(matname)\n",
    "            edges[4, :] *= -1 # turn red in blue...\n",
    "            fig, a = mp.show_edges(edges, image=image, v_min=v_min, v_max=v_max, color='toto', show_phase=False) #\n",
    "            fig.savefig(matname.replace('mat/', mp.pe.figpath).replace('.npy', '.pdf'))\n",
    "            fig\n",
    "        except:\n",
    "            print ('File ', matname, ' is locked')\n",
    "        plt.close('all')\n",
    "    ##############################################################################################################\n"
   ]
  },
  {
   "cell_type": "code",
   "execution_count": null,
   "metadata": {},
   "outputs": [],
   "source": [
    "%run experiment_secondorder.py"
   ]
  },
  {
   "cell_type": "raw",
   "metadata": {},
   "source": [
    "!cp figures/circle_in_noise_secondorder_A.* figures/circle_in_noise_secondorder_B.* figures/circle_in_noise_secondorder_C.* ../../CNRS/BICV-book/BICV_sparse/"
   ]
  },
  {
   "cell_type": "markdown",
   "metadata": {},
   "source": [
    "## showing what happens"
   ]
  },
  {
   "cell_type": "code",
   "execution_count": null,
   "metadata": {},
   "outputs": [],
   "source": [
    "import matplotlib\n",
    "#matplotlib.rcParams.update({'font.size': 18, 'font.family': 'STIXGeneral', 'mathtext.fontset': 'stix'})\n",
    "matplotlib.rcParams.update({'text.usetex': False})\n",
    "%matplotlib inline\n",
    "%config InlineBackend.figure_format='retina'\n",
    "import matplotlib.pyplot as plt\n",
    "\n",
    "import numpy as np\n",
    "np.set_printoptions(precision=4)#, suppress=True)\n"
   ]
  },
  {
   "cell_type": "code",
   "execution_count": null,
   "metadata": {},
   "outputs": [],
   "source": [
    "mp = SparseEdgesWithDipole('https://raw.githubusercontent.com/bicv/SparseEdges/master/default_param.py')\n",
    "mp.pe.datapath = 'database/'\n",
    "mp.pe.MP_alpha = 1.\n",
    "mp.pe.N = 210\n",
    "mp.pe.N = 105\n",
    "mp.pe.do_whitening = False\n",
    "#pe.do_whitening = True\n",
    "\n",
    "\n",
    "#figpath = '../../CNRS/BICV-book/BICV_INT/BICV-sparse/'\n",
    "figpath = './'\n",
    "FORMATS = ['pdf', 'eps']\n",
    "fig_width_pt = 318.670  # Get this from LaTeX using \\showthe\\columnwidth\n",
    "inches_per_pt = 1.0/72.27               # Convert pt to inches\n",
    "fig_width = fig_width_pt*inches_per_pt  # width in inches\n",
    "mp.pe.figsize_edges = 12\n",
    "mp.pe.figsize_edges = .382 * fig_width\n",
    "mp.pe.scale = 1.3\n",
    "mp.pe.line_width = 1.5\n",
    "\n",
    "\n",
    "# defining input image \n",
    "from pylab import imread\n",
    "image = imread('https://raw.githubusercontent.com/bicv/SparseEdges/master/database/circle_in_noise.png').mean(axis=-1)\n",
    "print( image.mean(), image.std())\n",
    "\n",
    "image = mp.normalize(image, center=True)\n",
    "print (image.mean(), image.std())\n",
    "v_max = 1.*image.max()\n",
    "v_min = -v_max\n",
    "\n",
    "print( mp.n_levels, mp.sf_0)\n",
    "mp.pe.eta_SO = 0.15"
   ]
  },
  {
   "cell_type": "code",
   "execution_count": null,
   "metadata": {},
   "outputs": [],
   "source": [
    "C = mp.linear_pyramid(image)"
   ]
  },
  {
   "cell_type": "code",
   "execution_count": null,
   "metadata": {},
   "outputs": [],
   "source": [
    "fig = mp.golden_pyramid(C)"
   ]
  },
  {
   "cell_type": "code",
   "execution_count": null,
   "metadata": {},
   "outputs": [],
   "source": [
    "self = mp\n",
    "ind_edge_star = self.argmax(C)\n",
    "coeff = self.pe.MP_alpha * np.absolute(C[ind_edge_star])\n",
    "print ('Max activity  : ', np.absolute(C[ind_edge_star]), ' phase= ', np.angle(C[ind_edge_star], deg=True), ' deg,  @ ', ind_edge_star)"
   ]
  },
  {
   "cell_type": "code",
   "execution_count": null,
   "metadata": {},
   "outputs": [],
   "source": [
    "edges = np.zeros((6, self.pe.N))\n",
    "i_edge = 0\n",
    "logD = np.zeros((self.pe.N_X, self.pe.N_Y, self.pe.n_theta, self.n_levels))#, dtype=np.complex)\n",
    "edges[:, i_edge] = np.array([ind_edge_star[0]*1., ind_edge_star[1]*1.,\n",
    "                                         self.theta[ind_edge_star[2]],\n",
    "                                         self.sf_0[ind_edge_star[3]],\n",
    "                                         coeff, np.angle(C[ind_edge_star])])\n",
    "logD+= np.absolute(C[ind_edge_star]) * self.dipole(edges[:, i_edge])\n",
    "fig = self.golden_pyramid(logD)"
   ]
  },
  {
   "cell_type": "code",
   "execution_count": null,
   "metadata": {},
   "outputs": [],
   "source": [
    "C = self.backprop(C, ind_edge_star)\n",
    "fig = self.golden_pyramid(C + self.pe.eta_SO * logD)"
   ]
  },
  {
   "cell_type": "code",
   "execution_count": null,
   "metadata": {
    "scrolled": false
   },
   "outputs": [],
   "source": [
    "C = mp.linear_pyramid(image)\n",
    "logD = np.zeros((self.pe.N_X, self.pe.N_Y, self.pe.n_theta, self.n_levels))#, dtype=np.complex)\n",
    "for i_edge in range(60):\n",
    "    # MATCHING\n",
    "    ind_edge_star = self.argmax(C * np.exp( self.pe.eta_SO * logD))\n",
    "\n",
    "    coeff = self.pe.MP_alpha * np.absolute(C[ind_edge_star])\n",
    "    # recording\n",
    "    print ('Max activity  : ', np.absolute(C[ind_edge_star]), ' phase= ', np.angle(C[ind_edge_star], deg=True), ' deg,  @ ', ind_edge_star)\n",
    "    edges[:, i_edge] = np.array([ind_edge_star[0]*1., ind_edge_star[1]*1.,\n",
    "                             self.theta[ind_edge_star[2]],\n",
    "                             self.sf_0[ind_edge_star[3]],\n",
    "                             coeff, np.angle(C[ind_edge_star])])\n",
    "    # PURSUIT\n",
    "    if self.pe.eta_SO>0.: logD+= np.absolute(C[ind_edge_star]) * self.dipole(edges[:, i_edge])\n",
    "    C = self.backprop(C, ind_edge_star)\n",
    "    if i_edge%10==0 : fig = self.golden_pyramid(C * np.exp( self.pe.eta_SO * logD))"
   ]
  },
  {
   "cell_type": "code",
   "execution_count": null,
   "metadata": {},
   "outputs": [],
   "source": [
    "image_rec = mp.reconstruct(edges)\n",
    "print ('RMSE-W = ', ((mp.whitening(image)-image_rec)**2).sum()/((mp.whitening(image))**2).sum())\n",
    "\n",
    "mp.pe.scale = 1.\n",
    "mp.pe.line_width = 1.5\n",
    "mp.pe.figsize_edges = 5\n",
    "\n",
    "\n",
    "fig, a = mp.show_edges(edges, image=image_rec*1.)\n"
   ]
  },
  {
   "cell_type": "code",
   "execution_count": null,
   "metadata": {
    "scrolled": false
   },
   "outputs": [],
   "source": [
    "list_of_number_of_edge = range(0, 70, 8)\n",
    "\n",
    "figname = 'circle_in_noise'\n",
    "from pylab import imread\n",
    "image = imread('https://raw.githubusercontent.com/bicv/SparseEdges/master/database/' + figname + '.png').mean(axis=-1)\n",
    "\n",
    "edges_without = np.load('cache_dir/' + figname + '_secondorder_B.npy')\n",
    "edges_without[4, :] *= -1\n",
    "edges_with= np.load('cache_dir/' + figname + '_secondorder_C.npy')\n",
    "\n",
    "\n",
    "mp.pe.scale = 1.\n",
    "mp.pe.line_width = 5.5\n",
    "mp.pe.figsize_edges = 5\n",
    "\n",
    "\n",
    "fig_width = 14\n",
    "\n",
    "for number_of_edge in list_of_number_of_edge:\n",
    "    fig, axs = plt.subplots(1, 2, figsize=(fig_width, fig_width/2))\n",
    "    fig, axs[0] = mp.show_edges(edges_without[:, :number_of_edge], image=image, fig=fig, a=axs[0], color='red', show_phase=False) #\n",
    "    axs[0].text(14, 22, 'N=%d' % number_of_edge, color='red', fontsize=32)\n",
    "    fig, axs[1] = mp.show_edges(edges_with[:, :number_of_edge], image=image, fig=fig, a=axs[1], color='red', show_phase=False) #\n",
    "    plt.tight_layout()\n",
    "    mp.savefig(fig, 'MP_prior_' + str(number_of_edge), figpath='../figures', formats=['png'])\n"
   ]
  },
  {
   "cell_type": "markdown",
   "metadata": {},
   "source": [
    "## some book keeping for the notebook"
   ]
  },
  {
   "cell_type": "code",
   "execution_count": null,
   "metadata": {
    "collapsed": true
   },
   "outputs": [],
   "source": [
    "import watermark"
   ]
  },
  {
   "cell_type": "code",
   "execution_count": null,
   "metadata": {},
   "outputs": [],
   "source": [
    "%watermark"
   ]
  },
  {
   "cell_type": "code",
   "execution_count": null,
   "metadata": {},
   "outputs": [],
   "source": [
    "import version_information\n",
    "%version_information numpy, scipy, matplotlib, sympy"
   ]
  },
  {
   "cell_type": "code",
   "execution_count": null,
   "metadata": {},
   "outputs": [],
   "source": [
    "%cd -q ../notebooks"
   ]
  }
 ],
 "metadata": {
  "kernelspec": {
   "display_name": "Python 3",
   "language": "python",
   "name": "python3"
  },
  "language_info": {
   "codemirror_mode": {
    "name": "ipython",
    "version": 3
   },
   "file_extension": ".py",
   "mimetype": "text/x-python",
   "name": "python",
   "nbconvert_exporter": "python",
   "pygments_lexer": "ipython3",
   "version": "3.6.5"
  },
  "toc": {
   "base_numbering": 1,
   "nav_menu": {},
   "number_sections": true,
   "sideBar": true,
   "skip_h1_title": false,
   "title_cell": "Table of Contents",
   "title_sidebar": "Contents",
   "toc_cell": false,
   "toc_position": {},
   "toc_section_display": true,
   "toc_window_display": false
  },
  "widgets": {
   "state": {
    "8dc056dd8b8b4a8f91b4f3a6bf88b459": {
     "views": [
      {
       "cell_index": 15
      }
     ]
    }
   },
   "version": "1.2.0"
  }
 },
 "nbformat": 4,
 "nbformat_minor": 1
}
